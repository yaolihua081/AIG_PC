{
  "nbformat": 4,
  "nbformat_minor": 0,
  "metadata": {
    "colab": {
      "name": "ReadEbooks_BERT_GPT_XLNET_Summary_MCQ_FAQ_08162021.ipynb",
      "provenance": [],
      "collapsed_sections": [],
      "authorship_tag": "ABX9TyOhmqg5t77lClxlF9QP+hTK",
      "include_colab_link": true
    },
    "kernelspec": {
      "display_name": "Python 3",
      "name": "python3"
    },
    "language_info": {
      "name": "python"
    }
  },
  "cells": [
    {
      "cell_type": "markdown",
      "metadata": {
        "id": "view-in-github",
        "colab_type": "text"
      },
      "source": [
        "<a href=\"https://colab.research.google.com/github/yaolihua081/AIG_PC/blob/main/ReadEbooks_BERT_GPT_XLNET_Summary_MCQ_FAQ_08162021.ipynb\" target=\"_parent\"><img src=\"https://colab.research.google.com/assets/colab-badge.svg\" alt=\"Open In Colab\"/></a>"
      ]
    },
    {
      "cell_type": "code",
      "metadata": {
        "id": "cu6t6qwaVY-y"
      },
      "source": [
        "https://www.gutenberg.org/files/65997/65997-h/65997-h.htm\n",
        "https://www.gutenberg.org/ebooks/65997\n",
        "https://www.gutenberg.org/"
      ],
      "execution_count": null,
      "outputs": []
    },
    {
      "cell_type": "markdown",
      "metadata": {
        "id": "ZtvFx6r6Va3D"
      },
      "source": [
        "#08/10/21, Read freee ebook, literature book\n",
        "#Create summary ,Passage, question, MCQ with 4 choice.\n",
        "#output summary\n",
        "1. Read public book domain link, output the link. Difficult to get all links at one time, so I read a few pages and out put the links, later combine all the links into one file.\n",
        "\n",
        "2. Read each book using Article, and separate by separators to create book chapters.\n",
        "3. BERT, XLNET, GPT2, create summary for each chapter, use max_length=1000, num_sentences=40, and output results. \n",
        "4. Create summary with min_length=100, max_length=200, num_sentences=12, then, for the summary, create MCQ questions and output.\n",
        "5. For the summary from 3., re create summary with min_lengh=100, max_length=200, num_sentemces=12 and output in csv files.\n",
        "6. for files from 5. run program Passage2Question.ipynb, to create MCQ questions for each passage, with item weblink, book title, chapter information.\n",
        "7. TO do. For the summary created in 3 or 5, classify topics with pre trained model from PC 3800 items.\n",
        "8. ALLPublicDomainBook.txt: it contains 1019 book links."
      ]
    },
    {
      "cell_type": "markdown",
      "metadata": {
        "id": "mj5j3wBeqrdC"
      },
      "source": [
        "#Restart Run Time"
      ]
    },
    {
      "cell_type": "code",
      "metadata": {
        "id": "c0_sS6qMqjFC"
      },
      "source": [
        "#!pip install gensim\n",
        "!pip install git+https://github.com/boudinfl/pke.git\n",
        "!python -m spacy download en\n",
        "!pip install bert-extractive-summarizer --upgrade --force-reinstall\n",
        "!pip install spacy==2.2.3 --upgrade --force-reinstall\n",
        "!pip install -U nltk\n",
        "!pip install -U pywsd\n",
        "import nltk\n",
        "nltk.download('stopwords')\n",
        "##nltk.download('popular')\n",
        "!pip install sentencepiece\n",
        "#!pip install BigBirdTokenizer\n",
        "!pip install sentence-transformers==0.2.5.1\n",
        "!pip install transformers==2.6.0"
      ],
      "execution_count": null,
      "outputs": []
    },
    {
      "cell_type": "code",
      "metadata": {
        "id": "SWijf0euAElV"
      },
      "source": [
        "!pip install git+https://github.com/huggingface/transformers"
      ],
      "execution_count": null,
      "outputs": []
    },
    {
      "cell_type": "code",
      "metadata": {
        "id": "8lfobHwu8NFa"
      },
      "source": [
        "from summarizer import Summarizer,TransformerSummarizer\n",
        "\n",
        "bert_model = Summarizer()\n",
        "GPT2_model = TransformerSummarizer(transformer_type=\"GPT2\",transformer_model_key=\"gpt2-medium\")\n",
        "XLNet_model = TransformerSummarizer(transformer_type=\"XLNet\",transformer_model_key=\"xlnet-base-cased\")"
      ],
      "execution_count": null,
      "outputs": []
    },
    {
      "cell_type": "markdown",
      "metadata": {
        "id": "qUXH-Jg7rDf3"
      },
      "source": [
        "#Read an article on web"
      ]
    },
    {
      "cell_type": "code",
      "metadata": {
        "id": "0Qwz_MbOy0mn"
      },
      "source": [
        "!pip install newspaper3k\n",
        "from newspaper import Article\n",
        "from newspaper import Config\n",
        "user_agent = 'Mozilla/5.0 (Macintosh; Intel Mac OS X 10.15; rv:78.0) Gecko/20100101 Firefox/78.0'\n",
        "\n",
        "config = Config()\n",
        "config.browser_user_agent = user_agent\n",
        "config.request_timeout = 20\n"
      ],
      "execution_count": null,
      "outputs": []
    },
    {
      "cell_type": "markdown",
      "metadata": {
        "id": "S9_ljApE4Sqi"
      },
      "source": [
        "#Get URLs from a web site"
      ]
    },
    {
      "cell_type": "code",
      "metadata": {
        "id": "cqSuZxcQ4RTm"
      },
      "source": [
        "!pip install bs4\n",
        "!pip install requests"
      ],
      "execution_count": null,
      "outputs": []
    },
    {
      "cell_type": "code",
      "metadata": {
        "id": "DhTA6Ebj_g4n"
      },
      "source": [
        "import requests\n",
        "from bs4 import BeautifulSoup\n",
        " "
      ],
      "execution_count": null,
      "outputs": []
    },
    {
      "cell_type": "markdown",
      "metadata": {
        "id": "KNYD1C54JKXQ"
      },
      "source": [
        "#Get all public domain book links"
      ]
    },
    {
      "cell_type": "code",
      "metadata": {
        "id": "glukwR7vPq-u"
      },
      "source": [
        "import re\n",
        "urls = 'https://www.gutenberg.org/ebooks/search/?sort_order=downloads'\n",
        "def BookList(url):\n",
        "  grab = requests.get(url)\n",
        "  soup = BeautifulSoup(grab.text, 'html.parser')\n",
        "  bookList=[]\n",
        "  for link in soup.find_all(\"a\"):\n",
        "    data = link.get('href')\n",
        "    data='https://www.gutenberg.org'+str(data)\n",
        "    bookList.append(data)\n",
        "  return bookList\n",
        "\n",
        "def GetBookList(urls,urllinks):\n",
        "  bookList=BookList(urllinks)\n",
        "  alllist=[]\n",
        "  #f = open(fileout, \"w\")\n",
        "  for i in range(len(bookList)):\n",
        "    url=bookList[i]\n",
        "    if urls not in url:\n",
        "      ID_pattern=r'([\\d]{1,6})'\n",
        "      IDs = re.findall(ID_pattern, url)\n",
        "      if (len(IDs)>0):\n",
        "        num=int(IDs[0])\n",
        "        link='https://www.gutenberg.org/files/'+str(num)+\"/\"+str(num)+\"-h/\"+str(num)+\"-h.htm\"\n",
        "        alllist.append(link)\n",
        "        #f.write(link)\n",
        "        #f.write(\"\\n\")\n",
        "  return alllist\n",
        "\n",
        "\n",
        "def ContainBookList(urls,index,bookList):\n",
        "  for j in range(len(bookList)):\n",
        "    url=bookList[j]\n",
        "    if urls in url:\n",
        "      ID_pattern=r'([\\d]{1,6})'\n",
        "      idx= re.findall(ID_pattern, url)\n",
        "      if  idx:  \n",
        "        number=int(idx[0])\n",
        "        if number >= index:\n",
        "          return BookList(url), number \n",
        "  return 0, 0    \n",
        "def AllBookList(urls,urllink,num, start=26):\n",
        "  bookList=BookList(urllink)\n",
        "  index=start\n",
        "  alllist=GetBookList(urls,urllink)\n",
        "  while num>0:\n",
        "    #print(num)\n",
        "    list, idx=ContainBookList(urls,index, bookList)\n",
        "  \n",
        "    if list !=0:\n",
        "      bookList=list\n",
        "      index=idx\n",
        "      for i in range(len(bookList)):\n",
        "        url=bookList[i]\n",
        "        if urls not in url:\n",
        "          ID_pattern=r'([\\d]{1,6})'\n",
        "          IDs = re.findall(ID_pattern, url)\n",
        "          if (len(IDs)>0):\n",
        "            tempnum=int(IDs[0])\n",
        "            link='https://www.gutenberg.org/files/'+str(tempnum)+\"/\"+str(tempnum)+\"-h/\"+str(tempnum)+\"-h.htm\"\n",
        "            alllist.append(link)\n",
        "      num=num-1\n",
        "  #f.close()    \n",
        "  return alllist"
      ],
      "execution_count": null,
      "outputs": []
    },
    {
      "cell_type": "markdown",
      "metadata": {
        "id": "Pjx_lRXJ4Pq9"
      },
      "source": [
        "#Get some pages of book link"
      ]
    },
    {
      "cell_type": "code",
      "metadata": {
        "colab": {
          "base_uri": "https://localhost:8080/"
        },
        "id": "XWtYAlg_KKhL",
        "outputId": "98297288-b283-4319-aa93-7c75f016c146"
      },
      "source": [
        "from google.colab import drive\n",
        "drive.mount('/content/gdrive')"
      ],
      "execution_count": null,
      "outputs": [
        {
          "output_type": "stream",
          "name": "stdout",
          "text": [
            "Mounted at /content/gdrive\n"
          ]
        }
      ]
    },
    {
      "cell_type": "code",
      "metadata": {
        "id": "8e0kAXNbHOTa"
      },
      "source": [
        "number=30\n",
        "fileout=\"/content/gdrive/My Drive/Result/PublicDomainBook30.txt\"\n",
        "urls = 'https://www.gutenberg.org/ebooks/search/?sort_order=downloads'\n",
        "allbooklist=AllBookList(urls,number)\n",
        "\n",
        "f = open(fileout, \"w\")\n",
        "for i in allbooklist:\n",
        "  f.write(str(i))\n",
        "  f.write(\"\\n\")\n",
        "f.close()  "
      ],
      "execution_count": null,
      "outputs": []
    },
    {
      "cell_type": "code",
      "metadata": {
        "id": "isM2-9In_1sX"
      },
      "source": [
        "number=5\n",
        "fileout=\"/content/gdrive/My Drive/Result/PublicDomainBook30-35.txt\"\n",
        "urls = 'https://www.gutenberg.org/ebooks/search/?sort_order=downloads'\n",
        "urllink='https://www.gutenberg.org/ebooks/search/?sort_order=downloads&start_index=751'\n",
        "allbooklist=AllBookList(urls,urllink,number, start=751)\n",
        "\n",
        "f = open(fileout, \"w\")\n",
        "for i in allbooklist:\n",
        "  f.write(str(i))\n",
        "  f.write(\"\\n\")\n",
        "f.close()  "
      ],
      "execution_count": null,
      "outputs": []
    },
    {
      "cell_type": "markdown",
      "metadata": {
        "id": "YAoZj1EeQh1_"
      },
      "source": [
        "#THis code combine all links into one file and out put"
      ]
    },
    {
      "cell_type": "code",
      "metadata": {
        "id": "NG3nClNLaKrT"
      },
      "source": [
        "filein=\"/content/gdrive/My Drive/Result/PublicDomainBook30.txt\"\n",
        "fileObject = open(filein, \"r\")\n",
        "data = fileObject.read()\n",
        "booklist1=data.split('\\n') #776 link\n",
        "\n",
        "filein=\"/content/gdrive/My Drive/Result/PublicDomainBook30-35.txt\"\n",
        "fileObject = open(filein, \"r\")\n",
        "data = fileObject.read()\n",
        "booklist2=data.split('\\n') #776 link\n",
        "\n",
        "filein=\"/content/gdrive/My Drive/Result/PublicDomainBook35-37.txt\"\n",
        "fileObject = open(filein, \"r\")\n",
        "data = fileObject.read()\n",
        "booklist3=data.split('\\n')#776 link\n",
        "\n",
        "filein=\"/content/gdrive/My Drive/Result/PublicDomainBook37-39.txt\"\n",
        "fileObject = open(filein, \"r\")\n",
        "data = fileObject.read()\n",
        "booklist4=data.split('\\n')#776 link\n",
        "\n",
        "booklist1.extend(booklist2)\n",
        "booklist1.extend(booklist3)\n",
        "booklist1.extend(booklist4)\n",
        "allbooklist=list(set(booklist1))\n",
        "booklist=[x for x in allbooklist if x !=\"\"]\n",
        "fileout=\"/content/gdrive/My Drive/Result/PublicDomainBook.txt\"\n",
        "f = open(fileout, \"w\")\n",
        "for i in allbooklist:\n",
        "  f.write(str(i))\n",
        "  f.write(\"\\n\")\n",
        "f.close()  "
      ],
      "execution_count": null,
      "outputs": []
    },
    {
      "cell_type": "code",
      "metadata": {
        "id": "4Iiv3I81PALH"
      },
      "source": [
        "fileout=\"/content/gdrive/My Drive/Result/AllPublicDomainBook.txt\"\n",
        "f = open(fileout, \"w\")\n",
        "for i in allbooklist:\n",
        "  f.write(str(i))\n",
        "  f.write(\"\\n\")\n",
        "f.close()  "
      ],
      "execution_count": null,
      "outputs": []
    },
    {
      "cell_type": "code",
      "metadata": {
        "id": "3NhNpQptsISh"
      },
      "source": [
        "import re, numpy as np, pandas as pd\n",
        "np.random.seed(400)\n",
        "\n"
      ],
      "execution_count": null,
      "outputs": []
    },
    {
      "cell_type": "code",
      "metadata": {
        "id": "-583U3215aAS"
      },
      "source": [
        "\n",
        "fileout=\"/content/gdrive/My Drive/Result/PublicDomainBook.csv\"\n",
        "df=set(allbooklist)\n",
        "pd.DataFrame(df).to_csv(fileout)"
      ],
      "execution_count": null,
      "outputs": []
    },
    {
      "cell_type": "code",
      "metadata": {
        "colab": {
          "resources": {
            "http://localhost:8080/nbextensions/google.colab/files.js": {
              "data": "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",
              "ok": true,
              "headers": [
                [
                  "content-type",
                  "application/javascript"
                ]
              ],
              "status": 200,
              "status_text": ""
            }
          },
          "base_uri": "https://localhost:8080/",
          "height": 111
        },
        "id": "8lgbH1eDKq8r",
        "outputId": "e7d0ddf2-7a36-4df9-ee88-c21a4cbf9a8f"
      },
      "source": [
        "from google.colab import files\n",
        "files.upload()"
      ],
      "execution_count": null,
      "outputs": [
        {
          "output_type": "display_data",
          "data": {
            "text/html": [
              "\n",
              "     <input type=\"file\" id=\"files-683bbb3e-511d-4f78-93f7-6960f2b96808\" name=\"files[]\" multiple disabled\n",
              "        style=\"border:none\" />\n",
              "     <output id=\"result-683bbb3e-511d-4f78-93f7-6960f2b96808\">\n",
              "      Upload widget is only available when the cell has been executed in the\n",
              "      current browser session. Please rerun this cell to enable.\n",
              "      </output>\n",
              "      <script src=\"/nbextensions/google.colab/files.js\"></script> "
            ],
            "text/plain": [
              "<IPython.core.display.HTML object>"
            ]
          },
          "metadata": {}
        },
        {
          "output_type": "stream",
          "name": "stdout",
          "text": [
            "Saving AllPublicDomainBook.txt to AllPublicDomainBook.txt\n"
          ]
        },
        {
          "output_type": "execute_result",
          "data": {
            "text/plain": [
              "{'AllPublicDomainBook.txt': b'https://www.gutenberg.org/files/600/600-h/600-h.htm\\nhttps://www.gutenberg.org/files/31284/31284-h/31284-h.htm\\nhttps://www.gutenberg.org/files/383/383-h/383-h.htm\\nhttps://www.gutenberg.org/files/1056/1056-h/1056-h.htm\\nhttps://www.gutenberg.org/files/66033/66033-h/66033-h.htm\\nhttps://www.gutenberg.org/files/28500/28500-h/28500-h.htm\\nhttps://www.gutenberg.org/files/66109/66109-h/66109-h.htm\\nhttps://www.gutenberg.org/files/66003/66003-h/66003-h.htm\\nhttps://www.gutenberg.org/files/1497/1497-h/1497-h.htm\\nhttps://www.gutenberg.org/files/20239/20239-h/20239-h.htm\\nhttps://www.gutenberg.org/files/25063/25063-h/25063-h.htm\\nhttps://www.gutenberg.org/files/3761/3761-h/3761-h.htm\\nhttps://www.gutenberg.org/files/1155/1155-h/1155-h.htm\\nhttps://www.gutenberg.org/files/66024/66024-h/66024-h.htm\\nhttps://www.gutenberg.org/files/5998/5998-h/5998-h.htm\\nhttps://www.gutenberg.org/files/18442/18442-h/18442-h.htm\\nhttps://www.gutenberg.org/files/66011/66011-h/66011-h.htm\\nhttps://www.gutenberg.org/files/141/141-h/141-h.htm\\nhttps://www.gutenberg.org/files/147/147-h/147-h.htm\\nhttps://www.gutenberg.org/files/55201/55201-h/55201-h.htm\\nhttps://www.gutenberg.org/files/883/883-h/883-h.htm\\nhttps://www.gutenberg.org/files/11339/11339-h/11339-h.htm\\nhttps://www.gutenberg.org/files/34811/34811-h/34811-h.htm\\nhttps://www.gutenberg.org/files/2274/2274-h/2274-h.htm\\nhttps://www.gutenberg.org/files/19860/19860-h/19860-h.htm\\nhttps://www.gutenberg.org/files/2542/2542-h/2542-h.htm\\nhttps://www.gutenberg.org/files/45001/45001-h/45001-h.htm\\nhttps://www.gutenberg.org/files/28979/28979-h/28979-h.htm\\nhttps://www.gutenberg.org/files/6686/6686-h/6686-h.htm\\nhttps://www.gutenberg.org/files/10609/10609-h/10609-h.htm\\nhttps://www.gutenberg.org/files/37536/37536-h/37536-h.htm\\nhttps://www.gutenberg.org/files/130/130-h/130-h.htm\\nhttps://www.gutenberg.org/files/512/512-h/512-h.htm\\nhttps://www.gutenberg.org/files/66030/66030-h/66030-h.htm\\nhttps://www.gutenberg.org/files/7178/7178-h/7178-h.htm\\nhttps://www.gutenberg.org/files/15353/15353-h/15353-h.htm\\nhttps://www.gutenberg.org/files/12814/12814-h/12814-h.htm\\nhttps://www.gutenberg.org/files/11937/11937-h/11937-h.htm\\nhttps://www.gutenberg.org/files/18947/18947-h/18947-h.htm\\nhttps://www.gutenberg.org/files/6762/6762-h/6762-h.htm\\nhttps://www.gutenberg.org/files/52915/52915-h/52915-h.htm\\nhttps://www.gutenberg.org/files/31/31-h/31-h.htm\\nhttps://www.gutenberg.org/files/2397/2397-h/2397-h.htm\\nhttps://www.gutenberg.org/files/19337/19337-h/19337-h.htm\\nhttps://www.gutenberg.org/files/49018/49018-h/49018-h.htm\\nhttps://www.gutenberg.org/files/5682/5682-h/5682-h.htm\\nhttps://www.gutenberg.org/files/3186/3186-h/3186-h.htm\\nhttps://www.gutenberg.org/files/1184/1184-h/1184-h.htm\\nhttps://www.gutenberg.org/files/779/779-h/779-h.htm\\nhttps://www.gutenberg.org/files/82/82-h/82-h.htm\\nhttps://www.gutenberg.org/files/910/910-h/910-h.htm\\nhttps://www.gutenberg.org/files/18735/18735-h/18735-h.htm\\nhttps://www.gutenberg.org/files/5739/5739-h/5739-h.htm\\nhttps://www.gutenberg.org/files/24737/24737-h/24737-h.htm\\nhttps://www.gutenberg.org/files/10741/10741-h/10741-h.htm\\nhttps://www.gutenberg.org/files/30241/30241-h/30241-h.htm\\nhttps://www.gutenberg.org/files/65979/65979-h/65979-h.htm\\nhttps://www.gutenberg.org/files/1292/1292-h/1292-h.htm\\nhttps://www.gutenberg.org/files/66070/66070-h/66070-h.htm\\nhttps://www.gutenberg.org/files/22400/22400-h/22400-h.htm\\nhttps://www.gutenberg.org/files/8578/8578-h/8578-h.htm\\nhttps://www.gutenberg.org/files/2833/2833-h/2833-h.htm\\nhttps://www.gutenberg.org/files/66088/66088-h/66088-h.htm\\nhttps://www.gutenberg.org/files/26659/26659-h/26659-h.htm\\nhttps://www.gutenberg.org/files/15114/15114-h/15114-h.htm\\nhttps://www.gutenberg.org/files/65939/65939-h/65939-h.htm\\nhttps://www.gutenberg.org/files/65926/65926-h/65926-h.htm\\nhttps://www.gutenberg.org/files/66072/66072-h/66072-h.htm\\nhttps://www.gutenberg.org/files/36020/36020-h/36020-h.htm\\nhttps://www.gutenberg.org/files/8147/8147-h/8147-h.htm\\nhttps://www.gutenberg.org/files/103/103-h/103-h.htm\\nhttps://www.gutenberg.org/files/65909/65909-h/65909-h.htm\\nhttps://www.gutenberg.org/files/66068/66068-h/66068-h.htm\\nhttps://www.gutenberg.org/files/204/204-h/204-h.htm\\nhttps://www.gutenberg.org/files/4015/4015-h/4015-h.htm\\nhttps://www.gutenberg.org/files/32474/32474-h/32474-h.htm\\nhttps://www.gutenberg.org/files/14209/14209-h/14209-h.htm\\nhttps://www.gutenberg.org/files/42/42-h/42-h.htm\\nhttps://www.gutenberg.org/files/18251/18251-h/18251-h.htm\\nhttps://www.gutenberg.org/files/38594/38594-h/38594-h.htm\\nhttps://www.gutenberg.org/files/66031/66031-h/66031-h.htm\\nhttps://www.gutenberg.org/files/23218/23218-h/23218-h.htm\\nhttps://www.gutenberg.org/files/35949/35949-h/35949-h.htm\\nhttps://www.gutenberg.org/files/10625/10625-h/10625-h.htm\\nhttps://www.gutenberg.org/files/31552/31552-h/31552-h.htm\\nhttps://www.gutenberg.org/files/3178/3178-h/3178-h.htm\\nhttps://www.gutenberg.org/files/44747/44747-h/44747-h.htm\\nhttps://www.gutenberg.org/files/1726/1726-h/1726-h.htm\\nhttps://www.gutenberg.org/files/33870/33870-h/33870-h.htm\\nhttps://www.gutenberg.org/files/39293/39293-h/39293-h.htm\\nhttps://www.gutenberg.org/files/15250/15250-h/15250-h.htm\\nhttps://www.gutenberg.org/files/40074/40074-h/40074-h.htm\\nhttps://www.gutenberg.org/files/830/830-h/830-h.htm\\nhttps://www.gutenberg.org/files/25942/25942-h/25942-h.htm\\nhttps://www.gutenberg.org/files/36853/36853-h/36853-h.htm\\nhttps://www.gutenberg.org/files/14314/14314-h/14314-h.htm\\nhttps://www.gutenberg.org/files/65908/65908-h/65908-h.htm\\nhttps://www.gutenberg.org/files/42796/42796-h/42796-h.htm\\nhttps://www.gutenberg.org/files/58866/58866-h/58866-h.htm\\nhttps://www.gutenberg.org/files/59/59-h/59-h.htm\\nhttps://www.gutenberg.org/files/15143/15143-h/15143-h.htm\\nhttps://www.gutenberg.org/files/16452/16452-h/16452-h.htm\\nhttps://www.gutenberg.org/files/4367/4367-h/4367-h.htm\\nhttps://www.gutenberg.org/files/2446/2446-h/2446-h.htm\\nhttps://www.gutenberg.org/files/65981/65981-h/65981-h.htm\\nhttps://www.gutenberg.org/files/65901/65901-h/65901-h.htm\\nhttps://www.gutenberg.org/files/10135/10135-h/10135-h.htm\\nhttps://www.gutenberg.org/files/30568/30568-h/30568-h.htm\\nhttps://www.gutenberg.org/files/66080/66080-h/66080-h.htm\\nhttps://www.gutenberg.org/files/2490/2490-h/2490-h.htm\\nhttps://www.gutenberg.org/files/201/201-h/201-h.htm\\nhttps://www.gutenberg.org/files/7256/7256-h/7256-h.htm\\nhttps://www.gutenberg.org/files/34632/34632-h/34632-h.htm\\nhttps://www.gutenberg.org/files/9830/9830-h/9830-h.htm\\nhttps://www.gutenberg.org/files/4018/4018-h/4018-h.htm\\nhttps://www.gutenberg.org/files/153/153-h/153-h.htm\\nhttps://www.gutenberg.org/files/3172/3172-h/3172-h.htm\\nhttps://www.gutenberg.org/files/1150/1150-h/1150-h.htm\\nhttps://www.gutenberg.org/files/51356/51356-h/51356-h.htm\\nhttps://www.gutenberg.org/files/2776/2776-h/2776-h.htm\\nhttps://www.gutenberg.org/files/65952/65952-h/65952-h.htm\\nhttps://www.gutenberg.org/files/66075/66075-h/66075-h.htm\\nhttps://www.gutenberg.org/files/66084/66084-h/66084-h.htm\\nhttps://www.gutenberg.org/files/1301/1301-h/1301-h.htm\\nhttps://www.gutenberg.org/files/15456/15456-h/15456-h.htm\\nhttps://www.gutenberg.org/files/3207/3207-h/3207-h.htm\\nhttps://www.gutenberg.org/files/202/202-h/202-h.htm\\nhttps://www.gutenberg.org/files/2040/2040-h/2040-h.htm\\nhttps://www.gutenberg.org/files/66029/66029-h/66029-h.htm\\nhttps://www.gutenberg.org/files/21197/21197-h/21197-h.htm\\nhttps://www.gutenberg.org/files/2527/2527-h/2527-h.htm\\nhttps://www.gutenberg.org/files/66015/66015-h/66015-h.htm\\nhttps://www.gutenberg.org/files/479/479-h/479-h.htm\\nhttps://www.gutenberg.org/files/65972/65972-h/65972-h.htm\\nhttps://www.gutenberg.org/files/57493/57493-h/57493-h.htm\\nhttps://www.gutenberg.org/files/45631/45631-h/45631-h.htm\\nhttps://www.gutenberg.org/files/2600/2600-h/2600-h.htm\\nhttps://www.gutenberg.org/files/16643/16643-h/16643-h.htm\\nhttps://www.gutenberg.org/files/10/10-h/10-h.htm\\nhttps://www.gutenberg.org/files/66092/66092-h/66092-h.htm\\nhttps://www.gutenberg.org/files/50603/50603-h/50603-h.htm\\nhttps://www.gutenberg.org/files/10007/10007-h/10007-h.htm\\nhttps://www.gutenberg.org/files/15474/15474-h/15474-h.htm\\nhttps://www.gutenberg.org/files/1293/1293-h/1293-h.htm\\nhttps://www.gutenberg.org/files/45109/45109-h/45109-h.htm\\nhttps://www.gutenberg.org/files/41/41-h/41-h.htm\\nhttps://www.gutenberg.org/files/3188/3188-h/3188-h.htm\\nhttps://www.gutenberg.org/files/1321/1321-h/1321-h.htm\\nhttps://www.gutenberg.org/files/9404/9404-h/9404-h.htm\\nhttps://www.gutenberg.org/files/541/541-h/541-h.htm\\nhttps://www.gutenberg.org/files/65936/65936-h/65936-h.htm\\nhttps://www.gutenberg.org/files/20321/20321-h/20321-h.htm\\nhttps://www.gutenberg.org/files/708/708-h/708-h.htm\\nhttps://www.gutenberg.org/files/7128/7128-h/7128-h.htm\\nhttps://www.gutenberg.org/files/61236/61236-h/61236-h.htm\\nhttps://www.gutenberg.org/files/45502/45502-h/45502-h.htm\\nhttps://www.gutenberg.org/files/16042/16042-h/16042-h.htm\\nhttps://www.gutenberg.org/files/65980/65980-h/65980-h.htm\\nhttps://www.gutenberg.org/files/65954/65954-h/65954-h.htm\\nhttps://www.gutenberg.org/files/139/139-h/139-h.htm\\nhttps://www.gutenberg.org/files/12242/12242-h/12242-h.htm\\nhttps://www.gutenberg.org/files/31383/31383-h/31383-h.htm\\nhttps://www.gutenberg.org/files/5402/5402-h/5402-h.htm\\nhttps://www.gutenberg.org/files/7025/7025-h/7025-h.htm\\nhttps://www.gutenberg.org/files/158/158-h/158-h.htm\\nhttps://www.gutenberg.org/files/59254/59254-h/59254-h.htm\\nhttps://www.gutenberg.org/files/10947/10947-h/10947-h.htm\\nhttps://www.gutenberg.org/files/1531/1531-h/1531-h.htm\\nhttps://www.gutenberg.org/files/32488/32488-h/32488-h.htm\\nhttps://www.gutenberg.org/files/1079/1079-h/1079-h.htm\\nhttps://www.gutenberg.org/files/15665/15665-h/15665-h.htm\\nhttps://www.gutenberg.org/files/14244/14244-h/14244-h.htm\\nhttps://www.gutenberg.org/files/1228/1228-h/1228-h.htm\\nhttps://www.gutenberg.org/files/580/580-h/580-h.htm\\nhttps://www.gutenberg.org/files/66042/66042-h/66042-h.htm\\nhttps://www.gutenberg.org/files/1600/1600-h/1600-h.htm\\nhttps://www.gutenberg.org/files/59466/59466-h/59466-h.htm\\nhttps://www.gutenberg.org/files/829/829-h/829-h.htm\\nhttps://www.gutenberg.org/files/821/821-h/821-h.htm\\nhttps://www.gutenberg.org/files/36098/36098-h/36098-h.htm\\nhttps://www.gutenberg.org/files/5658/5658-h/5658-h.htm\\nhttps://www.gutenberg.org/files/13707/13707-h/13707-h.htm\\nhttps://www.gutenberg.org/files/8164/8164-h/8164-h.htm\\nhttps://www.gutenberg.org/files/4010/4010-h/4010-h.htm\\nhttps://www.gutenberg.org/files/2428/2428-h/2428-h.htm\\nhttps://www.gutenberg.org/files/20480/20480-h/20480-h.htm\\nhttps://www.gutenberg.org/files/66066/66066-h/66066-h.htm\\nhttps://www.gutenberg.org/files/66052/66052-h/66052-h.htm\\nhttps://www.gutenberg.org/files/10150/10150-h/10150-h.htm\\nhttps://www.gutenberg.org/files/816/816-h/816-h.htm\\nhttps://www.gutenberg.org/files/65949/65949-h/65949-h.htm\\nhttps://www.gutenberg.org/files/66038/66038-h/66038-h.htm\\nhttps://www.gutenberg.org/files/10800/10800-h/10800-h.htm\\nhttps://www.gutenberg.org/files/63203/63203-h/63203-h.htm\\nhttps://www.gutenberg.org/files/29765/29765-h/29765-h.htm\\nhttps://www.gutenberg.org/files/2232/2232-h/2232-h.htm\\nhttps://www.gutenberg.org/files/27673/27673-h/27673-h.htm\\nhttps://www.gutenberg.org/files/1257/1257-h/1257-h.htm\\nhttps://www.gutenberg.org/files/13650/13650-h/13650-h.htm\\nhttps://www.gutenberg.org/files/8525/8525-h/8525-h.htm\\nhttps://www.gutenberg.org/files/1567/1567-h/1567-h.htm\\nhttps://www.gutenberg.org/files/65997/65997-h/65997-h.htm\\nhttps://www.gutenberg.org/files/59603/59603-h/59603-h.htm\\nhttps://www.gutenberg.org/files/66125/66125-h/66125-h.htm\\nhttps://www.gutenberg.org/files/66094/66094-h/66094-h.htm\\nhttps://www.gutenberg.org/files/1063/1063-h/1063-h.htm\\nhttps://www.gutenberg.org/files/3177/3177-h/3177-h.htm\\nhttps://www.gutenberg.org/files/11438/11438-h/11438-h.htm\\nhttps://www.gutenberg.org/files/11224/11224-h/11224-h.htm\\nhttps://www.gutenberg.org/files/29728/29728-h/29728-h.htm\\nhttps://www.gutenberg.org/files/155/155-h/155-h.htm\\nhttps://www.gutenberg.org/files/28497/28497-h/28497-h.htm\\nhttps://www.gutenberg.org/files/66036/66036-h/66036-h.htm\\nhttps://www.gutenberg.org/files/66138/66138-h/66138-h.htm\\nhttps://www.gutenberg.org/files/17396/17396-h/17396-h.htm\\nhttps://www.gutenberg.org/files/242/242-h/242-h.htm\\nhttps://www.gutenberg.org/files/30254/30254-h/30254-h.htm\\nhttps://www.gutenberg.org/files/56597/56597-h/56597-h.htm\\nhttps://www.gutenberg.org/files/13529/13529-h/13529-h.htm\\nhttps://www.gutenberg.org/files/66136/66136-h/66136-h.htm\\nhttps://www.gutenberg.org/files/65966/65966-h/65966-h.htm\\nhttps://www.gutenberg.org/files/540/540-h/540-h.htm\\nhttps://www.gutenberg.org/files/4980/4980-h/4980-h.htm\\nhttps://www.gutenberg.org/files/42390/42390-h/42390-h.htm\\nhttps://www.gutenberg.org/files/1514/1514-h/1514-h.htm\\nhttps://www.gutenberg.org/files/9800/9800-h/9800-h.htm\\nhttps://www.gutenberg.org/files/65970/65970-h/65970-h.htm\\nhttps://www.gutenberg.org/files/65944/65944-h/65944-h.htm\\nhttps://www.gutenberg.org/files/66063/66063-h/66063-h.htm\\nhttps://www.gutenberg.org/files/7241/7241-h/7241-h.htm\\nhttps://www.gutenberg.org/files/3825/3825-h/3825-h.htm\\nhttps://www.gutenberg.org/files/20228/20228-h/20228-h.htm\\nhttps://www.gutenberg.org/files/7439/7439-h/7439-h.htm\\nhttps://www.gutenberg.org/files/66108/66108-h/66108-h.htm\\nhttps://www.gutenberg.org/files/6087/6087-h/6087-h.htm\\nhttps://www.gutenberg.org/files/8486/8486-h/8486-h.htm\\nhttps://www.gutenberg.org/files/56315/56315-h/56315-h.htm\\nhttps://www.gutenberg.org/files/17489/17489-h/17489-h.htm\\nhttps://www.gutenberg.org/files/1661/1661-h/1661-h.htm\\nhttps://www.gutenberg.org/files/3011/3011-h/3011-h.htm\\nhttps://www.gutenberg.org/files/62942/62942-h/62942-h.htm\\nhttps://www.gutenberg.org/files/17474/17474-h/17474-h.htm\\nhttps://www.gutenberg.org/files/10623/10623-h/10623-h.htm\\nhttps://www.gutenberg.org/files/38145/38145-h/38145-h.htm\\nhttps://www.gutenberg.org/files/66106/66106-h/66106-h.htm\\nhttps://www.gutenberg.org/files/8789/8789-h/8789-h.htm\\nhttps://www.gutenberg.org/files/42324/42324-h/42324-h.htm\\nhttps://www.gutenberg.org/files/1001/1001-h/1001-h.htm\\nhttps://www.gutenberg.org/files/119/119-h/119-h.htm\\nhttps://www.gutenberg.org/files/785/785-h/785-h.htm\\nhttps://www.gutenberg.org/files/17192/17192-h/17192-h.htm\\nhttps://www.gutenberg.org/files/786/786-h/786-h.htm\\nhttps://www.gutenberg.org/files/696/696-h/696-h.htm\\nhttps://www.gutenberg.org/files/65938/65938-h/65938-h.htm\\nhttps://www.gutenberg.org/files/23042/23042-h/23042-h.htm\\nhttps://www.gutenberg.org/files/27805/27805-h/27805-h.htm\\nhttps://www.gutenberg.org/files/29214/29214-h/29214-h.htm\\nhttps://www.gutenberg.org/files/6737/6737-h/6737-h.htm\\nhttps://www.gutenberg.org/files/65931/65931-h/65931-h.htm\\nhttps://www.gutenberg.org/files/1653/1653-h/1653-h.htm\\nhttps://www.gutenberg.org/files/16317/16317-h/16317-h.htm\\nhttps://www.gutenberg.org/files/66055/66055-h/66055-h.htm\\nhttps://www.gutenberg.org/files/14837/14837-h/14837-h.htm\\nhttps://www.gutenberg.org/files/25929/25929-h/25929-h.htm\\nhttps://www.gutenberg.org/files/15272/15272-h/15272-h.htm\\nhttps://www.gutenberg.org/files/40686/40686-h/40686-h.htm\\nhttps://www.gutenberg.org/files/41562/41562-h/41562-h.htm\\nhttps://www.gutenberg.org/files/25344/25344-h/25344-h.htm\\nhttps://www.gutenberg.org/files/61168/61168-h/61168-h.htm\\nhttps://www.gutenberg.org/files/996/996-h/996-h.htm\\nhttps://www.gutenberg.org/files/20203/20203-h/20203-h.htm\\nhttps://www.gutenberg.org/files/421/421-h/421-h.htm\\nhttps://www.gutenberg.org/files/30201/30201-h/30201-h.htm\\nhttps://www.gutenberg.org/files/66004/66004-h/66004-h.htm\\nhttps://www.gutenberg.org/files/54824/54824-h/54824-h.htm\\nhttps://www.gutenberg.org/files/8300/8300-h/8300-h.htm\\nhttps://www.gutenberg.org/files/21/21-h/21-h.htm\\nhttps://www.gutenberg.org/files/3435/3435-h/3435-h.htm\\nhttps://www.gutenberg.org/files/2488/2488-h/2488-h.htm\\nhttps://www.gutenberg.org/files/2848/2848-h/2848-h.htm\\nhttps://www.gutenberg.org/files/503/503-h/503-h.htm\\nhttps://www.gutenberg.org/files/35688/35688-h/35688-h.htm\\nhttps://www.gutenberg.org/files/38269/38269-h/38269-h.htm\\nhttps://www.gutenberg.org/files/1429/1429-h/1429-h.htm\\nhttps://www.gutenberg.org/files/1998/1998-h/1998-h.htm\\nhttps://www.gutenberg.org/files/66008/66008-h/66008-h.htm\\nhttps://www.gutenberg.org/files/71/71-h/71-h.htm\\nhttps://www.gutenberg.org/files/3300/3300-h/3300-h.htm\\nhttps://www.gutenberg.org/files/46681/46681-h/46681-h.htm\\nhttps://www.gutenberg.org/files/754/754-h/754-h.htm\\nhttps://www.gutenberg.org/files/38427/38427-h/38427-h.htm\\nhttps://www.gutenberg.org/files/55195/55195-h/55195-h.htm\\nhttps://www.gutenberg.org/files/1513/1513-h/1513-h.htm\\nhttps://www.gutenberg.org/files/23661/23661-h/23661-h.htm\\nhttps://www.gutenberg.org/files/2434/2434-h/2434-h.htm\\nhttps://www.gutenberg.org/files/41360/41360-h/41360-h.htm\\nhttps://www.gutenberg.org/files/1200/1200-h/1200-h.htm\\nhttps://www.gutenberg.org/files/236/236-h/236-h.htm\\nhttps://www.gutenberg.org/files/32854/32854-h/32854-h.htm\\nhttps://www.gutenberg.org/files/544/544-h/544-h.htm\\nhttps://www.gutenberg.org/files/2148/2148-h/2148-h.htm\\nhttps://www.gutenberg.org/files/2981/2981-h/2981-h.htm\\nhttps://www.gutenberg.org/files/2003/2003-h/2003-h.htm\\nhttps://www.gutenberg.org/files/66060/66060-h/66060-h.htm\\nhttps://www.gutenberg.org/files/1399/1399-h/1399-h.htm\\nhttps://www.gutenberg.org/files/20411/20411-h/20411-h.htm\\nhttps://www.gutenberg.org/files/14975/14975-h/14975-h.htm\\nhttps://www.gutenberg.org/files/833/833-h/833-h.htm\\nhttps://www.gutenberg.org/files/52839/52839-h/52839-h.htm\\nhttps://www.gutenberg.org/files/66061/66061-h/66061-h.htm\\nhttps://www.gutenberg.org/files/51233/51233-h/51233-h.htm\\nhttps://www.gutenberg.org/files/8102/8102-h/8102-h.htm\\nhttps://www.gutenberg.org/files/65956/65956-h/65956-h.htm\\nhttps://www.gutenberg.org/files/14328/14328-h/14328-h.htm\\nhttps://www.gutenberg.org/files/65947/65947-h/65947-h.htm\\nhttps://www.gutenberg.org/files/12/12-h/12-h.htm\\nhttps://www.gutenberg.org/files/148/148-h/148-h.htm\\nhttps://www.gutenberg.org/files/650/650-h/650-h.htm\\nhttps://www.gutenberg.org/files/51/51-h/51-h.htm\\nhttps://www.gutenberg.org/files/657/657-h/657-h.htm\\nhttps://www.gutenberg.org/files/45368/45368-h/45368-h.htm\\nhttps://www.gutenberg.org/files/790/790-h/790-h.htm\\nhttps://www.gutenberg.org/files/4276/4276-h/4276-h.htm\\nhttps://www.gutenberg.org/files/65945/65945-h/65945-h.htm\\nhttps://www.gutenberg.org/files/16653/16653-h/16653-h.htm\\nhttps://www.gutenberg.org/files/13437/13437-h/13437-h.htm\\nhttps://www.gutenberg.org/files/2591/2591-h/2591-h.htm\\nhttps://www.gutenberg.org/files/902/902-h/902-h.htm\\nhttps://www.gutenberg.org/files/2130/2130-h/2130-h.htm\\nhttps://www.gutenberg.org/files/1064/1064-h/1064-h.htm\\nhttps://www.gutenberg.org/files/34206/34206-h/34206-h.htm\\nhttps://www.gutenberg.org/files/12096/12096-h/12096-h.htm\\nhttps://www.gutenberg.org/files/10662/10662-h/10662-h.htm\\nhttps://www.gutenberg.org/files/65919/65919-h/65919-h.htm\\nhttps://www.gutenberg.org/files/10636/10636-h/10636-h.htm\\nhttps://www.gutenberg.org/files/24440/24440-h/24440-h.htm\\nhttps://www.gutenberg.org/files/1404/1404-h/1404-h.htm\\nhttps://www.gutenberg.org/files/53430/53430-h/53430-h.htm\\nhttps://www.gutenberg.org/files/11/11-h/11-h.htm\\nhttps://www.gutenberg.org/files/70/70-h/70-h.htm\\nhttps://www.gutenberg.org/files/40868/40868-h/40868-h.htm\\nhttps://www.gutenberg.org/files/46976/46976-h/46976-h.htm\\nhttps://www.gutenberg.org/files/45839/45839-h/45839-h.htm\\nhttps://www.gutenberg.org/files/9662/9662-h/9662-h.htm\\nhttps://www.gutenberg.org/files/7452/7452-h/7452-h.htm\\nhttps://www.gutenberg.org/files/1260/1260-h/1260-h.htm\\nhttps://www.gutenberg.org/files/65903/65903-h/65903-h.htm\\nhttps://www.gutenberg.org/files/110/110-h/110-h.htm\\nhttps://www.gutenberg.org/files/48320/48320-h/48320-h.htm\\nhttps://www.gutenberg.org/files/14640/14640-h/14640-h.htm\\nhttps://www.gutenberg.org/files/66041/66041-h/66041-h.htm\\nhttps://www.gutenberg.org/files/19994/19994-h/19994-h.htm\\nhttps://www.gutenberg.org/files/1280/1280-h/1280-h.htm\\nhttps://www.gutenberg.org/files/2814/2814-h/2814-h.htm\\nhttps://www.gutenberg.org/files/50742/50742-h/50742-h.htm\\nhttps://www.gutenberg.org/files/1094/1094-h/1094-h.htm\\nhttps://www.gutenberg.org/files/2788/2788-h/2788-h.htm\\nhttps://www.gutenberg.org/files/66048/66048-h/66048-h.htm\\nhttps://www.gutenberg.org/files/61262/61262-h/61262-h.htm\\nhttps://www.gutenberg.org/files/228/228-h/228-h.htm\\nhttps://www.gutenberg.org/files/23/23-h/23-h.htm\\nhttps://www.gutenberg.org/files/61221/61221-h/61221-h.htm\\nhttps://www.gutenberg.org/files/37485/37485-h/37485-h.htm\\nhttps://www.gutenberg.org/files/66086/66086-h/66086-h.htm\\nhttps://www.gutenberg.org/files/13701/13701-h/13701-h.htm\\nhttps://www.gutenberg.org/files/15489/15489-h/15489-h.htm\\nhttps://www.gutenberg.org/files/6400/6400-h/6400-h.htm\\nhttps://www.gutenberg.org/files/66098/66098-h/66098-h.htm\\nhttps://www.gutenberg.org/files/120/120-h/120-h.htm\\nhttps://www.gutenberg.org/files/57333/57333-h/57333-h.htm\\nhttps://www.gutenberg.org/files/157/157-h/157-h.htm\\nhttps://www.gutenberg.org/files/834/834-h/834-h.htm\\nhttps://www.gutenberg.org/files/65983/65983-h/65983-h.htm\\nhttps://www.gutenberg.org/files/33283/33283-h/33283-h.htm\\nhttps://www.gutenberg.org/files/1672/1672-h/1672-h.htm\\nhttps://www.gutenberg.org/files/65995/65995-h/65995-h.htm\\nhttps://www.gutenberg.org/files/1756/1756-h/1756-h.htm\\nhttps://www.gutenberg.org/files/610/610-h/610-h.htm\\nhttps://www.gutenberg.org/files/4507/4507-h/4507-h.htm\\nhttps://www.gutenberg.org/files/1656/1656-h/1656-h.htm\\nhttps://www.gutenberg.org/files/66040/66040-h/66040-h.htm\\nhttps://www.gutenberg.org/files/36542/36542-h/36542-h.htm\\nhttps://www.gutenberg.org/files/12228/12228-h/12228-h.htm\\nhttps://www.gutenberg.org/files/45410/45410-h/45410-h.htm\\nhttps://www.gutenberg.org/files/24950/24950-h/24950-h.htm\\nhttps://www.gutenberg.org/files/770/770-h/770-h.htm\\nhttps://www.gutenberg.org/files/26/26-h/26-h.htm\\nhttps://www.gutenberg.org/files/940/940-h/940-h.htm\\nhttps://www.gutenberg.org/files/65910/65910-h/65910-h.htm\\nhttps://www.gutenberg.org/files/932/932-h/932-h.htm\\nhttps://www.gutenberg.org/files/10681/10681-h/10681-h.htm\\nhttps://www.gutenberg.org/files/66047/66047-h/66047-h.htm\\nhttps://www.gutenberg.org/files/11000/11000-h/11000-h.htm\\nhttps://www.gutenberg.org/files/36238/36238-h/36238-h.htm\\nhttps://www.gutenberg.org/files/3189/3189-h/3189-h.htm\\nhttps://www.gutenberg.org/files/28885/28885-h/28885-h.htm\\nhttps://www.gutenberg.org/files/66062/66062-h/66062-h.htm\\nhttps://www.gutenberg.org/files/8800/8800-h/8800-h.htm\\nhttps://www.gutenberg.org/files/501/501-h/501-h.htm\\nhttps://www.gutenberg.org/files/4361/4361-h/4361-h.htm\\nhttps://www.gutenberg.org/files/12116/12116-h/12116-h.htm\\nhttps://www.gutenberg.org/files/18857/18857-h/18857-h.htm\\nhttps://www.gutenberg.org/files/14407/14407-h/14407-h.htm\\nhttps://www.gutenberg.org/files/3176/3176-h/3176-h.htm\\nhttps://www.gutenberg.org/files/6593/6593-h/6593-h.htm\\nhttps://www.gutenberg.org/files/271/271-h/271-h.htm\\nhttps://www.gutenberg.org/files/375/375-h/375-h.htm\\nhttps://www.gutenberg.org/files/21279/21279-h/21279-h.htm\\nhttps://www.gutenberg.org/files/66025/66025-h/66025-h.htm\\nhttps://www.gutenberg.org/files/1074/1074-h/1074-h.htm\\nhttps://www.gutenberg.org/files/52263/52263-h/52263-h.htm\\nhttps://www.gutenberg.org/files/29433/29433-h/29433-h.htm\\nhttps://www.gutenberg.org/files/514/514-h/514-h.htm\\nhttps://www.gutenberg.org/files/209/209-h/209-h.htm\\nhttps://www.gutenberg.org/files/58212/58212-h/58212-h.htm\\nhttps://www.gutenberg.org/files/52200/52200-h/52200-h.htm\\nhttps://www.gutenberg.org/files/10897/10897-h/10897-h.htm\\nhttps://www.gutenberg.org/files/10444/10444-h/10444-h.htm\\nhttps://www.gutenberg.org/files/63256/63256-h/63256-h.htm\\nhttps://www.gutenberg.org/files/2449/2449-h/2449-h.htm\\nhttps://www.gutenberg.org/files/3206/3206-h/3206-h.htm\\nhttps://www.gutenberg.org/files/15/15-h/15-h.htm\\nhttps://www.gutenberg.org/files/1450/1450-h/1450-h.htm\\nhttps://www.gutenberg.org/files/75/75-h/75-h.htm\\nhttps://www.gutenberg.org/files/21076/21076-h/21076-h.htm\\nhttps://www.gutenberg.org/files/15076/15076-h/15076-h.htm\\nhttps://www.gutenberg.org/files/20916/20916-h/20916-h.htm\\nhttps://www.gutenberg.org/files/1727/1727-h/1727-h.htm\\nhttps://www.gutenberg.org/files/6133/6133-h/6133-h.htm\\nhttps://www.gutenberg.org/files/2638/2638-h/2638-h.htm\\nhttps://www.gutenberg.org/files/17976/17976-h/17976-h.htm\\nhttps://www.gutenberg.org/files/8775/8775-h/8775-h.htm\\nhttps://www.gutenberg.org/files/42078/42078-h/42078-h.htm\\nhttps://www.gutenberg.org/files/65978/65978-h/65978-h.htm\\nhttps://www.gutenberg.org/files/20748/20748-h/20748-h.htm\\nhttps://www.gutenberg.org/files/57764/57764-h/57764-h.htm\\nhttps://www.gutenberg.org/files/4517/4517-h/4517-h.htm\\nhttps://www.gutenberg.org/files/18155/18155-h/18155-h.htm\\nhttps://www.gutenberg.org/files/27200/27200-h/27200-h.htm\\nhttps://www.gutenberg.org/files/66017/66017-h/66017-h.htm\\nhttps://www.gutenberg.org/files/1934/1934-h/1934-h.htm\\nhttps://www.gutenberg.org/files/11030/11030-h/11030-h.htm\\nhttps://www.gutenberg.org/files/769/769-h/769-h.htm\\nhttps://www.gutenberg.org/files/65984/65984-h/65984-h.htm\\nhttps://www.gutenberg.org/files/36077/36077-h/36077-h.htm\\nhttps://www.gutenberg.org/files/13726/13726-h/13726-h.htm\\nhttps://www.gutenberg.org/files/24811/24811-h/24811-h.htm\\nhttps://www.gutenberg.org/files/216/216-h/216-h.htm\\nhttps://www.gutenberg.org/files/1/1-h/1-h.htm\\nhttps://www.gutenberg.org/files/5200/5200-h/5200-h.htm\\nhttps://www.gutenberg.org/files/60/60-h/60-h.htm\\nhttps://www.gutenberg.org/files/66065/66065-h/66065-h.htm\\nhttps://www.gutenberg.org/files/66131/66131-h/66131-h.htm\\nhttps://www.gutenberg.org/files/1210/1210-h/1210-h.htm\\nhttps://www.gutenberg.org/files/26654/26654-h/26654-h.htm\\nhttps://www.gutenberg.org/files/946/946-h/946-h.htm\\nhttps://www.gutenberg.org/files/11870/11870-h/11870-h.htm\\nhttps://www.gutenberg.org/files/43453/43453-h/43453-h.htm\\nhttps://www.gutenberg.org/files/65976/65976-h/65976-h.htm\\nhttps://www.gutenberg.org/files/35451/35451-h/35451-h.htm\\nhttps://www.gutenberg.org/files/2781/2781-h/2781-h.htm\\nhttps://www.gutenberg.org/files/1250/1250-h/1250-h.htm\\nhttps://www.gutenberg.org/files/1081/1081-h/1081-h.htm\\nhttps://www.gutenberg.org/files/35588/35588-h/35588-h.htm\\nhttps://www.gutenberg.org/files/25609/25609-h/25609-h.htm\\nhttps://www.gutenberg.org/files/57628/57628-h/57628-h.htm\\nhttps://www.gutenberg.org/files/3567/3567-h/3567-h.htm\\nhttps://www.gutenberg.org/files/36034/36034-h/36034-h.htm\\nhttps://www.gutenberg.org/files/98/98-h/98-h.htm\\nhttps://www.gutenberg.org/files/66096/66096-h/66096-h.htm\\nhttps://www.gutenberg.org/files/215/215-h/215-h.htm\\nhttps://www.gutenberg.org/files/66069/66069-h/66069-h.htm\\nhttps://www.gutenberg.org/files/33525/33525-h/33525-h.htm\\nhttps://www.gutenberg.org/files/29558/29558-h/29558-h.htm\\nhttps://www.gutenberg.org/files/35690/35690-h/35690-h.htm\\nhttps://www.gutenberg.org/files/1152/1152-h/1152-h.htm\\nhttps://www.gutenberg.org/files/50280/50280-h/50280-h.htm\\nhttps://www.gutenberg.org/files/42290/42290-h/42290-h.htm\\nhttps://www.gutenberg.org/files/22367/22367-h/22367-h.htm\\nhttps://www.gutenberg.org/files/1564/1564-h/1564-h.htm\\nhttps://www.gutenberg.org/files/3160/3160-h/3160-h.htm\\nhttps://www.gutenberg.org/files/398/398-h/398-h.htm\\nhttps://www.gutenberg.org/files/852/852-h/852-h.htm\\nhttps://www.gutenberg.org/files/66071/66071-h/66071-h.htm\\nhttps://www.gutenberg.org/files/1059/1059-h/1059-h.htm\\nhttps://www.gutenberg.org/files/66064/66064-h/66064-h.htm\\nhttps://www.gutenberg.org/files/851/851-h/851-h.htm\\nhttps://www.gutenberg.org/files/2042/2042-h/2042-h.htm\\nhttps://www.gutenberg.org/files/66095/66095-h/66095-h.htm\\nhttps://www.gutenberg.org/files/500/500-h/500-h.htm\\nhttps://www.gutenberg.org/files/917/917-h/917-h.htm\\nhttps://www.gutenberg.org/files/14872/14872-h/14872-h.htm\\nhttps://www.gutenberg.org/files/20/20-h/20-h.htm\\nhttps://www.gutenberg.org/files/944/944-h/944-h.htm\\nhttps://www.gutenberg.org/files/61085/61085-h/61085-h.htm\\nhttps://www.gutenberg.org/files/19709/19709-h/19709-h.htm\\nhttps://www.gutenberg.org/files/54/54-h/54-h.htm\\nhttps://www.gutenberg.org/files/1080/1080-h/1080-h.htm\\nhttps://www.gutenberg.org/files/408/408-h/408-h.htm\\nhttps://www.gutenberg.org/files/219/219-h/219-h.htm\\nhttps://www.gutenberg.org/files/2383/2383-h/2383-h.htm\\nhttps://www.gutenberg.org/files/14568/14568-h/14568-h.htm\\nhttps://www.gutenberg.org/files/1041/1041-h/1041-h.htm\\nhttps://www.gutenberg.org/files/8795/8795-h/8795-h.htm\\nhttps://www.gutenberg.org/files/62/62-h/62-h.htm\\nhttps://www.gutenberg.org/files/1660/1660-h/1660-h.htm\\nhttps://www.gutenberg.org/files/77/77-h/77-h.htm\\nhttps://www.gutenberg.org/files/6523/6523-h/6523-h.htm\\nhttps://www.gutenberg.org/files/11027/11027-h/11027-h.htm\\nhttps://www.gutenberg.org/files/205/205-h/205-h.htm\\nhttps://www.gutenberg.org/files/43/43-h/43-h.htm\\nhttps://www.gutenberg.org/files/65998/65998-h/65998-h.htm\\nhttps://www.gutenberg.org/files/3600/3600-h/3600-h.htm\\nhttps://www.gutenberg.org/files/17824/17824-h/17824-h.htm\\nhttps://www.gutenberg.org/files/1929/1929-h/1929-h.htm\\nhttps://www.gutenberg.org/files/40311/40311-h/40311-h.htm\\nhttps://www.gutenberg.org/files/66027/66027-h/66027-h.htm\\nhttps://www.gutenberg.org/files/65921/65921-h/65921-h.htm\\nhttps://www.gutenberg.org/files/47677/47677-h/47677-h.htm\\nhttps://www.gutenberg.org/files/65942/65942-h/65942-h.htm\\nhttps://www.gutenberg.org/files/8492/8492-h/8492-h.htm\\nhttps://www.gutenberg.org/files/921/921-h/921-h.htm\\nhttps://www.gutenberg.org/files/21000/21000-h/21000-h.htm\\nhttps://www.gutenberg.org/files/42704/42704-h/42704-h.htm\\nhttps://www.gutenberg.org/files/66130/66130-h/66130-h.htm\\nhttps://www.gutenberg.org/files/10732/10732-h/10732-h.htm\\nhttps://www.gutenberg.org/files/146/146-h/146-h.htm\\nhttps://www.gutenberg.org/files/39452/39452-h/39452-h.htm\\nhttps://www.gutenberg.org/files/17314/17314-h/17314-h.htm\\nhttps://www.gutenberg.org/files/1719/1719-h/1719-h.htm\\nhttps://www.gutenberg.org/files/52319/52319-h/52319-h.htm\\nhttps://www.gutenberg.org/files/6124/6124-h/6124-h.htm\\nhttps://www.gutenberg.org/files/1342/1342-h/1342-h.htm\\nhttps://www.gutenberg.org/files/9105/9105-h/9105-h.htm\\nhttps://www.gutenberg.org/files/2680/2680-h/2680-h.htm\\nhttps://www.gutenberg.org/files/19159/19159-h/19159-h.htm\\nhttps://www.gutenberg.org/files/58585/58585-h/58585-h.htm\\nhttps://www.gutenberg.org/files/1642/1642-h/1642-h.htm\\nhttps://www.gutenberg.org/files/33/33-h/33-h.htm\\nhttps://www.gutenberg.org/files/65929/65929-h/65929-h.htm\\nhttps://www.gutenberg.org/files/51143/51143-h/51143-h.htm\\nhttps://www.gutenberg.org/files/27827/27827-h/27827-h.htm\\nhttps://www.gutenberg.org/files/5740/5740-h/5740-h.htm\\nhttps://www.gutenberg.org/files/37134/37134-h/37134-h.htm\\nhttps://www.gutenberg.org/files/7889/7889-h/7889-h.htm\\nhttps://www.gutenberg.org/files/66119/66119-h/66119-h.htm\\nhttps://www.gutenberg.org/files/246/246-h/246-h.htm\\nhttps://www.gutenberg.org/files/65912/65912-h/65912-h.htm\\nhttps://www.gutenberg.org/files/4200/4200-h/4200-h.htm\\nhttps://www.gutenberg.org/files/65930/65930-h/65930-h.htm\\nhttps://www.gutenberg.org/files/5131/5131-h/5131-h.htm\\nhttps://www.gutenberg.org/files/968/968-h/968-h.htm\\nhttps://www.gutenberg.org/files/233/233-h/233-h.htm\\nhttps://www.gutenberg.org/files/25305/25305-h/25305-h.htm\\nhttps://www.gutenberg.org/files/17989/17989-h/17989-h.htm\\nhttps://www.gutenberg.org/files/245/245-h/245-h.htm\\nhttps://www.gutenberg.org/files/21700/21700-h/21700-h.htm\\nhttps://www.gutenberg.org/files/689/689-h/689-h.htm\\nhttps://www.gutenberg.org/files/7205/7205-h/7205-h.htm\\nhttps://www.gutenberg.org/files/19033/19033-h/19033-h.htm\\nhttps://www.gutenberg.org/files/10148/10148-h/10148-h.htm\\nhttps://www.gutenberg.org/files/65968/65968-h/65968-h.htm\\nhttps://www.gutenberg.org/files/19942/19942-h/19942-h.htm\\nhttps://www.gutenberg.org/files/7986/7986-h/7986-h.htm\\nhttps://www.gutenberg.org/files/52190/52190-h/52190-h.htm\\nhttps://www.gutenberg.org/files/5343/5343-h/5343-h.htm\\nhttps://www.gutenberg.org/files/66139/66139-h/66139-h.htm\\nhttps://www.gutenberg.org/files/2870/2870-h/2870-h.htm\\nhttps://www.gutenberg.org/files/1837/1837-h/1837-h.htm\\nhttps://www.gutenberg.org/files/65992/65992-h/65992-h.htm\\nhttps://www.gutenberg.org/files/1597/1597-h/1597-h.htm\\nhttps://www.gutenberg.org/files/5116/5116-h/5116-h.htm\\nhttps://www.gutenberg.org/files/42686/42686-h/42686-h.htm\\nhttps://www.gutenberg.org/files/65933/65933-h/65933-h.htm\\nhttps://www.gutenberg.org/files/59112/59112-h/59112-h.htm\\nhttps://www.gutenberg.org/files/65994/65994-h/65994-h.htm\\nhttps://www.gutenberg.org/files/40745/40745-h/40745-h.htm\\nhttps://www.gutenberg.org/files/4014/4014-h/4014-h.htm\\nhttps://www.gutenberg.org/files/1254/1254-h/1254-h.htm\\nhttps://www.gutenberg.org/files/348/348-h/348-h.htm\\nhttps://www.gutenberg.org/files/18450/18450-h/18450-h.htm\\nhttps://www.gutenberg.org/files/15263/15263-h/15263-h.htm\\nhttps://www.gutenberg.org/files/2264/2264-h/2264-h.htm\\nhttps://www.gutenberg.org/files/2641/2641-h/2641-h.htm\\nhttps://www.gutenberg.org/files/700/700-h/700-h.htm\\nhttps://www.gutenberg.org/files/66091/66091-h/66091-h.htm\\nhttps://www.gutenberg.org/files/2500/2500-h/2500-h.htm\\nhttps://www.gutenberg.org/files/29021/29021-h/29021-h.htm\\nhttps://www.gutenberg.org/files/48247/48247-h/48247-h.htm\\nhttps://www.gutenberg.org/files/376/376-h/376-h.htm\\nhttps://www.gutenberg.org/files/8117/8117-h/8117-h.htm\\nhttps://www.gutenberg.org/files/4363/4363-h/4363-h.htm\\nhttps://www.gutenberg.org/files/27755/27755-h/27755-h.htm\\nhttps://www.gutenberg.org/files/2502/2502-h/2502-h.htm\\nhttps://www.gutenberg.org/files/1322/1322-h/1322-h.htm\\nhttps://www.gutenberg.org/files/42108/42108-h/42108-h.htm\\nhttps://www.gutenberg.org/files/66056/66056-h/66056-h.htm\\nhttps://www.gutenberg.org/files/65987/65987-h/65987-h.htm\\nhttps://www.gutenberg.org/files/66102/66102-h/66102-h.htm\\nhttps://www.gutenberg.org/files/38769/38769-h/38769-h.htm\\nhttps://www.gutenberg.org/files/14988/14988-h/14988-h.htm\\nhttps://www.gutenberg.org/files/10002/10002-h/10002-h.htm\\nhttps://www.gutenberg.org/files/66021/66021-h/66021-h.htm\\nhttps://www.gutenberg.org/files/43936/43936-h/43936-h.htm\\nhttps://www.gutenberg.org/files/32449/32449-h/32449-h.htm\\nhttps://www.gutenberg.org/files/1212/1212-h/1212-h.htm\\nhttps://www.gutenberg.org/files/4081/4081-h/4081-h.htm\\nhttps://www.gutenberg.org/files/1251/1251-h/1251-h.htm\\nhttps://www.gutenberg.org/files/65977/65977-h/65977-h.htm\\nhttps://www.gutenberg.org/files/175/175-h/175-h.htm\\nhttps://www.gutenberg.org/files/8438/8438-h/8438-h.htm\\nhttps://www.gutenberg.org/files/11757/11757-h/11757-h.htm\\nhttps://www.gutenberg.org/files/78/78-h/78-h.htm\\nhttps://www.gutenberg.org/files/6852/6852-h/6852-h.htm\\nhttps://www.gutenberg.org/files/66005/66005-h/66005-h.htm\\nhttps://www.gutenberg.org/files/25717/25717-h/25717-h.htm\\nhttps://www.gutenberg.org/files/768/768-h/768-h.htm\\nhttps://www.gutenberg.org/files/35899/35899-h/35899-h.htm\\nhttps://www.gutenberg.org/files/58465/58465-h/58465-h.htm\\nhttps://www.gutenberg.org/files/14591/14591-h/14591-h.htm\\nhttps://www.gutenberg.org/files/57426/57426-h/57426-h.htm\\nhttps://www.gutenberg.org/files/2166/2166-h/2166-h.htm\\nhttps://www.gutenberg.org/files/45634/45634-h/45634-h.htm\\nhttps://www.gutenberg.org/files/2002/2002-h/2002-h.htm\\nhttps://www.gutenberg.org/files/66014/66014-h/66014-h.htm\\nhttps://www.gutenberg.org/files/3796/3796-h/3796-h.htm\\nhttps://www.gutenberg.org/files/100/100-h/100-h.htm\\nhttps://www.gutenberg.org/files/16/16-h/16-h.htm\\nhttps://www.gutenberg.org/files/28233/28233-h/28233-h.htm\\nhttps://www.gutenberg.org/files/20781/20781-h/20781-h.htm\\nhttps://www.gutenberg.org/files/121/121-h/121-h.htm\\nhttps://www.gutenberg.org/files/2388/2388-h/2388-h.htm\\nhttps://www.gutenberg.org/files/65918/65918-h/65918-h.htm\\nhttps://www.gutenberg.org/files/3289/3289-h/3289-h.htm\\nhttps://www.gutenberg.org/files/40986/40986-h/40986-h.htm\\nhttps://www.gutenberg.org/files/35123/35123-h/35123-h.htm\\nhttps://www.gutenberg.org/files/2413/2413-h/2413-h.htm\\nhttps://www.gutenberg.org/files/65916/65916-h/65916-h.htm\\nhttps://www.gutenberg.org/files/2554/2554-h/2554-h.htm\\nhttps://www.gutenberg.org/files/967/967-h/967-h.htm\\nhttps://www.gutenberg.org/files/65965/65965-h/65965-h.htm\\nhttps://www.gutenberg.org/files/14033/14033-h/14033-h.htm\\nhttps://www.gutenberg.org/files/65870/65870-h/65870-h.htm\\nhttps://www.gutenberg.org/files/65924/65924-h/65924-h.htm\\nhttps://www.gutenberg.org/files/969/969-h/969-h.htm\\nhttps://www.gutenberg.org/files/901/901-h/901-h.htm\\nhttps://www.gutenberg.org/files/5827/5827-h/5827-h.htm\\nhttps://www.gutenberg.org/files/11945/11945-h/11945-h.htm\\nhttps://www.gutenberg.org/files/2529/2529-h/2529-h.htm\\nhttps://www.gutenberg.org/files/48438/48438-h/48438-h.htm\\nhttps://www.gutenberg.org/files/55387/55387-h/55387-h.htm\\nhttps://www.gutenberg.org/files/65943/65943-h/65943-h.htm\\nhttps://www.gutenberg.org/files/4017/4017-h/4017-h.htm\\nhttps://www.gutenberg.org/files/1874/1874-h/1874-h.htm\\nhttps://www.gutenberg.org/files/2350/2350-h/2350-h.htm\\nhttps://www.gutenberg.org/files/40196/40196-h/40196-h.htm\\nhttps://www.gutenberg.org/files/107/107-h/107-h.htm\\nhttps://www.gutenberg.org/files/3623/3623-h/3623-h.htm\\nhttps://www.gutenberg.org/files/5225/5225-h/5225-h.htm\\nhttps://www.gutenberg.org/files/15491/15491-h/15491-h.htm\\nhttps://www.gutenberg.org/files/8581/8581-h/8581-h.htm\\nhttps://www.gutenberg.org/files/66143/66143-h/66143-h.htm\\nhttps://www.gutenberg.org/files/21839/21839-h/21839-h.htm\\nhttps://www.gutenberg.org/files/32032/32032-h/32032-h.htm\\nhttps://www.gutenberg.org/files/65971/65971-h/65971-h.htm\\nhttps://www.gutenberg.org/files/7700/7700-h/7700-h.htm\\nhttps://www.gutenberg.org/files/6381/6381-h/6381-h.htm\\nhttps://www.gutenberg.org/files/60825/60825-h/60825-h.htm\\nhttps://www.gutenberg.org/files/65946/65946-h/65946-h.htm\\nhttps://www.gutenberg.org/files/47873/47873-h/47873-h.htm\\nhttps://www.gutenberg.org/files/1164/1164-h/1164-h.htm\\nhttps://www.gutenberg.org/files/65961/65961-h/65961-h.htm\\nhttps://www.gutenberg.org/files/60333/60333-h/60333-h.htm\\nhttps://www.gutenberg.org/files/174/174-h/174-h.htm\\nhttps://www.gutenberg.org/files/52958/52958-h/52958-h.htm\\nhttps://www.gutenberg.org/files/35898/35898-h/35898-h.htm\\nhttps://www.gutenberg.org/files/12030/12030-h/12030-h.htm\\nhttps://www.gutenberg.org/files/7142/7142-h/7142-h.htm\\nhttps://www.gutenberg.org/files/7849/7849-h/7849-h.htm\\nhttps://www.gutenberg.org/files/24022/24022-h/24022-h.htm\\nhttps://www.gutenberg.org/files/22120/22120-h/22120-h.htm\\nhttps://www.gutenberg.org/files/18993/18993-h/18993-h.htm\\nhttps://www.gutenberg.org/files/6688/6688-h/6688-h.htm\\nhttps://www.gutenberg.org/files/61/61-h/61-h.htm\\nhttps://www.gutenberg.org/files/66059/66059-h/66059-h.htm\\nhttps://www.gutenberg.org/files/30718/30718-h/30718-h.htm\\nhttps://www.gutenberg.org/files/66082/66082-h/66082-h.htm\\nhttps://www.gutenberg.org/files/974/974-h/974-h.htm\\nhttps://www.gutenberg.org/files/66078/66078-h/66078-h.htm\\nhttps://www.gutenberg.org/files/65955/65955-h/65955-h.htm\\nhttps://www.gutenberg.org/files/2000/2000-h/2000-h.htm\\nhttps://www.gutenberg.org/files/22994/22994-h/22994-h.htm\\nhttps://www.gutenberg.org/files/36276/36276-h/36276-h.htm\\nhttps://www.gutenberg.org/files/4280/4280-h/4280-h.htm\\nhttps://www.gutenberg.org/files/10802/10802-h/10802-h.htm\\nhttps://www.gutenberg.org/files/19368/19368-h/19368-h.htm\\nhttps://www.gutenberg.org/files/84/84-h/84-h.htm\\nhttps://www.gutenberg.org/files/2199/2199-h/2199-h.htm\\nhttps://www.gutenberg.org/files/4093/4093-h/4093-h.htm\\nhttps://www.gutenberg.org/files/1170/1170-h/1170-h.htm\\nhttps://www.gutenberg.org/files/15210/15210-h/15210-h.htm\\nhttps://www.gutenberg.org/files/14264/14264-h/14264-h.htm\\nhttps://www.gutenberg.org/files/16269/16269-h/16269-h.htm\\nhttps://www.gutenberg.org/files/5230/5230-h/5230-h.htm\\nhttps://www.gutenberg.org/files/66019/66019-h/66019-h.htm\\nhttps://www.gutenberg.org/files/27365/27365-h/27365-h.htm\\nhttps://www.gutenberg.org/files/2097/2097-h/2097-h.htm\\nhttps://www.gutenberg.org/files/108/108-h/108-h.htm\\nhttps://www.gutenberg.org/files/65974/65974-h/65974-h.htm\\nhttps://www.gutenberg.org/files/2850/2850-h/2850-h.htm\\nhttps://www.gutenberg.org/files/65967/65967-h/65967-h.htm\\nhttps://www.gutenberg.org/files/52914/52914-h/52914-h.htm\\nhttps://www.gutenberg.org/files/28521/28521-h/28521-h.htm\\nhttps://www.gutenberg.org/files/15043/15043-h/15043-h.htm\\nhttps://www.gutenberg.org/files/10554/10554-h/10554-h.htm\\nhttps://www.gutenberg.org/files/1097/1097-h/1097-h.htm\\nhttps://www.gutenberg.org/files/160/160-h/160-h.htm\\nhttps://www.gutenberg.org/files/65917/65917-h/65917-h.htm\\nhttps://www.gutenberg.org/files/55/55-h/55-h.htm\\nhttps://www.gutenberg.org/files/40203/40203-h/40203-h.htm\\nhttps://www.gutenberg.org/files/65875/65875-h/65875-h.htm\\nhttps://www.gutenberg.org/files/1240/1240-h/1240-h.htm\\nhttps://www.gutenberg.org/files/35461/35461-h/35461-h.htm\\nhttps://www.gutenberg.org/files/1754/1754-h/1754-h.htm\\nhttps://www.gutenberg.org/files/8710/8710-h/8710-h.htm\\nhttps://www.gutenberg.org/files/37106/37106-h/37106-h.htm\\nhttps://www.gutenberg.org/files/21765/21765-h/21765-h.htm\\nhttps://www.gutenberg.org/files/36/36-h/36-h.htm\\nhttps://www.gutenberg.org/files/65925/65925-h/65925-h.htm\\nhttps://www.gutenberg.org/files/140/140-h/140-h.htm\\nhttps://www.gutenberg.org/files/1549/1549-h/1549-h.htm\\nhttps://www.gutenberg.org/files/217/217-h/217-h.htm\\nhttps://www.gutenberg.org/files/132/132-h/132-h.htm\\nhttps://www.gutenberg.org/files/14005/14005-h/14005-h.htm\\nhttps://www.gutenberg.org/files/1635/1635-h/1635-h.htm\\nhttps://www.gutenberg.org/files/15399/15399-h/15399-h.htm\\nhttps://www.gutenberg.org/files/1533/1533-h/1533-h.htm\\nhttps://www.gutenberg.org/files/25141/25141-h/25141-h.htm\\nhttps://www.gutenberg.org/files/2226/2226-h/2226-h.htm\\nhttps://www.gutenberg.org/files/35997/35997-h/35997-h.htm\\nhttps://www.gutenberg.org/files/52881/52881-h/52881-h.htm\\nhttps://www.gutenberg.org/files/41697/41697-h/41697-h.htm\\nhttps://www.gutenberg.org/files/22217/22217-h/22217-h.htm\\nhttps://www.gutenberg.org/files/23700/23700-h/23700-h.htm\\nhttps://www.gutenberg.org/files/30017/30017-h/30017-h.htm\\nhttps://www.gutenberg.org/files/46/46-h/46-h.htm\\nhttps://www.gutenberg.org/files/2376/2376-h/2376-h.htm\\nhttps://www.gutenberg.org/files/66051/66051-h/66051-h.htm\\nhttps://www.gutenberg.org/files/14833/14833-h/14833-h.htm\\nhttps://www.gutenberg.org/files/66079/66079-h/66079-h.htm\\nhttps://www.gutenberg.org/files/66012/66012-h/66012-h.htm\\nhttps://www.gutenberg.org/files/1252/1252-h/1252-h.htm\\nhttps://www.gutenberg.org/files/1688/1688-h/1688-h.htm\\nhttps://www.gutenberg.org/files/8799/8799-h/8799-h.htm\\nhttps://www.gutenberg.org/files/1140/1140-h/1140-h.htm\\nhttps://www.gutenberg.org/files/66039/66039-h/66039-h.htm\\nhttps://www.gutenberg.org/files/2707/2707-h/2707-h.htm\\nhttps://www.gutenberg.org/files/135/135-h/135-h.htm\\nhttps://www.gutenberg.org/files/14642/14642-h/14642-h.htm\\nhttps://www.gutenberg.org/files/1023/1023-h/1023-h.htm\\nhttps://www.gutenberg.org/files/35830/35830-h/35830-h.htm\\nhttps://www.gutenberg.org/files/64317/64317-h/64317-h.htm\\nhttps://www.gutenberg.org/files/2895/2895-h/2895-h.htm\\nhttps://www.gutenberg.org/files/66018/66018-h/66018-h.htm\\nhttps://www.gutenberg.org/files/66028/66028-h/66028-h.htm\\nhttps://www.gutenberg.org/files/6130/6130-h/6130-h.htm\\nhttps://www.gutenberg.org/files/66103/66103-h/66103-h.htm\\nhttps://www.gutenberg.org/files/45304/45304-h/45304-h.htm\\nhttps://www.gutenberg.org/files/40580/40580-h/40580-h.htm\\nhttps://www.gutenberg.org/files/37423/37423-h/37423-h.htm\\nhttps://www.gutenberg.org/files/66010/66010-h/66010-h.htm\\nhttps://www.gutenberg.org/files/972/972-h/972-h.htm\\nhttps://www.gutenberg.org/files/45376/45376-h/45376-h.htm\\nhttps://www.gutenberg.org/files/815/815-h/815-h.htm\\nhttps://www.gutenberg.org/files/5001/5001-h/5001-h.htm\\nhttps://www.gutenberg.org/files/14838/14838-h/14838-h.htm\\nhttps://www.gutenberg.org/files/65914/65914-h/65914-h.htm\\nhttps://www.gutenberg.org/files/128/128-h/128-h.htm\\nhttps://www.gutenberg.org/files/32938/32938-h/32938-h.htm\\nhttps://www.gutenberg.org/files/1974/1974-h/1974-h.htm\\nhttps://www.gutenberg.org/files/7164/7164-h/7164-h.htm\\nhttps://www.gutenberg.org/files/30107/30107-h/30107-h.htm\\nhttps://www.gutenberg.org/files/24518/24518-h/24518-h.htm\\nhttps://www.gutenberg.org/files/46807/46807-h/46807-h.htm\\nhttps://www.gutenberg.org/files/15845/15845-h/15845-h.htm\\nhttps://www.gutenberg.org/files/3090/3090-h/3090-h.htm\\nhttps://www.gutenberg.org/files/18269/18269-h/18269-h.htm\\nhttps://www.gutenberg.org/files/31966/31966-h/31966-h.htm\\nhttps://www.gutenberg.org/files/66120/66120-h/66120-h.htm\\nhttps://www.gutenberg.org/files/16436/16436-h/16436-h.htm\\nhttps://www.gutenberg.org/files/49965/49965-h/49965-h.htm\\nhttps://www.gutenberg.org/files/766/766-h/766-h.htm\\nhttps://www.gutenberg.org/files/583/583-h/583-h.htm\\nhttps://www.gutenberg.org/files/12122/12122-h/12122-h.htm\\nhttps://www.gutenberg.org/files/102/102-h/102-h.htm\\nhttps://www.gutenberg.org/files/49260/49260-h/49260-h.htm\\nhttps://www.gutenberg.org/files/1872/1872-h/1872-h.htm\\nhttps://www.gutenberg.org/files/83/83-h/83-h.htm\\nhttps://www.gutenberg.org/files/31100/31100-h/31100-h.htm\\nhttps://www.gutenberg.org/files/76/76-h/76-h.htm\\nhttps://www.gutenberg.org/files/621/621-h/621-h.htm\\nhttps://www.gutenberg.org/files/675/675-h/675-h.htm\\nhttps://www.gutenberg.org/files/526/526-h/526-h.htm\\nhttps://www.gutenberg.org/files/1093/1093-h/1093-h.htm\\nhttps://www.gutenberg.org/files/963/963-h/963-h.htm\\nhttps://www.gutenberg.org/files/50133/50133-h/50133-h.htm\\nhttps://www.gutenberg.org/files/49513/49513-h/49513-h.htm\\nhttps://www.gutenberg.org/files/65993/65993-h/65993-h.htm\\nhttps://www.gutenberg.org/files/45315/45315-h/45315-h.htm\\nhttps://www.gutenberg.org/files/18241/18241-h/18241-h.htm\\nhttps://www.gutenberg.org/files/28054/28054-h/28054-h.htm\\nhttps://www.gutenberg.org/files/3268/3268-h/3268-h.htm\\nhttps://www.gutenberg.org/files/47/47-h/47-h.htm\\nhttps://www.gutenberg.org/files/17405/17405-h/17405-h.htm\\nhttps://www.gutenberg.org/files/507/507-h/507-h.htm\\nhttps://www.gutenberg.org/files/2610/2610-h/2610-h.htm\\nhttps://www.gutenberg.org/files/28696/28696-h/28696-h.htm\\nhttps://www.gutenberg.org/files/161/161-h/161-h.htm\\nhttps://www.gutenberg.org/files/51002/51002-h/51002-h.htm\\nhttps://www.gutenberg.org/files/4217/4217-h/4217-h.htm\\nhttps://www.gutenberg.org/files/805/805-h/805-h.htm\\nhttps://www.gutenberg.org/files/24869/24869-h/24869-h.htm\\nhttps://www.gutenberg.org/files/2131/2131-h/2131-h.htm\\nhttps://www.gutenberg.org/files/844/844-h/844-h.htm\\nhttps://www.gutenberg.org/files/131/131-h/131-h.htm\\nhttps://www.gutenberg.org/files/28890/28890-h/28890-h.htm\\nhttps://www.gutenberg.org/files/1524/1524-h/1524-h.htm\\nhttps://www.gutenberg.org/files/61963/61963-h/61963-h.htm\\nhttps://www.gutenberg.org/files/41537/41537-h/41537-h.htm\\nhttps://www.gutenberg.org/files/46566/46566-h/46566-h.htm\\nhttps://www.gutenberg.org/files/1004/1004-h/1004-h.htm\\nhttps://www.gutenberg.org/files/66049/66049-h/66049-h.htm\\nhttps://www.gutenberg.org/files/1268/1268-h/1268-h.htm\\nhttps://www.gutenberg.org/files/558/558-h/558-h.htm\\nhttps://www.gutenberg.org/files/5921/5921-h/5921-h.htm\\nhttps://www.gutenberg.org/files/60976/60976-h/60976-h.htm\\nhttps://www.gutenberg.org/files/86/86-h/86-h.htm\\nhttps://www.gutenberg.org/files/3361/3361-h/3361-h.htm\\nhttps://www.gutenberg.org/files/55687/55687-h/55687-h.htm\\nhttps://www.gutenberg.org/files/32572/32572-h/32572-h.htm\\nhttps://www.gutenberg.org/files/122/122-h/122-h.htm\\nhttps://www.gutenberg.org/files/8092/8092-h/8092-h.htm\\nhttps://www.gutenberg.org/files/23684/23684-h/23684-h.htm\\nhttps://www.gutenberg.org/files/14977/14977-h/14977-h.htm\\nhttps://www.gutenberg.org/files/8419/8419-h/8419-h.htm\\nhttps://www.gutenberg.org/files/20776/20776-h/20776-h.htm\\nhttps://www.gutenberg.org/files/2852/2852-h/2852-h.htm\\nhttps://www.gutenberg.org/files/32415/32415-h/32415-h.htm\\nhttps://www.gutenberg.org/files/66022/66022-h/66022-h.htm\\nhttps://www.gutenberg.org/files/66073/66073-h/66073-h.htm\\nhttps://www.gutenberg.org/files/66057/66057-h/66057-h.htm\\nhttps://www.gutenberg.org/files/14522/14522-h/14522-h.htm\\nhttps://www.gutenberg.org/files/30601/30601-h/30601-h.htm\\nhttps://www.gutenberg.org/files/28522/28522-h/28522-h.htm\\nhttps://www.gutenberg.org/files/29220/29220-h/29220-h.htm\\nhttps://www.gutenberg.org/files/1232/1232-h/1232-h.htm\\nhttps://www.gutenberg.org/files/22566/22566-h/22566-h.htm\\nhttps://www.gutenberg.org/files/1717/1717-h/1717-h.htm\\nhttps://www.gutenberg.org/files/885/885-h/885-h.htm\\nhttps://www.gutenberg.org/files/25282/25282-h/25282-h.htm\\nhttps://www.gutenberg.org/files/31516/31516-h/31516-h.htm\\nhttps://www.gutenberg.org/files/325/325-h/325-h.htm\\nhttps://www.gutenberg.org/files/65259/65259-h/65259-h.htm\\nhttps://www.gutenberg.org/files/1952/1952-h/1952-h.htm\\nhttps://www.gutenberg.org/files/2650/2650-h/2650-h.htm\\nhttps://www.gutenberg.org/files/66135/66135-h/66135-h.htm\\nhttps://www.gutenberg.org/files/521/521-h/521-h.htm\\nhttps://www.gutenberg.org/files/7370/7370-h/7370-h.htm\\nhttps://www.gutenberg.org/files/74/74-h/74-h.htm\\nhttps://www.gutenberg.org/files/1279/1279-h/1279-h.htm\\nhttps://www.gutenberg.org/files/3328/3328-h/3328-h.htm\\nhttps://www.gutenberg.org/files/65950/65950-h/65950-h.htm\\nhttps://www.gutenberg.org/files/25833/25833-h/25833-h.htm\\nhttps://www.gutenberg.org/files/66045/66045-h/66045-h.htm\\nhttps://www.gutenberg.org/files/41568/41568-h/41568-h.htm\\nhttps://www.gutenberg.org/files/3420/3420-h/3420-h.htm\\nhttps://www.gutenberg.org/files/18247/18247-h/18247-h.htm\\nhttps://www.gutenberg.org/files/4300/4300-h/4300-h.htm\\nhttps://www.gutenberg.org/files/57342/57342-h/57342-h.htm\\nhttps://www.gutenberg.org/files/2946/2946-h/2946-h.htm\\nhttps://www.gutenberg.org/files/208/208-h/208-h.htm\\nhttps://www.gutenberg.org/files/66090/66090-h/66090-h.htm\\nhttps://www.gutenberg.org/files/20657/20657-h/20657-h.htm\\nhttps://www.gutenberg.org/files/66050/66050-h/66050-h.htm\\nhttps://www.gutenberg.org/files/22381/22381-h/22381-h.htm\\nhttps://www.gutenberg.org/files/15877/15877-h/15877-h.htm\\nhttps://www.gutenberg.org/files/66093/66093-h/66093-h.htm\\nhttps://www.gutenberg.org/files/38326/38326-h/38326-h.htm\\nhttps://www.gutenberg.org/files/65688/65688-h/65688-h.htm\\nhttps://www.gutenberg.org/files/66085/66085-h/66085-h.htm\\nhttps://www.gutenberg.org/files/32/32-h/32-h.htm\\nhttps://www.gutenberg.org/files/16966/16966-h/16966-h.htm\\nhttps://www.gutenberg.org/files/35/35-h/35-h.htm\\nhttps://www.gutenberg.org/files/3296/3296-h/3296-h.htm\\nhttps://www.gutenberg.org/files/2009/2009-h/2009-h.htm\\nhttps://www.gutenberg.org/files/5449/5449-h/5449-h.htm\\nhttps://www.gutenberg.org/files/1112/1112-h/1112-h.htm\\nhttps://www.gutenberg.org/files/10676/10676-h/10676-h.htm\\nhttps://www.gutenberg.org/files/38485/38485-h/38485-h.htm\\nhttps://www.gutenberg.org/files/5307/5307-h/5307-h.htm\\nhttps://www.gutenberg.org/files/65975/65975-h/65975-h.htm\\nhttps://www.gutenberg.org/files/66077/66077-h/66077-h.htm\\nhttps://www.gutenberg.org/files/8121/8121-h/8121-h.htm\\nhttps://www.gutenberg.org/files/15193/15193-h/15193-h.htm\\nhttps://www.gutenberg.org/files/58820/58820-h/58820-h.htm\\nhttps://www.gutenberg.org/files/17135/17135-h/17135-h.htm\\nhttps://www.gutenberg.org/files/13415/13415-h/13415-h.htm\\nhttps://www.gutenberg.org/files/1400/1400-h/1400-h.htm\\nhttps://www.gutenberg.org/files/10615/10615-h/10615-h.htm\\nhttps://www.gutenberg.org/files/470/470-h/470-h.htm\\nhttps://www.gutenberg.org/files/9182/9182-h/9182-h.htm\\nhttps://www.gutenberg.org/files/10607/10607-h/10607-h.htm\\nhttps://www.gutenberg.org/files/65957/65957-h/65957-h.htm\\nhttps://www.gutenberg.org/files/26184/26184-h/26184-h.htm\\nhttps://www.gutenberg.org/files/36264/36264-h/36264-h.htm\\nhttps://www.gutenberg.org/files/45/45-h/45-h.htm\\nhttps://www.gutenberg.org/files/44638/44638-h/44638-h.htm\\nhttps://www.gutenberg.org/files/22373/22373-h/22373-h.htm\\nhttps://www.gutenberg.org/files/16328/16328-h/16328-h.htm\\nhttps://www.gutenberg.org/files/2147/2147-h/2147-h.htm\\nhttps://www.gutenberg.org/files/65915/65915-h/65915-h.htm\\nhttps://www.gutenberg.org/files/4039/4039-h/4039-h.htm\\nhttps://www.gutenberg.org/files/5720/5720-h/5720-h.htm\\nhttps://www.gutenberg.org/files/66002/66002-h/66002-h.htm\\nhttps://www.gutenberg.org/files/599/599-h/599-h.htm\\nhttps://www.gutenberg.org/files/284/284-h/284-h.htm\\nhttps://www.gutenberg.org/files/31591/31591-h/31591-h.htm\\nhttps://www.gutenberg.org/files/730/730-h/730-h.htm\\nhttps://www.gutenberg.org/files/56795/56795-h/56795-h.htm\\nhttps://www.gutenberg.org/files/45814/45814-h/45814-h.htm\\nhttps://www.gutenberg.org/files/222/222-h/222-h.htm\\nhttps://www.gutenberg.org/files/52521/52521-h/52521-h.htm\\nhttps://www.gutenberg.org/files/9622/9622-h/9622-h.htm\\nhttps://www.gutenberg.org/files/220/220-h/220-h.htm\\nhttps://www.gutenberg.org/files/2892/2892-h/2892-h.htm\\nhttps://www.gutenberg.org/files/982/982-h/982-h.htm\\nhttps://www.gutenberg.org/files/5160/5160-h/5160-h.htm\\nhttps://www.gutenberg.org/files/164/164-h/164-h.htm\\nhttps://www.gutenberg.org/files/42884/42884-h/42884-h.htm\\nhttps://www.gutenberg.org/files/3618/3618-h/3618-h.htm\\nhttps://www.gutenberg.org/files/65959/65959-h/65959-h.htm\\nhttps://www.gutenberg.org/files/41445/41445-h/41445-h.htm\\nhttps://www.gutenberg.org/files/66009/66009-h/66009-h.htm\\nhttps://www.gutenberg.org/files/45280/45280-h/45280-h.htm\\nhttps://www.gutenberg.org/files/351/351-h/351-h.htm\\nhttps://www.gutenberg.org/files/1430/1430-h/1430-h.htm\\nhttps://www.gutenberg.org/files/29827/29827-h/29827-h.htm\\nhttps://www.gutenberg.org/files/1091/1091-h/1091-h.htm\\nhttps://www.gutenberg.org/files/105/105-h/105-h.htm\\nhttps://www.gutenberg.org/files/14726/14726-h/14726-h.htm\\nhttps://www.gutenberg.org/files/42671/42671-h/42671-h.htm\\nhttps://www.gutenberg.org/files/5657/5657-h/5657-h.htm\\nhttps://www.gutenberg.org/files/22693/22693-h/22693-h.htm\\nhttps://www.gutenberg.org/files/145/145-h/145-h.htm\\nhttps://www.gutenberg.org/files/40077/40077-h/40077-h.htm\\nhttps://www.gutenberg.org/files/389/389-h/389-h.htm\\nhttps://www.gutenberg.org/files/65962/65962-h/65962-h.htm\\nhttps://www.gutenberg.org/files/10657/10657-h/10657-h.htm\\nhttps://www.gutenberg.org/files/66034/66034-h/66034-h.htm\\nhttps://www.gutenberg.org/files/38219/38219-h/38219-h.htm\\nhttps://www.gutenberg.org/files/41617/41617-h/41617-h.htm\\nhttps://www.gutenberg.org/files/3800/3800-h/3800-h.htm\\nhttps://www.gutenberg.org/files/16119/16119-h/16119-h.htm\\nhttps://www.gutenberg.org/files/66126/66126-h/66126-h.htm\\nhttps://www.gutenberg.org/files/3913/3913-h/3913-h.htm\\nhttps://www.gutenberg.org/files/1658/1658-h/1658-h.htm\\nhttps://www.gutenberg.org/files/36805/36805-h/36805-h.htm\\nhttps://www.gutenberg.org/files/11231/11231-h/11231-h.htm\\nhttps://www.gutenberg.org/files/56463/56463-h/56463-h.htm\\nhttps://www.gutenberg.org/files/345/345-h/345-h.htm\\nhttps://www.gutenberg.org/files/27238/27238-h/27238-h.htm\\nhttps://www.gutenberg.org/files/30142/30142-h/30142-h.htm\\nhttps://www.gutenberg.org/files/623/623-h/623-h.htm\\nhttps://www.gutenberg.org/files/1946/1946-h/1946-h.htm\\nhttps://www.gutenberg.org/files/289/289-h/289-h.htm\\nhttps://www.gutenberg.org/files/65238/65238-h/65238-h.htm\\nhttps://www.gutenberg.org/files/66044/66044-h/66044-h.htm\\nhttps://www.gutenberg.org/files/10136/10136-h/10136-h.htm\\nhttps://www.gutenberg.org/files/113/113-h/113-h.htm\\nhttps://www.gutenberg.org/files/73/73-h/73-h.htm\\nhttps://www.gutenberg.org/files/65923/65923-h/65923-h.htm\\nhttps://www.gutenberg.org/files/37775/37775-h/37775-h.htm\\nhttps://www.gutenberg.org/files/60979/60979-h/60979-h.htm\\nhttps://www.gutenberg.org/files/203/203-h/203-h.htm\\nhttps://www.gutenberg.org/files/66000/66000-h/66000-h.htm\\nhttps://www.gutenberg.org/files/34901/34901-h/34901-h.htm\\nhttps://www.gutenberg.org/files/3836/3836-h/3836-h.htm\\nhttps://www.gutenberg.org/files/39955/39955-h/39955-h.htm\\nhttps://www.gutenberg.org/files/1289/1289-h/1289-h.htm\\nhttps://www.gutenberg.org/files/6081/6081-h/6081-h.htm\\nhttps://www.gutenberg.org/files/244/244-h/244-h.htm\\nhttps://www.gutenberg.org/files/601/601-h/601-h.htm\\nhttps://www.gutenberg.org/files/19322/19322-h/19322-h.htm\\nhttps://www.gutenberg.org/files/66081/66081-h/66081-h.htm\\nhttps://www.gutenberg.org/files/2759/2759-h/2759-h.htm\\nhttps://www.gutenberg.org/files/60559/60559-h/60559-h.htm\\nhttps://www.gutenberg.org/files/59844/59844-h/59844-h.htm\\nhttps://www.gutenberg.org/files/17957/17957-h/17957-h.htm\\nhttps://www.gutenberg.org/files/4705/4705-h/4705-h.htm\\nhttps://www.gutenberg.org/files/12753/12753-h/12753-h.htm\\nhttps://www.gutenberg.org/files/26558/26558-h/26558-h.htm\\nhttps://www.gutenberg.org/files/6157/6157-h/6157-h.htm\\nhttps://www.gutenberg.org/files/308/308-h/308-h.htm\\nhttps://www.gutenberg.org/files/1695/1695-h/1695-h.htm\\nhttps://www.gutenberg.org/files/47629/47629-h/47629-h.htm\\nhttps://www.gutenberg.org/files/1237/1237-h/1237-h.htm\\nhttps://www.gutenberg.org/files/65982/65982-h/65982-h.htm\\nhttps://www.gutenberg.org/files/31547/31547-h/31547-h.htm\\nhttps://www.gutenberg.org/files/863/863-h/863-h.htm\\nhttps://www.gutenberg.org/files/21970/21970-h/21970-h.htm\\nhttps://www.gutenberg.org/files/550/550-h/550-h.htm\\nhttps://www.gutenberg.org/files/2701/2701-h/2701-h.htm\\nhttps://www.gutenberg.org/files/1750/1750-h/1750-h.htm\\nhttps://www.gutenberg.org/files/21531/21531-h/21531-h.htm\\nhttps://www.gutenberg.org/files/143/143-h/143-h.htm\\nhttps://www.gutenberg.org/files/159/159-h/159-h.htm\\nhttps://www.gutenberg.org/files/8106/8106-h/8106-h.htm\\nhttps://www.gutenberg.org/files/66076/66076-h/66076-h.htm\\n'}"
            ]
          },
          "metadata": {},
          "execution_count": 5
        }
      ]
    },
    {
      "cell_type": "code",
      "metadata": {
        "id": "GrzLAN8aLUkF"
      },
      "source": [
        "fileObject = open(\"AllPublicDomainBook.txt\", \"r\")\n",
        "data = fileObject.read()\n",
        "allbooklist=data.split('\\n')\n"
      ],
      "execution_count": null,
      "outputs": []
    },
    {
      "cell_type": "code",
      "metadata": {
        "id": "Hs49x2zObiy7"
      },
      "source": [
        "len(allbooklist) #there are 1019, 1018\n",
        "type(allbooklist)\n",
        "#allbooklist=[x for x in allbooklist if len(x)>0]\n",
        "booklist1=allbooklist[:300]\n",
        "booklist1\n",
        "booklist2=allbooklist[301:600]\n",
        "booklist3=allbooklist[601:]"
      ],
      "execution_count": null,
      "outputs": []
    },
    {
      "cell_type": "code",
      "metadata": {
        "colab": {
          "base_uri": "https://localhost:8080/"
        },
        "id": "CMk2gfHgdIel",
        "outputId": "4a2dd796-3bb3-4994-d295-6c4f4d850544"
      },
      "source": [
        "len(booklist1)"
      ],
      "execution_count": null,
      "outputs": [
        {
          "data": {
            "text/plain": [
              "300"
            ]
          },
          "execution_count": 18,
          "metadata": {},
          "output_type": "execute_result"
        }
      ]
    },
    {
      "cell_type": "code",
      "metadata": {
        "id": "92rter2Qhqf8"
      },
      "source": [
        "all_tokens=split_string(article.text,\"\\n\\n \")\n",
        "for paragraph in all_tokens:\n",
        "  print(paragraph)"
      ],
      "execution_count": null,
      "outputs": []
    },
    {
      "cell_type": "code",
      "metadata": {
        "id": "bgU0fNyZTDRU"
      },
      "source": [
        "import time\n",
        "config.request_timeout = 20\n",
        "url=allbooklist[2]\n",
        "#article=Article(url,config=config)\n",
        "article=Article(url)\n",
        "#article.set_html(url)\n",
        "article.download()\n",
        "while article.download_state ==0: #ArticleDownloadState.NOT_STARTED is 0\n",
        "    time.sleep(1)\n",
        "article.parse()\n",
        "article.nlp\n",
        "print(article.text)\n",
        "#separators=['Chapter']\n",
        "#all_tokens=split_string(article.text,separators)\n",
        "#all_tokens\n"
      ],
      "execution_count": null,
      "outputs": []
    },
    {
      "cell_type": "markdown",
      "metadata": {
        "id": "884NtSiMqGrV"
      },
      "source": [
        "#08/19/21, there is a problem, artilce.text soes not contain all the things on the page /or the book. WHY? it was cut at somewhere."
      ]
    },
    {
      "cell_type": "code",
      "metadata": {
        "id": "7gW77NZ4JIYT"
      },
      "source": [
        "def split_string(source,separators): \n",
        "  return re.split('|'.join(re.escape(x) for x in separators),source)\n",
        "             \n",
        "def ReadBook(url,max_length,separators):\n",
        "  article=Article(url)\n",
        "  #article.download()\n",
        "  try:\n",
        "    article.download()\n",
        "    article.parse() \n",
        "    #article.nlp() #this cause problem\n",
        "    #all_tokens=re.split(r'Chapter|CHAPTER|\\n\\n', article.text)\n",
        "    all_tokens=split_string(article.text,separators)\n",
        "    all_tokens=[x  for x in all_tokens if len(x)>max_length]\n",
        "    #all_tokens=all_tokens[15:]\n",
        "    return all_tokens[1:],article.title \n",
        "  except:\n",
        "    return 0,0\n",
        " \n",
        "\n",
        "def CreateBertSummary(url,min_length, max_length , num_sentences,ratio,separators):\n",
        "  dat,title=ReadBook(url,max_length,separators)\n",
        "  if (dat !=0):\n",
        "    result=[]\n",
        "    for i in range(len(dat)):\n",
        "      result.append(bert_model(dat[i],min_length=min_length, max_length=max_length , num_sentences=num_sentences, ratio=ratio))\n",
        "    return result,title, url \n",
        "  else:\n",
        "    return 0,0,0\n",
        "\n",
        "def CreateXLNetSummary(url,min_length, max_length , num_sentences,ratio,separators):\n",
        "  dat,title=ReadBook(url,max_length,separators)\n",
        "  if (dat !=0):\n",
        "    result=[]\n",
        "    for i in range(len(dat)):\n",
        "      result.append(XLNet_model(dat[i],min_length=min_length, max_length=max_length , num_sentences=num_sentences,ratio=ratio))\n",
        "    return result,title, url \n",
        "  else:\n",
        "    return 0,0,0   \n",
        "\n",
        "def CreateGPT2Summary(url,min_length, max_length , num_sentences,ratio,separators):\n",
        "  dat,title=ReadBook(url,max_length,separators)\n",
        "  if (dat !=0):\n",
        "    result=[]\n",
        "    for i in range(len(dat)):\n",
        "      result.append(GPT2_model(dat[i],min_length=min_length, max_length=max_length , num_sentences=num_sentences,ratio=ratio))\n",
        "    return result,title, url   \n",
        "  else:\n",
        "    return 0,0,0          "
      ],
      "execution_count": null,
      "outputs": []
    },
    {
      "cell_type": "markdown",
      "metadata": {
        "id": "PTnHWR9Jtor_"
      },
      "source": [
        "#Create Sunmmary for books"
      ]
    },
    {
      "cell_type": "code",
      "metadata": {
        "id": "ymbfehOKtZaa"
      },
      "source": [
        "#XLNet_model(docfile, num_sentences=num_sentences)\n",
        "def BertSummary(dat, min_length, max_length,num_sentences, ratio,fileout,separators):\n",
        "  with open(fileout, 'w') as f:\n",
        "    for i in range(len(dat)):\n",
        "      url=dat[i]\n",
        "      print (\"\\nWeb URL : \", url,\"\\n\", file=f)\n",
        "      result, title, link=CreateBertSummary(url,min_length, max_length , num_sentences,ratio,separators)\n",
        "      print (\"\\nBook Title : \", title,\"\\n\", file=f)\n",
        "      if (result !=0):\n",
        "        for j in range(len(result)):\n",
        "          m=j+1\n",
        "          print (\"\\nChapter : \", m,\"\\n\", file=f)\n",
        "          print (\"Passage : \", result[j],file=f)\n",
        "      \n",
        "def GPT2Summary(dat, min_length, max_length,num_sentences, ratio,fileout,separators):\n",
        "  with open(fileout, 'w') as f:\n",
        "    \n",
        "    for i in range(len(dat)):\n",
        "      url=dat[i]\n",
        "      print (\"\\nWeb URL : \", url,\"\\n\", file=f)\n",
        "      result, title, link=CreateGPT2Summary(url,min_length, max_length , num_sentences,ratio,separators)\n",
        "      print (\"\\nBook Title : \", title,\"\\n\", file=f)\n",
        "      if (result !=0):\n",
        "        for j in range(len(result)):\n",
        "          m=j+1\n",
        "          print (\"\\nChapter : \", m,\"\\n\", file=f)\n",
        "          print (\"Passage : \", result[j],file=f)\n",
        "\n",
        "def XLNetSummary(dat, min_length, max_length,num_sentences, ratio,fileout,separators):\n",
        "  with open(fileout, 'w') as f:\n",
        "    \n",
        "    for i in range(len(dat)):\n",
        "      url=dat[i]\n",
        "      print (\"\\nWeb URL : \", url,\"\\n\", file=f)\n",
        "      result, title, link=CreateXLNetSummary(url,min_length, max_length , num_sentences,ratio,separators)\n",
        "      print (\"\\nBook Title : \", title,\"\\n\", file=f)\n",
        "      if (result !=0):\n",
        "        for j in range(len(result)):\n",
        "          m=j+1\n",
        "          print (\"\\nChapter : \", m,\"\\n\", file=f)\n",
        "          print (\"Passage : \", result[j],file=f)        "
      ],
      "execution_count": null,
      "outputs": []
    },
    {
      "cell_type": "code",
      "metadata": {
        "colab": {
          "base_uri": "https://localhost:8080/"
        },
        "id": "9oV_7JgDxlqG",
        "outputId": "2f8a7d4c-2162-4846-80bd-4de42f5f9905"
      },
      "source": [
        "from google.colab import drive\n",
        "drive.mount('/content/gdrive')"
      ],
      "execution_count": null,
      "outputs": [
        {
          "output_type": "stream",
          "name": "stdout",
          "text": [
            "Mounted at /content/gdrive\n"
          ]
        }
      ]
    },
    {
      "cell_type": "markdown",
      "metadata": {
        "id": "jrRw_Uh_PihX"
      },
      "source": [
        "# Create file conating summaries for each book\n",
        "min_length=100, max_length=1000, num_sentences=40"
      ]
    },
    {
      "cell_type": "markdown",
      "metadata": {
        "id": "Wm2f58ykIb-H"
      },
      "source": [
        "# a minimum word count of about 100 words, and maximum of about 200 words, not to exceed 12 lines."
      ]
    },
    {
      "cell_type": "code",
      "metadata": {
        "id": "d7CB6M_TwrwL"
      },
      "source": [
        "\n",
        "num_sentences=40\n",
        "summarizeratio=1\n",
        "separators=['Chapter','CHAPTER','Letter','I','II','III''IV','V','VI','VII','VIII']\n",
        "\n",
        "fileout=\"/content/gdrive/My Drive/Result/BertSummary\"+str(summarizeratio)+\".txt\"\n",
        "BertSummary(dat=allbooklist, min_length=100, max_length=1000, num_sentences=num_sentences, ratio=summarizeratio,fileout=fileout,separators=separators)"
      ],
      "execution_count": null,
      "outputs": []
    },
    {
      "cell_type": "code",
      "metadata": {
        "id": "aHMrwpxkHKQG"
      },
      "source": [
        "booklist1"
      ],
      "execution_count": null,
      "outputs": []
    },
    {
      "cell_type": "code",
      "metadata": {
        "colab": {
          "background_save": true,
          "base_uri": "https://localhost:8080/"
        },
        "id": "VdQUUctVoLl2",
        "outputId": "3387029b-d787-48b1-c813-42070ded710a"
      },
      "source": [
        "num_sentences=40\n",
        "summarizeratio=1\n",
        "separators=['Chapter','CHAPTER','Letter','I','II','III''IV','V','VI','VII','VIII']\n",
        "fileout=\"/content/gdrive/My Drive/Result/Book1000BertSummary1\"+str(summarizeratio)+\".txt\"\n",
        "BertSummary(dat=booklist1, min_length=100, max_length=1000, num_sentences=num_sentences, ratio=summarizeratio,fileout=fileout,separators=separators)"
      ],
      "execution_count": null,
      "outputs": [
        {
          "name": "stderr",
          "output_type": "stream",
          "text": [
            "/usr/local/lib/python3.7/dist-packages/summarizer/cluster_features.py:149: ConvergenceWarning: Number of distinct clusters (4) found smaller than n_clusters (7). Possibly due to duplicate points in X.\n",
            "  model = self.__get_model(k).fit(self.features)\n",
            "/usr/local/lib/python3.7/dist-packages/summarizer/cluster_features.py:149: ConvergenceWarning: Number of distinct clusters (11) found smaller than n_clusters (13). Possibly due to duplicate points in X.\n",
            "  model = self.__get_model(k).fit(self.features)\n",
            "/usr/local/lib/python3.7/dist-packages/summarizer/cluster_features.py:149: ConvergenceWarning: Number of distinct clusters (5) found smaller than n_clusters (8). Possibly due to duplicate points in X.\n",
            "  model = self.__get_model(k).fit(self.features)\n"
          ]
        }
      ]
    },
    {
      "cell_type": "code",
      "metadata": {
        "colab": {
          "background_save": true,
          "base_uri": "https://localhost:8080/"
        },
        "id": "GtcTDaZKoHQu",
        "outputId": "0ebb11d4-25bd-41ee-87c7-1640dbd4db70"
      },
      "source": [
        "num_sentences=40\n",
        "summarizeratio=1\n",
        "separators=['Chapter','CHAPTER','Letter','I','II','III''IV','V','VI','VII','VIII']\n",
        "fileout=\"/content/gdrive/My Drive/Result/Book1000BertSummary2\"+str(summarizeratio)+\".txt\"\n",
        "BertSummary(dat=booklist2, min_length=100, max_length=1000, num_sentences=num_sentences, ratio=summarizeratio,fileout=fileout,separators=separators)"
      ],
      "execution_count": null,
      "outputs": [
        {
          "name": "stderr",
          "output_type": "stream",
          "text": [
            "/usr/local/lib/python3.7/dist-packages/summarizer/cluster_features.py:149: ConvergenceWarning: Number of distinct clusters (15) found smaller than n_clusters (16). Possibly due to duplicate points in X.\n",
            "  model = self.__get_model(k).fit(self.features)\n"
          ]
        }
      ]
    },
    {
      "cell_type": "code",
      "metadata": {
        "colab": {
          "base_uri": "https://localhost:8080/"
        },
        "id": "sMgvcKnANfML",
        "outputId": "d8291573-ce97-48a2-bb94-2a0b10f4a7b7"
      },
      "source": [
        "num_sentences=40\n",
        "summarizeratio=1\n",
        "#booklist3=allbooklist[601:]\n",
        "separators=['Chapter','CHAPTER','Letter','I','II','III''IV','V','VI','VII','VIII']\n",
        "fileout=\"/content/gdrive/My Drive/Result/Book1000BertSummary3\"+str(summarizeratio)+\".txt\"\n",
        "BertSummary(dat=booklist3, min_length=100, max_length=1000, num_sentences=num_sentences, ratio=summarizeratio,fileout=fileout,separators=separators)"
      ],
      "execution_count": null,
      "outputs": [
        {
          "name": "stderr",
          "output_type": "stream",
          "text": [
            "/usr/local/lib/python3.7/dist-packages/summarizer/cluster_features.py:149: ConvergenceWarning: Number of distinct clusters (7) found smaller than n_clusters (8). Possibly due to duplicate points in X.\n",
            "  model = self.__get_model(k).fit(self.features)\n",
            "/usr/local/lib/python3.7/dist-packages/summarizer/cluster_features.py:149: ConvergenceWarning: Number of distinct clusters (8) found smaller than n_clusters (9). Possibly due to duplicate points in X.\n",
            "  model = self.__get_model(k).fit(self.features)\n"
          ]
        }
      ]
    },
    {
      "cell_type": "code",
      "metadata": {
        "id": "LYEZJi7Q027P"
      },
      "source": [
        "num_sentences=12\n",
        "summarizeratio=1\n",
        "separators=['Chapter','CHAPTER','Letter','I','II','III''IV','V','VI','VII','VIII']\n",
        "\n",
        "fileout=\"/content/gdrive/My Drive/Result/BertSummaryLarge\"+str(summarizeratio)+\".txt\"\n",
        "BertSummary(dat=booklist, min_length=100, max_length=1000, num_sentences=25, ratio=summarizeratio,fileout=fileout,separators=separators)"
      ],
      "execution_count": null,
      "outputs": []
    },
    {
      "cell_type": "code",
      "metadata": {
        "colab": {
          "base_uri": "https://localhost:8080/"
        },
        "id": "Li0Jf0K8jQ2n",
        "outputId": "694feff2-70a1-42de-d7cf-ca40ac92b877"
      },
      "source": [
        "num_sentences=12\n",
        "summarizeratio=1\n",
        "separators=['Chapter','CHAPTER','Letter','I','II','III''IV','V','VI','VII','VIII']\n",
        "\n",
        "fileout=\"/content/gdrive/My Drive/Result/XLNetSummaryLarge\"+str(summarizeratio)+\".txt\"\n",
        "XLNetSummary(dat=booklist, min_length=100, max_length=1000, num_sentences=40, ratio=summarizeratio,fileout=fileout,separators=separators)"
      ],
      "execution_count": null,
      "outputs": [
        {
          "name": "stderr",
          "output_type": "stream",
          "text": [
            "/usr/local/lib/python3.7/dist-packages/summarizer/cluster_features.py:149: ConvergenceWarning: Number of distinct clusters (15) found smaller than n_clusters (16). Possibly due to duplicate points in X.\n",
            "  model = self.__get_model(k).fit(self.features)\n",
            "/usr/local/lib/python3.7/dist-packages/summarizer/cluster_features.py:149: ConvergenceWarning: Number of distinct clusters (15) found smaller than n_clusters (16). Possibly due to duplicate points in X.\n",
            "  model = self.__get_model(k).fit(self.features)\n"
          ]
        }
      ]
    },
    {
      "cell_type": "code",
      "metadata": {
        "colab": {
          "base_uri": "https://localhost:8080/"
        },
        "id": "Ul5MU2M16yxO",
        "outputId": "21f3feab-c6d0-4d14-b13d-aba3eaf68fac"
      },
      "source": [
        "num_sentences=25\n",
        "summarizeratio=1\n",
        "separators=['Chapter','CHAPTER','Letter','I','II','III''IV','V','VI','VII','VIII']\n",
        "\n",
        "fileout=\"/content/gdrive/My Drive/Result/GTP2Summary\"+str(summarizeratio)+\".txt\"\n",
        "GPT2Summary(dat=booklist, min_length=100, max_length=500, num_sentences=num_sentences, ratio=summarizeratio,fileout=fileout,separators=separators)"
      ],
      "execution_count": null,
      "outputs": [
        {
          "name": "stderr",
          "output_type": "stream",
          "text": [
            "/usr/local/lib/python3.7/dist-packages/summarizer/cluster_features.py:149: ConvergenceWarning: Number of distinct clusters (15) found smaller than n_clusters (16). Possibly due to duplicate points in X.\n",
            "  model = self.__get_model(k).fit(self.features)\n",
            "/usr/local/lib/python3.7/dist-packages/summarizer/cluster_features.py:149: ConvergenceWarning: Number of distinct clusters (15) found smaller than n_clusters (16). Possibly due to duplicate points in X.\n",
            "  model = self.__get_model(k).fit(self.features)\n"
          ]
        }
      ]
    },
    {
      "cell_type": "markdown",
      "metadata": {
        "id": "kbSE81Yn6H8t"
      },
      "source": [
        "#Re create short summary from larger summary and output results\n",
        "# a minimum word count of about 100 words, and maximum of about 200 words, not to exceed 12 lines."
      ]
    },
    {
      "cell_type": "code",
      "metadata": {
        "id": "5V80Eeks6KjI"
      },
      "source": [
        "def split_doc(filein,min_length):\n",
        "  fileObject = open(filein, \"r\")\n",
        "  dat = fileObject.read()\n",
        "  df=pd.DataFrame()\n",
        "  urls = re.findall('(?:(?:https?|ftp):\\/\\/)[\\w/\\-?=%.]+\\.[\\w/\\-&?=%.]+', dat)\n",
        "  #L=len(urls)\n",
        "  data1=dat.split('Web URL')\n",
        "  L=len(data1)\n",
        "  for i in range(L):\n",
        "    data2=data1[i].split('Chapter')\n",
        "    title_link=\"Web URL\"+str(data2[0])\n",
        "    data3=[x for x in data2[1:] if len(x)>min_length]\n",
        "    J=len(data3) #number of passages that will be used to create questions\n",
        "    for j in range(J):\n",
        "      text=data3[j].replace(\"Passage\", \" \")\n",
        "      text=text.replace(':',\" \")\n",
        "      pattern=r'([\\d]{1,2})'\n",
        "      temp=re.findall(pattern,text) #chapter number\n",
        "      text=text.replace(temp[0],\"\")\n",
        "      text=text.replace('\\n\\n',\" \")\n",
        "      df=df.append(pd.Series([title_link,temp[0], text]),ignore_index=True)\n",
        "  df.columns=['Book Web URL and Title','Chapter', 'Passage']\n",
        "  return df\n",
        "summarizeratio=1\n",
        "filein=\"/content/gdrive/My Drive/Result/BertSummaryLarge\"+str(summarizeratio)+\".txt\"\n",
        "#df=split_doc(filein,min_length=100) "
      ],
      "execution_count": null,
      "outputs": []
    },
    {
      "cell_type": "code",
      "metadata": {
        "id": "z6o0Ca8R6Tls"
      },
      "source": [
        "df"
      ],
      "execution_count": null,
      "outputs": []
    },
    {
      "cell_type": "code",
      "metadata": {
        "id": "P49uYOTN6P26"
      },
      "source": [
        "def ShortBertSummary(text,min_length, max_length , num_sentences):\n",
        "  result=bert_model(text,min_length=min_length, max_length=max_length , num_sentences=num_sentences)\n",
        "  return result\n",
        "\n",
        "def ShortXLNetSummary(text,min_length, max_length , num_sentences):\n",
        "  result=XLNet_model(text,min_length=min_length, max_length=max_length , num_sentences=num_sentences)\n",
        "  return result\n",
        "def ShortGPT2Summary(text,min_length, max_length , num_sentences):\n",
        "  result=GPT2_model(text,min_length=min_length, max_length=max_length , num_sentences=num_sentences)\n",
        "  return result  \n"
      ],
      "execution_count": null,
      "outputs": []
    },
    {
      "cell_type": "code",
      "metadata": {
        "colab": {
          "base_uri": "https://localhost:8080/"
        },
        "id": "F5N0RQMJFN-g",
        "outputId": "d74d8bad-a183-4e26-e84f-4944f48f7815"
      },
      "source": [
        "summarizeratio=1\n",
        "filein=\"/content/gdrive/My Drive/Result/Book1000BertSummaryLarge\"+str(summarizeratio)+\".txt\"\n",
        "df=split_doc(filein,min_length=100) \n",
        "max_length=200\n",
        "num_sentences=12\n",
        "min_length=100\n",
        "df['BertSummary']=df['Passage'].apply(lambda x: ShortBertSummary(x,min_length, max_length , num_sentences))\n",
        "pd.DataFrame(df).to_csv('PublicBook1000BertSummary.csv')"
      ],
      "execution_count": null,
      "outputs": [
        {
          "name": "stderr",
          "output_type": "stream",
          "text": [
            "/usr/local/lib/python3.7/dist-packages/summarizer/cluster_features.py:149: ConvergenceWarning: Number of distinct clusters (4) found smaller than n_clusters (7). Possibly due to duplicate points in X.\n",
            "  model = self.__get_model(k).fit(self.features)\n",
            "/usr/local/lib/python3.7/dist-packages/summarizer/cluster_features.py:149: ConvergenceWarning: Number of distinct clusters (8) found smaller than n_clusters (10). Possibly due to duplicate points in X.\n",
            "  model = self.__get_model(k).fit(self.features)\n",
            "/usr/local/lib/python3.7/dist-packages/summarizer/cluster_features.py:149: ConvergenceWarning: Number of distinct clusters (5) found smaller than n_clusters (8). Possibly due to duplicate points in X.\n",
            "  model = self.__get_model(k).fit(self.features)\n"
          ]
        }
      ]
    },
    {
      "cell_type": "code",
      "metadata": {
        "id": "trRZ-8mhQmjl"
      },
      "source": [
        "summarizeratio=1\n",
        "filein=\"/content/gdrive/My Drive/Result/Book1000BertSummary1\"+str(summarizeratio)+\".txt\"\n",
        "df=split_doc(filein,min_length=100) \n",
        "max_length=200\n",
        "num_sentences=12\n",
        "min_length=100\n",
        "df['BertSummary']=df['Passage'].apply(lambda x: ShortBertSummary(x,min_length, max_length , num_sentences))\n",
        "pd.DataFrame(df).to_csv('PublicBook1000BertSummary1.csv')"
      ],
      "execution_count": null,
      "outputs": []
    },
    {
      "cell_type": "code",
      "metadata": {
        "id": "KKd4oDJjYeEb"
      },
      "source": [
        "summarizeratio=1. \n",
        "filein=\"/content/gdrive/My Drive/Result/Book1000BertSummary2\"+str(summarizeratio)+\".txt\"\n",
        "df=split_doc(filein,min_length=100) \n",
        "max_length=200\n",
        "num_sentences=12\n",
        "min_length=100\n",
        "df['BertSummary']=df['Passage'].apply(lambda x: ShortBertSummary(x,min_length, max_length , num_sentences))\n",
        "pd.DataFrame(df).to_csv('PublicBook1000BertSummary2.csv')"
      ],
      "execution_count": null,
      "outputs": []
    },
    {
      "cell_type": "code",
      "metadata": {
        "colab": {
          "base_uri": "https://localhost:8080/"
        },
        "id": "7ZvrZKqdY_R-",
        "outputId": "f52c945e-4563-4f4f-85d1-e0f7b3954387"
      },
      "source": [
        "summarizeratio=1\n",
        "filein=\"/content/gdrive/My Drive/Result/Book1000BertSummary3\"+str(summarizeratio)+\".txt\"\n",
        "df=split_doc(filein,min_length=100) \n",
        "max_length=200\n",
        "num_sentences=12\n",
        "min_length=100\n",
        "df['BertSummary']=df['Passage'].apply(lambda x: ShortBertSummary(x,min_length, max_length , num_sentences))\n",
        "pd.DataFrame(df).to_csv('PublicBook1000BertSummary3.csv')"
      ],
      "execution_count": null,
      "outputs": [
        {
          "name": "stderr",
          "output_type": "stream",
          "text": [
            "/usr/local/lib/python3.7/dist-packages/summarizer/cluster_features.py:149: ConvergenceWarning: Number of distinct clusters (3) found smaller than n_clusters (4). Possibly due to duplicate points in X.\n",
            "  model = self.__get_model(k).fit(self.features)\n",
            "/usr/local/lib/python3.7/dist-packages/summarizer/cluster_features.py:149: ConvergenceWarning: Number of distinct clusters (5) found smaller than n_clusters (6). Possibly due to duplicate points in X.\n",
            "  model = self.__get_model(k).fit(self.features)\n"
          ]
        }
      ]
    },
    {
      "cell_type": "code",
      "metadata": {
        "id": "xhNZATv_u9gq"
      },
      "source": [
        "df1=pd.read_csv('PublicBook1000BertSummary1.csv')\n",
        "df2=pd.read_csv('PublicBook1000BertSummary2.csv')\n",
        "df3=pd.read_csv('PublicBook1000BertSummary3.csv')\n",
        "df=pd.concat([df1,df2,df3],axis=0)\n",
        "fileout=\"/content/gdrive/My Drive/Result/PublicBook1000BertSummary.csv\"\n",
        "pd.DataFrame(df).to_csv(fileout)#there are 11654 rows"
      ],
      "execution_count": null,
      "outputs": []
    },
    {
      "cell_type": "code",
      "metadata": {
        "colab": {
          "base_uri": "https://localhost:8080/"
        },
        "id": "cye2d_MZTN0w",
        "outputId": "49d6ae57-5590-4a25-a9ee-0d5663a3d70d"
      },
      "source": [
        "len(df)"
      ],
      "execution_count": null,
      "outputs": [
        {
          "output_type": "execute_result",
          "data": {
            "text/plain": [
              "11654"
            ]
          },
          "metadata": {},
          "execution_count": 15
        }
      ]
    },
    {
      "cell_type": "code",
      "metadata": {
        "colab": {
          "background_save": true
        },
        "id": "D2Io_zBoFIlb"
      },
      "source": [
        "summarizeratio=1\n",
        "filein=\"/content/gdrive/My Drive/Result/XLNetSummaryLarge\"+str(summarizeratio)+\".txt\"\n",
        "filein=\"/content/gdrive/My Drive/Result/Book1000BertSummaryLarge\"+str(summarizeratio)+\".txt\"\n",
        "df=split_doc(filein,min_length=100) \n",
        "max_length=200\n",
        "num_sentences=12\n",
        "min_length=100\n",
        "df['XLNetSummary']=df['Passage'].apply(lambda x: ShortXLNetSummary(x,min_length, max_length , num_sentences))\n",
        "pd.DataFrame(df).to_csv('PublicBook1000XLNetSummary.csv')"
      ],
      "execution_count": null,
      "outputs": []
    },
    {
      "cell_type": "markdown",
      "metadata": {
        "id": "eW2j6KZdPrAy"
      },
      "source": [
        "#Generate some MCQ questions"
      ]
    },
    {
      "cell_type": "code",
      "metadata": {
        "id": "8TOfJLY0T62s"
      },
      "source": [
        "\n",
        "import nltk\n",
        "nltk.download('stopwords')\n",
        "nltk.download('popular')\n",
        "#python -m nltk.downloader 'popular'\n",
        "!pip install sentencepiece\n",
        "#!pip install BigBirdTokenizer\n",
        "!pip install sentence-transformers==0.2.5.1\n",
        "!pip install transformers==2.6.0\n",
        "!python -m spacy download en"
      ],
      "execution_count": null,
      "outputs": []
    },
    {
      "cell_type": "code",
      "metadata": {
        "id": "70Fh2hR0Tr2M"
      },
      "source": [
        "import nltk\n",
        "nltk.download('stopwords')\n",
        "nltk.download('popular')\n",
        "#python -m nltk.downloader 'popular'\n",
        "!pip install sentencepiece\n",
        "import pprint\n",
        "import itertools\n",
        "import re\n",
        "import pke\n",
        "import string\n",
        "from nltk.corpus import stopwords\n",
        "\n",
        "from nltk.tokenize import sent_tokenize\n",
        "!pip install flashtext\n",
        "from flashtext import KeywordProcessor\n",
        "\n",
        "#import requests\n",
        "import json\n",
        "import re\n",
        "import random\n",
        "from nltk.corpus import wordnet as wn"
      ],
      "execution_count": null,
      "outputs": []
    },
    {
      "cell_type": "code",
      "metadata": {
        "id": "qBh1FGH5A9VM"
      },
      "source": [
        "def tokenize_sentences(text):\n",
        "    sentences = [sent_tokenize(text)] # list of list\n",
        "    sentences = [y for x in sentences for y in x] #sentences[0], a list of sentences\n",
        "    # Remove any short sentences less than 20 letters.\n",
        "    sentences = [sentence.strip() for sentence in sentences if len(sentence) > 20]\n",
        "    return sentences\n",
        "\n",
        "def get_sentences_for_keyword(keywords, sentences):\n",
        "    keyword_processor = KeywordProcessor()\n",
        "    keyword_sentences = {}\n",
        "    for word in keywords:\n",
        "        keyword_sentences[word] = []\n",
        "        keyword_processor.add_keyword(word)\n",
        "    for sentence in sentences:\n",
        "        keywords_found = keyword_processor.extract_keywords(sentence)\n",
        "        for key in keywords_found:\n",
        "            keyword_sentences[key].append(sentence)\n",
        "\n",
        "    for key in keyword_sentences.keys():\n",
        "        values = keyword_sentences[key]\n",
        "        values = sorted(values, key=len, reverse=True)\n",
        "        keyword_sentences[key] = values\n",
        "    return keyword_sentences\n",
        "       \n",
        "def get_nouns_multipartite(text,num=20, pos={'PROPN'}):#number of keys extracted\n",
        "    out=[]\n",
        "\n",
        "    extractor = pke.unsupervised.MultipartiteRank()\n",
        "    #extractor = pke.unsupervised.TfIdf()\n",
        "    extractor.load_document(input=text)\n",
        "    #extractor.load_document(input=text,\n",
        "    #                    language='en')\n",
        "\n",
        "    #    not contain punctuation marks or stopwords as candidates.\n",
        "    #pos={'PROPN'}\n",
        "    #pos = {'VERB', 'ADJ', 'NOUN'}\n",
        "    stoplist = list(string.punctuation)\n",
        "    stoplist += ['-lrb-', '-rrb-', '-lcb-', '-rcb-', '-lsb-', '-rsb-']\n",
        "    stoplist += stopwords.words('english')\n",
        "    extractor.candidate_selection(pos=pos, stoplist=stoplist)\n",
        "    # 4. build the Multipartite graph and rank candidates using random walk,\n",
        "    #    alpha controls the weight adjustment mechanism, see TopicRank for\n",
        "    #    threshold/method parameters.\n",
        "    extractor.candidate_weighting(alpha=1.1,\n",
        "                                  threshold=0.75,\n",
        "                                  method='average')\n",
        "    keyphrases = extractor.get_n_best(n=num)\n",
        "\n",
        "    for key in keyphrases:\n",
        "        out.append(key[0])\n",
        "\n",
        "    return out\n",
        "\n",
        "# Distractors from Wordnet\n",
        "def get_distractors_wordnet(syn,word):\n",
        "    distractors=[]\n",
        "    word= word.lower()\n",
        "    orig_word = word\n",
        "    if len(word.split())>0:\n",
        "        word = word.replace(\" \",\"_\")\n",
        "    hypernym = syn.hypernyms()\n",
        "    if len(hypernym) == 0: \n",
        "        return distractors\n",
        "    for item in hypernym[0].hyponyms():\n",
        "        name = item.lemmas()[0].name()\n",
        "        #print (\"name \",name, \" word\",orig_word)\n",
        "        if name == orig_word:\n",
        "            continue\n",
        "        name = name.replace(\"_\",\" \")\n",
        "        name = \" \".join(w.capitalize() for w in name.split())\n",
        "        if name is not None and name not in distractors:\n",
        "            distractors.append(name)\n",
        "    return distractors\n",
        "\n",
        "def get_wordsense(sent,word):\n",
        "    word= word.lower()\n",
        "    \n",
        "    if len(word.split())>0:\n",
        "        word = word.replace(\" \",\"_\")\n",
        "    \n",
        "    synsets = wn.synsets(word,'n')\n",
        "    \n",
        "    if synsets:\n",
        "      try:\n",
        "        wup = max_similarity(sent, word, pos='n')#this wup might not be the original word, may be root, cooling, cool\n",
        "        try:\n",
        "          adapted_lesk_output =  adapted_lesk(sent, word, pos='n')\n",
        "          if  wup in synsets and  adapted_lesk_output in synsets:\n",
        "            lowest_index = min (synsets.index(wup),synsets.index(adapted_lesk_output))\n",
        "          elif wup in synsets:\n",
        "            lowest_index=synsets.index(wup)\n",
        "          elif adapted_lesk_output in synsets:  \n",
        "            lowest_index=synsets.index(adapted_lesk_output)\n",
        "          else:\n",
        "            lowest_index=0\n",
        "        except Exception:\n",
        "          lowest_index=synsets.index(wup)\n",
        "      except Exception:\n",
        "        lowest_index=0\n",
        "      return synsets[lowest_index]\n",
        "    else:\n",
        "        return None\n",
        "\n",
        "# Distractors from http://conceptnet.io/\n",
        "def get_distractors_conceptnet(word):\n",
        "    word = word.lower()\n",
        "    original_word= word\n",
        "    if (len(word.split())>0):\n",
        "        word = word.replace(\" \",\"_\")\n",
        "    distractor_list = [] \n",
        "    url = \"http://api.conceptnet.io/query?node=/c/en/%s/n&rel=/r/PartOf&start=/c/en/%s&limit=5\"%(word,word)\n",
        "    obj = requests.get(url).json()\n",
        "\n",
        "    for edge in obj['edges']:\n",
        "        link = edge['end']['term'] \n",
        "\n",
        "        url2 = \"http://api.conceptnet.io/query?node=%s&rel=/r/PartOf&end=%s&limit=10\"%(link,link)\n",
        "        obj2 = requests.get(url2).json()\n",
        "        for edge in obj2['edges']:\n",
        "            word2 = edge['start']['label']\n",
        "            if word2 not in distractor_list and original_word.lower() not in word2.lower():\n",
        "                distractor_list.append(word2)\n",
        "                   \n",
        "    return distractor_list\n",
        "\n",
        "#create summary and create list of  key that was in the summary\n",
        "summarizeratio=1\n",
        "def CreatKeys(text, min_length,max_length,num_sentences,ratio,num, pos):\n",
        "  keywords = get_nouns_multipartite(text,num=num, pos=pos) \n",
        "  result = bert_model(text, min_length=min_length, max_length = max_length , num_sentences=num_sentences,  ratio=ratio)\n",
        "  summarized_text = ''.join(result)\n",
        "  filtered_keys=[]\n",
        "  for keyword in keywords:\n",
        "    if keyword.lower() in summarized_text.lower():\n",
        "        filtered_keys.append(keyword)\n",
        "  return filtered_keys ,summarized_text     \n",
        "\n",
        "\n",
        "def Key_list(text,min_length,max_length,num_sentences,ratio,num=20, pos={'PROPN'}):\n",
        "  key_distractor_list = {}\n",
        "  filtered_keys,summarized_text = CreatKeys(text, min_length,max_length,num_sentences,ratio,num, pos)\n",
        "  sentences = tokenize_sentences(summarized_text)\n",
        "  keyword_sentence_mapping = get_sentences_for_keyword(filtered_keys, sentences)\n",
        "  for keyword in keyword_sentence_mapping:\n",
        "    if len(keyword_sentence_mapping[keyword])>0:\n",
        "      wordsense = get_wordsense(keyword_sentence_mapping[keyword][0],keyword)\n",
        "      if wordsense:\n",
        "        distractors = get_distractors_wordnet(wordsense,keyword)\n",
        "        if len(distractors) ==0:\n",
        "          distractors = get_distractors_conceptnet(keyword)\n",
        "        if len(distractors) != 0:\n",
        "          key_distractor_list[keyword] = distractors\n",
        "      else:\n",
        "        distractors = get_distractors_conceptnet(keyword)\n",
        "        if len(distractors) != 0:\n",
        "          key_distractor_list[keyword] = distractors\n",
        "\n",
        "  return key_distractor_list , keyword_sentence_mapping   \n",
        "\n",
        "import sys  \n",
        "\n",
        "def CreateBERTSummaryFormatMCQ(dat, min_length, max_length ,num_sentences,ratio,num, pos,separators,fileout):\n",
        "  item=1\n",
        "  with open(fileout, 'w') as f:\n",
        "    for j in range(len(dat)):\n",
        "      url=dat[j]\n",
        "      print (\"\\nWeb URL : \", url,\"\\n\", file=f)\n",
        "      result, title, link=CreateBertSummary(url,min_length, max_length ,num_sentences, ratio,separators)\n",
        "      print (\"\\nBook Title : \", title,\"\\n\", file=f)\n",
        "      for i in range(len(result)): \n",
        "        index=1\n",
        "        text=result[i]\n",
        "        i=i+1\n",
        "        key_distractor_list,keyword_sentence_mapping=Key_list(text,min_length,max_length,num_sentences,ratio,num=num, pos=pos)\n",
        "        print (\"\\nChapter : \", i,\"\\n\", file=f)\n",
        "        print (\"\\nPassage : \", text,\"\\n\",file=f)\n",
        "        for each in key_distractor_list:\n",
        "          if len(keyword_sentence_mapping[each])>0: #modified 07/30/21 Lihua\n",
        "            sentence = keyword_sentence_mapping[each][0]\n",
        "            pattern = re.compile(each, re.IGNORECASE)\n",
        "            output = pattern.sub( \" _______ \", sentence)\n",
        "            #print (\"\\nDocument Number : \", item,\"\\n\",file=fileout)\n",
        "            print (\"%s)\"%(index),output,file=f)\n",
        "            choices = [each.capitalize()] + key_distractor_list[each]\n",
        "            if len(choices)>=4:\n",
        "              top4choices = choices[:4]\n",
        "              random.shuffle(top4choices)\n",
        "              optionchoices = ['a','b','c','d']\n",
        "              for idx,choice in enumerate(top4choices):\n",
        "                print (\"\\t\",optionchoices[idx],\")\",\" \",choice,file=f)\n",
        "              print (\"\\nMore options: \", choices[4:20],\"\\n\\n\",file=f) \n",
        "              index=index+1     \n",
        "     \n",
        "def CreateGPT2SummaryFormatMCQ(dat, min_length, max_length ,num_sentences,ratio,num, pos,separators,fileout):\n",
        "  item=1\n",
        "  with open(fileout, 'w') as f:\n",
        "    for j in range(len(dat)):\n",
        "      url=dat[j]\n",
        "      print (\"\\nWeb URL : \", url,\"\\n\", file=f)\n",
        "      result, title, link=CreateGPT2Summary(url,min_length, max_length ,num_sentences, ratio,separators)\n",
        "      print (\"\\nBook Title : \", title,\"\\n\", file=f)\n",
        "      for i in range(len(result)): \n",
        "        index=1\n",
        "        text=result[i]\n",
        "        i=i+1\n",
        "        key_distractor_list,keyword_sentence_mapping=Key_list(text,min_length,max_length,num_sentences,ratio,num=num, pos=pos)\n",
        "        print (\"\\nChapter : \", i,\"\\n\", file=f)\n",
        "        print (\"\\nPassage : \", text,\"\\n\",file=f)\n",
        "        for each in key_distractor_list:\n",
        "          if len(keyword_sentence_mapping[each])>0: #modified 07/30/21 Lihua\n",
        "            sentence = keyword_sentence_mapping[each][0]\n",
        "            pattern = re.compile(each, re.IGNORECASE)\n",
        "            output = pattern.sub( \" _______ \", sentence)\n",
        "            #print (\"\\nDocument Number : \", item,\"\\n\",file=fileout)\n",
        "            print (\"%s)\"%(index),output,file=f)\n",
        "            choices = [each.capitalize()] + key_distractor_list[each]\n",
        "            if len(choices)>=4:\n",
        "              top4choices = choices[:4]\n",
        "              random.shuffle(top4choices)\n",
        "              optionchoices = ['a','b','c','d']\n",
        "              for idx,choice in enumerate(top4choices):\n",
        "                print (\"\\t\",optionchoices[idx],\")\",\" \",choice,file=f)\n",
        "              print (\"\\nMore options: \", choices[4:20],\"\\n\\n\",file=f) \n",
        "              index=index+1     \n",
        "\n",
        "\n",
        "def CreateXLNetSummaryFormatMCQ(dat, min_length, max_length ,num_sentences,ratio,num, pos,separators,fileout):\n",
        "  item=1\n",
        "  with open(fileout, 'w') as f:\n",
        "    for j in range(len(dat)):\n",
        "      url=dat[j]\n",
        "      print (\"\\nWeb URL : \", url,\"\\n\", file=f)\n",
        "      result, title, link=CreateXLNetSummary(url,min_length, max_length ,num_sentences, ratio,separators)\n",
        "      print (\"\\nBook Title : \", title,\"\\n\", file=f)\n",
        "      for i in range(len(result)): \n",
        "        index=1\n",
        "        text=result[i]\n",
        "        i=i+1\n",
        "        key_distractor_list,keyword_sentence_mapping=Key_list(text,min_length,max_length,num_sentences,ratio,num=num, pos=pos)\n",
        "        print (\"\\nChapter : \", i,\"\\n\", file=f)\n",
        "        print (\"\\nPassage : \", text,\"\\n\",file=f)\n",
        "        for each in key_distractor_list:\n",
        "          if len(keyword_sentence_mapping[each])>0: #modified 07/30/21 Lihua\n",
        "            sentence = keyword_sentence_mapping[each][0]\n",
        "            pattern = re.compile(each, re.IGNORECASE)\n",
        "            output = pattern.sub( \" _______ \", sentence)\n",
        "            #print (\"\\nDocument Number : \", item,\"\\n\",file=fileout)\n",
        "            print (\"%s)\"%(index),output,file=f)\n",
        "            choices = [each.capitalize()] + key_distractor_list[each]\n",
        "            if len(choices)>=4:\n",
        "              top4choices = choices[:4]\n",
        "              random.shuffle(top4choices)\n",
        "              optionchoices = ['a','b','c','d']\n",
        "              for idx,choice in enumerate(top4choices):\n",
        "                print (\"\\t\",optionchoices[idx],\")\",\" \",choice,file=f)\n",
        "              print (\"\\nMore options: \", choices[4:20],\"\\n\\n\",file=f) \n",
        "              index=index+1                   \n"
      ],
      "execution_count": null,
      "outputs": []
    },
    {
      "cell_type": "code",
      "metadata": {
        "id": "KUQOGJWFPusb"
      },
      "source": [
        "dat=alllist[:2]\n",
        "len(dat)\n",
        "url=dat[0]\n",
        "result, title, link=CreateBertSummary(url,min_length=100, max_length=200 ,num_sentences=12, ratio=0.2,separators=separators)"
      ],
      "execution_count": null,
      "outputs": []
    },
    {
      "cell_type": "code",
      "metadata": {
        "id": "lMZC3pYWT2MZ"
      },
      "source": [
        "summarizeratio=0.2\n",
        "separators=['Chapter','CHAPTER','Letter','I','II','III''IV','V','VI','VII','VIII']\n",
        "fileout=\"/content/gdrive/My Drive/Result/BERTSummaryMCQ\"+str(summarizeratio)+\".txt\"\n",
        "CreateBERTSummaryFormatMCQ(dat=allbooklist, min_length=100, max_length=200 ,num_sentences=12,ratio=summarizeratio,num=20, pos={'PROPN'},separators=separators,fileout=fileout)"
      ],
      "execution_count": null,
      "outputs": []
    },
    {
      "cell_type": "code",
      "metadata": {
        "id": "6xycN6Bbbn2V"
      },
      "source": [
        "summarizeratio=0.2\n",
        "separators=['Chapter','CHAPTER','Letter','I.','II.','III.''IV.','V.','VI.','VII.','VIII.']\n",
        "for i in range(40):\n",
        "  i=i+1\n",
        "  ls1='Chapter '+ str(i)\n",
        "  ls2='CHAPTER ' +str(i)\n",
        "  ls2='Letter ' +str(i)\n",
        "  separators.append(ls1)\n",
        "  separators.append(ls2)\n",
        "fileout=\"/content/gdrive/My Drive/Result/GPT2SummaryMCQ\"+str(summarizeratio)+\".txt\"\n",
        "CreateGPT2SummaryFormatMCQ(dat=alllist[:2], min_length=100, max_length=200 ,num_sentences=12,ratio=summarizeratio,num=20, pos={'PROPN'},separators=separators,fileout=fileout)"
      ],
      "execution_count": null,
      "outputs": []
    },
    {
      "cell_type": "code",
      "metadata": {
        "id": "73foS-ykbyhm"
      },
      "source": [
        "summarizeratio=0.2\n",
        "separators=['Chapter','CHAPTER','Letter','I.','II.','III.''IV.','V.','VI.','VII.','VIII.']\n",
        "for i in range(40):\n",
        "  i=i+1\n",
        "  ls1='Chapter '+ str(i)\n",
        "  ls2='CHAPTER ' +str(i)\n",
        "  ls2='Letter ' +str(i)\n",
        "  separators.append(ls1)\n",
        "  separators.append(ls2)\n",
        "fileout=\"/content/gdrive/My Drive/Result/XLNetSummaryMCQ\"+str(summarizeratio)+\".txt\"\n",
        "CreateXLNetSummaryFormatMCQ(dat=alllist[:2], min_length=100, max_length=200 ,num_sentences=12,ratio=summarizeratio,num=20, pos={'PROPN'},separators=separators,fileout=fileout)"
      ],
      "execution_count": null,
      "outputs": []
    },
    {
      "cell_type": "markdown",
      "metadata": {
        "id": "iZVWtUb9gW-U"
      },
      "source": [
        "#Another methods Creating MCQ items\n",
        "1.Library"
      ]
    },
    {
      "cell_type": "code",
      "metadata": {
        "id": "fDU9tKTCj8tP"
      },
      "source": [
        "!pip install git+https://github.com/ramsrigouthamg/Questgen.ai\n",
        "!pip install sense2vec==1.0.2\n",
        "!pip install git+https://github.com/boudinfl/pke.git\n",
        "\n",
        "!python -m nltk.downloader universal_tagset\n",
        "!python -m spacy download en"
      ],
      "execution_count": null,
      "outputs": []
    },
    {
      "cell_type": "code",
      "metadata": {
        "id": "5JNemOpRjYDl"
      },
      "source": [
        "!wget https://github.com/explosion/sense2vec/releases/download/v1.0.0/s2v_reddit_2015_md.tar.gz\n",
        "!tar -xvf  s2v_reddit_2015_md.tar.gz\n",
        "!ls s2v_old"
      ],
      "execution_count": null,
      "outputs": []
    },
    {
      "cell_type": "markdown",
      "metadata": {
        "id": "BCzqXpa9l8hb"
      },
      "source": [
        "#08/10/21. THis makes the code Questgen work, without restarting run time"
      ]
    },
    {
      "cell_type": "code",
      "metadata": {
        "id": "bXQrQkuFkp0P"
      },
      "source": [
        "!pip install git+https://github.com/huggingface/transformers\n",
        "\n",
        "#08/10/21. THis makes the code Questgen work, withoit restarting run time"
      ],
      "execution_count": null,
      "outputs": []
    },
    {
      "cell_type": "code",
      "metadata": {
        "id": "ZwT8rWoegyLH"
      },
      "source": [
        "from pprint import pprint\n",
        "import nltk\n",
        "nltk.download('stopwords')\n",
        "from Questgen import main\n",
        "qe= main.BoolQGen()\n",
        "qg = main.QGen()"
      ],
      "execution_count": null,
      "outputs": []
    },
    {
      "cell_type": "code",
      "metadata": {
        "id": "BQi3rH1icnzb"
      },
      "source": [
        "import random\n",
        "def ReFormat(docfile):\n",
        "  thisdict = {\n",
        "     \"input_text\": docfile\n",
        "  }\n",
        "  return thisdict\n",
        "\n",
        "def CreatePassageBert2MCQ(dat,min_length, max_length ,num_sentences, ratio,separators,fileout):\n",
        "  \n",
        "  with open(fileout, 'w') as f:\n",
        "    for item in range(len(dat)):\n",
        "      url=dat[item]\n",
        "      print (\"\\nWeb URL : \", url,\"\\n\", file=f)\n",
        "      result, title, link=CreateBertSummary(url,min_length, max_length ,num_sentences, ratio,separators)\n",
        "      if (result !=0):\n",
        "        print (\"\\nBook Title : \", title,\"\\n\", file=f)\n",
        "        for i in range(len(result)): \n",
        "          index=0\n",
        "          text=result[i]\n",
        "          i=i+1\n",
        "          tempdat=ReFormat(str(text))\n",
        "          output = qg.predict_mcq(tempdat)\n",
        "         # print (\"\\nChapter : \", i,\"\\n\", file=f)\n",
        "         # print (\"\\nPassage : \", text,\"\\n\",file=f)\n",
        "          if 'questions' in output.keys():\n",
        "            L=len(output['questions'])\n",
        "            for j in range(L):\n",
        "              index=index+1\n",
        "              answer, distractor, question=output['questions'][j]['answer'],output['questions'][j]['options'],output['questions'][j]['question_statement']\n",
        "            \n",
        "              #print (\"%s)\"%(index),question,file=f)\n",
        "              distractor.append(answer.capitalize())\n",
        "              if len(distractor)>=4:\n",
        "                print (\"\\nChapter : \", i,\"\\n\", file=f)\n",
        "                print (\"\\nPassage : \", text,\"\\n\",file=f)\n",
        "                print (\"%s)\"%(index),question,file=f)\n",
        "                random.shuffle(distractor)\n",
        "                optionchoices = ['a','b','c','d']\n",
        "                for idx,choice in enumerate(distractor):\n",
        "                  print (\"\\t\",optionchoices[idx],\")\",\" \",choice,file=f)\n",
        "            \n",
        "        else:\n",
        "          print (\"None\",file=f)\n",
        "       \n",
        "def CreatePassageXLNet2MCQ(dat,min_length, max_length ,num_sentences, ratio,separators,fileout):\n",
        "  \n",
        "  with open(fileout, 'w') as f:\n",
        "    for item in range(len(dat)):\n",
        "      url=dat[item]\n",
        "      #print(\"j=\",j)\n",
        "      print (\"\\nWeb URL : \", url,\"\\n\", file=f)\n",
        "      result, title, link=CreateXLNetSummary(url,min_length, max_length ,num_sentences, ratio,separators)\n",
        "      if (result !=0):\n",
        "        print (\"\\nBook Title : \", title,\"\\n\", file=f)\n",
        "        for i in range(len(result)): \n",
        "          index=0\n",
        "          text=result[i]\n",
        "          i=i+1\n",
        "\n",
        "          tempdat=ReFormat(str(text))\n",
        "          output = qg.predict_mcq(tempdat)\n",
        "          #print (\"\\nChapter : \", i,\"\\n\", file=f)\n",
        "          #print (\"\\nPassage : \", text,\"\\n\",file=f)\n",
        "          if 'questions' in output.keys():\n",
        "            L=len(output['questions'])\n",
        "            for j in range(L):\n",
        "              index=index+1\n",
        "              #print(\"i=\",i,\"j=\",j)\n",
        "              answer, distractor, question=output['questions'][j]['answer'],output['questions'][j]['options'],output['questions'][j]['question_statement']\n",
        "              distractor.append(answer.capitalize())\n",
        "              if len(distractor)>=4:\n",
        "                print (\"\\nChapter : \", i,\"\\n\", file=f)\n",
        "                print (\"\\nPassage : \", text,\"\\n\",file=f)\n",
        "                print (\"%s)\"%(index),question,file=f)\n",
        "                random.shuffle(distractor)\n",
        "                optionchoices = ['a','b','c','d']\n",
        "                for idx,choice in enumerate(distractor):\n",
        "                  print (\"\\t\",optionchoices[idx],\")\",\" \",choice,file=f)\n",
        "              else:\n",
        "                #print(\"NONE\")\n",
        "                print (\"None\",file=f)\n",
        "      else:\n",
        "        print (\"None\",file=f)\n",
        "\n",
        "def CreatePassageGPT22MCQ(dat,min_length, max_length ,num_sentences, ratio,separators,fileout):\n",
        "  \n",
        "  with open(fileout, 'w') as f:\n",
        "    for item in range(len(dat)):\n",
        "      url=dat[item]\n",
        "      print (\"\\nWeb URL : \", url,\"\\n\", file=f)\n",
        "      result, title, link=CreateGPT2Summary(url,min_length, max_length ,num_sentences, ratio,separators)\n",
        "      if (result !=0):\n",
        "        print (\"\\nBook Title : \", title,\"\\n\", file=f)\n",
        "        for i in range(len(result)): \n",
        "          index=0\n",
        "          text=result[i]\n",
        "          i=i+1\n",
        "          tempdat=ReFormat(str(text))\n",
        "          output = qg.predict_mcq(tempdat)\n",
        "          #print (\"\\nChapter : \", i,\"\\n\", file=f)\n",
        "          #print (\"\\nPassage : \", text,\"\\n\",file=f)\n",
        "          if 'questions' in output.keys():\n",
        "            L=len(output['questions'])\n",
        "            for j in range(L):\n",
        "              index=index+1\n",
        "              answer, distractor, question=output['questions'][j]['answer'],output['questions'][j]['options'],output['questions'][j]['question_statement']\n",
        "            \n",
        "              #print (\"%s)\"%(index),question,file=f)\n",
        "              distractor.append(answer.capitalize())\n",
        "              if len(distractor)>=4:\n",
        "                print (\"\\nChapter : \", i,\"\\n\", file=f)\n",
        "                print (\"\\nPassage : \", text,\"\\n\",file=f)\n",
        "                print (\"%s)\"%(index),question,file=f)\n",
        "                random.shuffle(distractor)\n",
        "                optionchoices = ['a','b','c','d']\n",
        "                for idx,choice in enumerate(distractor):\n",
        "                  print (\"\\t\",optionchoices[idx],\")\",\" \",choice,file=f)\n",
        "              else:\n",
        "                print (\"None\",file=f)\n",
        "      else:\n",
        "        print (\"None\",file=f)\n"
      ],
      "execution_count": null,
      "outputs": []
    },
    {
      "cell_type": "code",
      "metadata": {
        "id": "9Xh8Dn6-pUnR"
      },
      "source": [
        "summarizeratio=0.5\n",
        "separators=['Chapter','CHAPTER','ACT','STAVE','Letter','I','II','III''IV','V','VI','VII','VIII']\n",
        "\n",
        "fileout=\"/content/gdrive/My Drive/Result/BERTSummary2MCQ3\"+str(summarizeratio)+\".txt\"\n",
        "CreatePassageBert2MCQ(dat=booklist3, min_length=100, max_length=200 ,num_sentences=12,ratio=summarizeratio,separators=separators,fileout=fileout)"
      ],
      "execution_count": null,
      "outputs": []
    },
    {
      "cell_type": "code",
      "metadata": {
        "id": "sfRFWI4Tg0S6"
      },
      "source": [
        "summarizeratio=0.5\n",
        "separators=['Chapter','CHAPTER','ACT','STAVE','Letter','I','II','III''IV','V','VI','VII','VIII']\n",
        "\n",
        "fileout=\"/content/gdrive/My Drive/Result/BERTSummary2MCQ2\"+str(summarizeratio)+\".txt\"\n",
        "CreatePassageBert2MCQ(dat=booklist2, min_length=100, max_length=200 ,num_sentences=12,ratio=summarizeratio,separators=separators,fileout=fileout)"
      ],
      "execution_count": null,
      "outputs": []
    },
    {
      "cell_type": "code",
      "metadata": {
        "id": "_srpdiiqBWb3"
      },
      "source": [
        "booklist1"
      ],
      "execution_count": null,
      "outputs": []
    },
    {
      "cell_type": "code",
      "metadata": {
        "id": "1DRnW0jhg5zr"
      },
      "source": [
        "summarizeratio=0.5\n",
        "separators=['Chapter','CHAPTER','ACT','STAVE','Letter','I','II','III''IV','V','VI','VII','VIII']\n",
        "\n",
        "fileout=\"/content/gdrive/My Drive/Result/BERTSummary2MCQ1\"+str(summarizeratio)+\".txt\"\n",
        "CreatePassageBert2MCQ(dat=booklist1, min_length=100, max_length=200 ,num_sentences=12,ratio=summarizeratio,separators=separators,fileout=fileout)"
      ],
      "execution_count": null,
      "outputs": []
    },
    {
      "cell_type": "code",
      "metadata": {
        "id": "qtAbhEXVfdOz"
      },
      "source": [
        "summarizeratio=0.5\n",
        "separators=['Chapter','CHAPTER','ACT','STAVE','Letter','I','II','III''IV','V','VI','VII','VIII']\n",
        "\n",
        "\n",
        "fileout=\"/content/gdrive/My Drive/Result/GPT2Summary2MCQ\"+str(summarizeratio)+\".txt\"\n",
        "CreatePassageGPT22MCQ(dat=booklist, min_length=100, max_length=200 ,num_sentences=12,ratio=summarizeratio,separators=separators,fileout=fileout)"
      ],
      "execution_count": null,
      "outputs": []
    },
    {
      "cell_type": "code",
      "metadata": {
        "id": "0s1eMq-sfce-"
      },
      "source": [
        "summarizeratio=0.2\n",
        "separators=['Chapter','CHAPTER','ACT','STAVE','Letter','I','II','III''IV','V','VI','VII','VIII']\n",
        "for i in range(40):\n",
        "  i=i+1\n",
        "  ls1='Chapter '+ str(i)\n",
        "  ls2='CHAPTER ' +str(i)\n",
        "  ls3='Letter ' +str(i)\n",
        "  separators.append(ls1)\n",
        "  separators.append(ls2)\n",
        "  separators.append(ls3)\n",
        "fileout=\"/content/gdrive/My Drive/Result/XLNetSummary2MCQ\"+str(summarizeratio)+\".txt\"\n",
        "CreatePassageXLNet2MCQ(dat=booklist, min_length=100, max_length=200 ,num_sentences=12,ratio=summarizeratio,separators=separators,fileout=fileout)"
      ],
      "execution_count": null,
      "outputs": []
    },
    {
      "cell_type": "markdown",
      "metadata": {
        "id": "xZt3fySGP_Ds"
      },
      "source": [
        "#Creat FAQ questions"
      ]
    },
    {
      "cell_type": "code",
      "metadata": {
        "id": "vDVhoyCcP85z"
      },
      "source": [
        "import random\n",
        "def ReFormat(docfile):\n",
        "  thisdict = {\n",
        "     \"input_text\": docfile\n",
        "  }\n",
        "  return thisdict\n",
        "\n",
        "def CreatePassageBert2FAQ(dat,min_length, max_length ,num_sentences, ratio,separators,fileout):\n",
        "  with open(fileout, 'w') as f:\n",
        "    for item in range(len(dat)):\n",
        "      url=dat[item]\n",
        "      print (\"\\nWeb URL : \", url,\"\\n\", file=f)\n",
        "      result, title, link=CreateBertSummary(url,min_length, max_length ,num_sentences, ratio,separators)\n",
        "      if (result !=0):\n",
        "        print (\"\\nBook Title : \", title,\"\\n\", file=f)\n",
        "        for i in range(len(result)): \n",
        "          index=0\n",
        "          text=result[i]\n",
        "          i=i+1\n",
        "          tempdat=ReFormat(str(text))\n",
        "          output = qg.predict_shortq(tempdat)\n",
        "          if 'questions' in output.keys():\n",
        "            L=len(output['questions'])\n",
        "            for j in range(L):\n",
        "              index=index+1\n",
        "              answer, question=output['questions'][j]['Answer'],output['questions'][j]['Question']\n",
        "              print (\"\\nChapter : \", i,\"\\n\", file=f)\n",
        "              print (\"\\nPassage : \", text,\"\\n\",file=f)\n",
        "              print (\"%s)\"%(index),question,file=f)\n",
        "            \n",
        "        else:\n",
        "          print (\"None\",file=f)\n",
        "       \n",
        "\n",
        "      else:\n",
        "        print (\"None\",file=f)\n",
        "\n"
      ],
      "execution_count": null,
      "outputs": []
    },
    {
      "cell_type": "markdown",
      "metadata": {
        "id": "pddwWPNZeV68"
      },
      "source": [
        "#above all work"
      ]
    },
    {
      "cell_type": "code",
      "metadata": {
        "colab": {
          "base_uri": "https://localhost:8080/"
        },
        "id": "OPfW5e_mBG4G",
        "outputId": "07bf9b8b-c5db-4bf6-d8e9-6864b63eb258"
      },
      "source": [
        "from google.colab import drive\n",
        "drive.mount('/content/gdrive')"
      ],
      "execution_count": null,
      "outputs": [
        {
          "name": "stdout",
          "output_type": "stream",
          "text": [
            "Mounted at /content/gdrive\n"
          ]
        }
      ]
    },
    {
      "cell_type": "code",
      "metadata": {
        "id": "dZRJ1rWUVcLp"
      },
      "source": [
        "summarizeratio=0.5\n",
        "CreateFormatMCQ(ls, ratio=summarizeratio,num=10, pos={'PROPN'},fileout='/content/gdrive/My Drive/Result/Book1MCQ0.5.txt')"
      ],
      "execution_count": null,
      "outputs": []
    },
    {
      "cell_type": "code",
      "metadata": {
        "id": "gYRYfR-cBBuq"
      },
      "source": [
        "summarizeratio=0.1\n",
        "CreateMCQ(ls[0], ratio=summarizeratio,num=10, pos={'PROPN'},fileout='/content/gdrive/My Drive/Result/BookMCQ_Ratio0.1.txt')"
      ],
      "execution_count": null,
      "outputs": []
    },
    {
      "cell_type": "code",
      "metadata": {
        "id": "Fd7pV3P9q5qB"
      },
      "source": [
        "import os\n",
        "import zipfile\n",
        "\n",
        "bert_wsd_pytorch = \"/content/gdrive/My Drive/ReadPDF/Automate_the_Boring_Stuff_2e_onlinematerials.zip\"\n",
        "extract_directory = \"/content/gdrive/My Drive/ReadPDF\"\n",
        "\n",
        "\n",
        "extracted_folder = bert_wsd_pytorch.replace(\".zip\",\"\")\n",
        "\n",
        "#  If unzipped folder exists don't unzip again.\n",
        "if not os.path.isdir(extracted_folder):\n",
        "  with zipfile.ZipFile(bert_wsd_pytorch, 'r') as zip_ref:\n",
        "      zip_ref.extractall(extract_directory)\n",
        "else:\n",
        "  print (extracted_folder,\" is extracted already\")"
      ],
      "execution_count": null,
      "outputs": []
    },
    {
      "cell_type": "code",
      "metadata": {
        "id": "ihQGNGZyqVfX"
      },
      "source": [
        "import PyPDF2\n",
        "\n",
        "import PyPDF2\n",
        "pdfFileObj = open('/content/gdrive/My Drive/ReadPDF/automate_online-materials/meetingminutes.pdf', 'rb')\n",
        "pdfReader = PyPDF2.PdfFileReader(pdfFileObj)\n",
        "pdfReader.numPages\n",
        "num=1\n",
        "pageObj = pdfReader.getPage(num)\n",
        "text=pageObj.extractText()"
      ],
      "execution_count": null,
      "outputs": []
    },
    {
      "cell_type": "code",
      "metadata": {
        "id": "HkSGYSN5BKix"
      },
      "source": [
        "import re, numpy as np, pandas as pd\n",
        "np.random.seed(400)\n",
        "#LDA_gensm_dominant_topics_modelLRG_5_allSummary=pd.read_csv('/content/gdrive/My Drive/Result/Bert_MCQ.csv')\n",
        "df=pd.read_csv('Passage_FAQ.csv')\n",
        "df=df.drop(labels=['Unnamed: 0'],axis=1)"
      ],
      "execution_count": null,
      "outputs": []
    },
    {
      "cell_type": "code",
      "metadata": {
        "id": "OjZiI_CVq_Nx"
      },
      "source": [
        "PdfText = PdfText.replace(\"\\n\", \" \")\n",
        "print(PdfText)"
      ],
      "execution_count": null,
      "outputs": []
    },
    {
      "cell_type": "code",
      "metadata": {
        "id": "9hqy-5Wkqb5R"
      },
      "source": [
        "!pip install PyPDF2"
      ],
      "execution_count": null,
      "outputs": []
    }
  ]
}