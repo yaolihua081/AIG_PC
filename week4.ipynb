{
  "nbformat": 4,
  "nbformat_minor": 0,
  "metadata": {
    "colab": {
      "name": "week4.ipynb",
      "provenance": [],
      "collapsed_sections": [],
      "include_colab_link": true
    },
    "kernelspec": {
      "name": "python3",
      "display_name": "Python 3"
    }
  },
  "cells": [
    {
      "cell_type": "markdown",
      "metadata": {
        "id": "view-in-github",
        "colab_type": "text"
      },
      "source": [
        "<a href=\"https://colab.research.google.com/github/yaolihua081/AIG_PC/blob/main/week4.ipynb\" target=\"_parent\"><img src=\"https://colab.research.google.com/assets/colab-badge.svg\" alt=\"Open In Colab\"/></a>"
      ]
    },
    {
      "cell_type": "code",
      "metadata": {
        "id": "5bWCwd6wcFit",
        "colab": {
          "base_uri": "https://localhost:8080/",
          "height": 51
        },
        "outputId": "ea11272a-1300-4747-8425-dc2e17f065ce"
      },
      "source": [
        "from IPython.core.interactiveshell import InteractiveShell\n",
        "InteractiveShell.ast_node_interactivity = \"all\"\n",
        "import sys, matplotlib.pylab as plt, re, platform, matplotlib, gensim\n",
        "import numpy as np, pandas as pd, nltk, sklearn\n",
        "tmp = nltk.download(['stopwords', 'gutenberg','punkt'], quiet=True) # See https://www.nltk.org/book/ch02.html\n",
        "from sklearn.feature_extraction.text import CountVectorizer, TfidfTransformer\n",
        "from sklearn.metrics.pairwise import cosine_similarity\n",
        "stopword_list = nltk.corpus.stopwords.words('english')\n",
        "\n",
        "# Increase viewable area of Pandas tables, numpy arrays, plots\n",
        "pd.set_option('max_rows', 5, 'max_columns', 500, 'max_colwidth', 1, 'precision', 2)\n",
        "np.set_printoptions(linewidth=10000, precision=4, edgeitems=20, suppress=True)\n",
        "plt.rcParams['figure.figsize'] = [16, 4]\n",
        "\n",
        "# Check your package versions against those used in generating the answers: \n",
        "print( 'Grader:Py/3.6.9, skl/0.22.2.post1, pd/1.0.5, np/1.18.5, plt/3.2.2, nltk/3.2.5, gensim/3.6.0')\n",
        "print(f'Yours: Py/{platform.python_version()}, skl/{sklearn.__version__}'\\\n",
        "      f', pd/{pd.__version__}, np/{np.__version__}, plt/{matplotlib.__version__}'\\\n",
        "      f', nltk/{nltk.__version__}, gensim/{gensim.__version__}')\n",
        "\n",
        "# small dictionary of strings (or sentences)\n",
        "dosSmall = dict(s1=\"I like Python.\", s2=\"Python & R r Gr8!\", s3=\"There is no R in Python.\",\n",
        "                s4=\"Python to R is like apples to oranges.\", s5=\"I like apples and oranges.\", \n",
        "                s6=\"Oranges and apples are sour.\", s7=\"Apples r no oranges.\")\n"
      ],
      "execution_count": null,
      "outputs": [
        {
          "output_type": "stream",
          "text": [
            "Grader:Py/3.6.9, skl/0.22.2.post1, pd/1.0.5, np/1.18.5, plt/3.2.2, nltk/3.2.5, gensim/3.6.0\n",
            "Yours: Py/3.6.9, skl/0.22.2.post1, pd/1.0.5, np/1.18.5, plt/3.2.2, nltk/3.2.5, gensim/3.6.0\n"
          ],
          "name": "stdout"
        }
      ]
    },
    {
      "cell_type": "code",
      "metadata": {
        "id": "oNK4PVSjeThM",
        "colab": {
          "base_uri": "https://localhost:8080/",
          "height": 54
        },
        "outputId": "2f914ca2-410e-4739-ab54-5e6cd178cb18"
      },
      "source": [
        "dosSmall.values()"
      ],
      "execution_count": null,
      "outputs": [
        {
          "output_type": "execute_result",
          "data": {
            "text/plain": [
              "dict_values(['I like Python.', 'Python & R r Gr8!', 'There is no R in Python.', 'Python to R is like apples to oranges.', 'I like apples and oranges.', 'Oranges and apples are sour.', 'Apples r no oranges.'])"
            ]
          },
          "metadata": {
            "tags": []
          },
          "execution_count": 4
        }
      ]
    },
    {
      "cell_type": "code",
      "metadata": {
        "id": "tom8-rtuceJy",
        "colab": {
          "base_uri": "https://localhost:8080/",
          "height": 272
        },
        "outputId": "a1c72c79-30c9-4cab-f909-0588a94083ed"
      },
      "source": [
        "#Q1 correct, 0.57\n",
        "#cvSmall = CountVectorizer(stop_words=stopword_list)\n",
        "#cvSmall = CountVectorizer(stop_words=stopword_list,token_pattern=r'(?u)\\b\\w\\w+\\b') #0.59\n",
        "#keep only one letter word\n",
        "#cvSmall = CountVectorizer(stop_words=stopword_list,token_pattern=r'(?u)\\b[\\w]{1,}\\b') #0.57\n",
        "cvSmall = CountVectorizer(stop_words=stopword_list,token_pattern=r'(?u)\\b\\w\\w*\\b') #0.57\n",
        "smDT= cvSmall.fit_transform(dosSmall.values())\n",
        "\n",
        "mDT=smDT.toarray()\n",
        "\n",
        "mDT\n",
        "print(cvSmall.get_feature_names())\n",
        "#document term matrix\n",
        "filter = mDT == 0\n",
        "sum(filter)\n",
        "filter \n",
        "TotZero=sum(filter).sum()\n",
        "# for i in len(mDT[0])\n",
        "\n",
        "Answer=TotZero/(mDT.size)\n",
        "Answer\n",
        "print('. ')\n",
        "mDT.size "
      ],
      "execution_count": null,
      "outputs": [
        {
          "output_type": "execute_result",
          "data": {
            "text/plain": [
              "array([[0, 0, 1, 0, 1, 0, 0],\n",
              "       [0, 1, 0, 0, 1, 2, 0],\n",
              "       [0, 0, 0, 0, 1, 1, 0],\n",
              "       [1, 0, 1, 1, 1, 1, 0],\n",
              "       [1, 0, 1, 1, 0, 0, 0],\n",
              "       [1, 0, 0, 1, 0, 0, 1],\n",
              "       [1, 0, 0, 1, 0, 1, 0]])"
            ]
          },
          "metadata": {
            "tags": []
          },
          "execution_count": 5
        },
        {
          "output_type": "stream",
          "text": [
            "['apples', 'gr8', 'like', 'oranges', 'python', 'r', 'sour']\n"
          ],
          "name": "stdout"
        },
        {
          "output_type": "execute_result",
          "data": {
            "text/plain": [
              "array([3, 6, 4, 3, 3, 3, 6])"
            ]
          },
          "metadata": {
            "tags": []
          },
          "execution_count": 5
        },
        {
          "output_type": "execute_result",
          "data": {
            "text/plain": [
              "array([[ True,  True, False,  True, False,  True,  True],\n",
              "       [ True, False,  True,  True, False, False,  True],\n",
              "       [ True,  True,  True,  True, False, False,  True],\n",
              "       [False,  True, False, False, False, False,  True],\n",
              "       [False,  True, False, False,  True,  True,  True],\n",
              "       [False,  True,  True, False,  True,  True, False],\n",
              "       [False,  True,  True, False,  True, False,  True]])"
            ]
          },
          "metadata": {
            "tags": []
          },
          "execution_count": 5
        },
        {
          "output_type": "execute_result",
          "data": {
            "text/plain": [
              "0.5714285714285714"
            ]
          },
          "metadata": {
            "tags": []
          },
          "execution_count": 5
        },
        {
          "output_type": "stream",
          "text": [
            ". \n"
          ],
          "name": "stdout"
        },
        {
          "output_type": "execute_result",
          "data": {
            "text/plain": [
              "49"
            ]
          },
          "metadata": {
            "tags": []
          },
          "execution_count": 5
        }
      ]
    },
    {
      "cell_type": "code",
      "metadata": {
        "id": "SlSQMF7gei-8",
        "colab": {
          "base_uri": "https://localhost:8080/",
          "height": 250
        },
        "outputId": "4978f2bc-2ac2-48fb-e5f6-ff72a99d1fc8"
      },
      "source": [
        "#Q2 correct,11\n",
        "#fWS = ... # := frequency for word 'r' in sentence 's2'\n",
        "#fS = ... # := sum of frequences for sentence s4\n",
        "#fW1 = ... # := sum of frequences for word 'python'\n",
        "#fW2 = ... # := sum of frequences for word 'there'\n",
        "#mDT\n",
        "# it was 8 before \n",
        "#now it is 11\n",
        "#column_names=['s1','s2','s3','s4','s5','s6','s7']\n",
        "row_names=dosSmall.keys()\n",
        "column_names=cvSmall.get_feature_names()\n",
        "df = pd.DataFrame(mDT, columns=column_names, index=row_names)\n",
        "df\n",
        "#df.loc['s2']\n",
        "#df.loc['s2','python']\n",
        "filter='r' in df.columns\n",
        "fWS= df.loc['s2','r'] if filter  else 0\n",
        "\n",
        "filter='there' in df.columns\n",
        "fW2= sum(df['there']) if filter  else 0\n",
        "\n",
        "fS=df[df.index=='s4'].sum().sum()\n",
        "fW1=sum(df['python'])\n",
        "fWS+fS+fW1+fW2\n",
        "[fWS,fS,fW1,fW2]"
      ],
      "execution_count": null,
      "outputs": [
        {
          "output_type": "execute_result",
          "data": {
            "text/html": [
              "<div>\n",
              "<style scoped>\n",
              "    .dataframe tbody tr th:only-of-type {\n",
              "        vertical-align: middle;\n",
              "    }\n",
              "\n",
              "    .dataframe tbody tr th {\n",
              "        vertical-align: top;\n",
              "    }\n",
              "\n",
              "    .dataframe thead th {\n",
              "        text-align: right;\n",
              "    }\n",
              "</style>\n",
              "<table border=\"1\" class=\"dataframe\">\n",
              "  <thead>\n",
              "    <tr style=\"text-align: right;\">\n",
              "      <th></th>\n",
              "      <th>apples</th>\n",
              "      <th>gr8</th>\n",
              "      <th>like</th>\n",
              "      <th>oranges</th>\n",
              "      <th>python</th>\n",
              "      <th>r</th>\n",
              "      <th>sour</th>\n",
              "    </tr>\n",
              "  </thead>\n",
              "  <tbody>\n",
              "    <tr>\n",
              "      <th>s1</th>\n",
              "      <td>0</td>\n",
              "      <td>0</td>\n",
              "      <td>1</td>\n",
              "      <td>0</td>\n",
              "      <td>1</td>\n",
              "      <td>0</td>\n",
              "      <td>0</td>\n",
              "    </tr>\n",
              "    <tr>\n",
              "      <th>s2</th>\n",
              "      <td>0</td>\n",
              "      <td>1</td>\n",
              "      <td>0</td>\n",
              "      <td>0</td>\n",
              "      <td>1</td>\n",
              "      <td>2</td>\n",
              "      <td>0</td>\n",
              "    </tr>\n",
              "    <tr>\n",
              "      <th>...</th>\n",
              "      <td>...</td>\n",
              "      <td>...</td>\n",
              "      <td>...</td>\n",
              "      <td>...</td>\n",
              "      <td>...</td>\n",
              "      <td>...</td>\n",
              "      <td>...</td>\n",
              "    </tr>\n",
              "    <tr>\n",
              "      <th>s6</th>\n",
              "      <td>1</td>\n",
              "      <td>0</td>\n",
              "      <td>0</td>\n",
              "      <td>1</td>\n",
              "      <td>0</td>\n",
              "      <td>0</td>\n",
              "      <td>1</td>\n",
              "    </tr>\n",
              "    <tr>\n",
              "      <th>s7</th>\n",
              "      <td>1</td>\n",
              "      <td>0</td>\n",
              "      <td>0</td>\n",
              "      <td>1</td>\n",
              "      <td>0</td>\n",
              "      <td>1</td>\n",
              "      <td>0</td>\n",
              "    </tr>\n",
              "  </tbody>\n",
              "</table>\n",
              "<p>7 rows × 7 columns</p>\n",
              "</div>"
            ],
            "text/plain": [
              "    apples  gr8  like  oranges  python  r  sour\n",
              "s1  0       0    1     0        1       0  0   \n",
              "s2  0       1    0     0        1       2  0   \n",
              ".. ..      ..   ..    ..       ..      .. ..   \n",
              "s6  1       0    0     1        0       0  1   \n",
              "s7  1       0    0     1        0       1  0   \n",
              "\n",
              "[7 rows x 7 columns]"
            ]
          },
          "metadata": {
            "tags": []
          },
          "execution_count": 6
        },
        {
          "output_type": "execute_result",
          "data": {
            "text/plain": [
              "11"
            ]
          },
          "metadata": {
            "tags": []
          },
          "execution_count": 6
        },
        {
          "output_type": "execute_result",
          "data": {
            "text/plain": [
              "[2, 5, 4, 0]"
            ]
          },
          "metadata": {
            "tags": []
          },
          "execution_count": 6
        }
      ]
    },
    {
      "cell_type": "code",
      "metadata": {
        "id": "zolYFJfHnbTY",
        "colab": {
          "base_uri": "https://localhost:8080/",
          "height": 250
        },
        "outputId": "d2b6487a-5196-4a53-ad15-e8597196b4a6"
      },
      "source": [
        "#Q3 correct 10\n",
        "#c1 = ...     # := greatest similarity coefficient among different sentences\n",
        "#c2 = ...     # := greatest similarity coefficient among sentences with themselves\n",
        "#c3 = ...     # := similarity coefficient among sentences s1 and s2\n",
        "\n",
        "similarityMatrix=df.dot(df.T)\n",
        "#similarityMatrix.idxmax()\n",
        "#similarityMatrix.iloc[0,3]\n",
        "#similarityMatrix['s4'].value_counts().nlargest(n=1)\n",
        "#c1=similarityMatrix.idxmax()\n",
        "#c1\n",
        "#c2=similarityMatrix.max().max()\n",
        "\n",
        "c2=max(np.diag(similarityMatrix))\n",
        "#c3=similarityMatrix.iloc[0,1]\n",
        "c3=similarityMatrix['s1']['s2']\n",
        "UpTrangle=np.triu(similarityMatrix, 1)\n",
        "c1=UpTrangle.max()\n",
        "#similarityMatrix.index(c1)\n",
        "c1+c2+c3\n",
        "[c1 ,c2,c3]\n",
        "similarityMatrix\n",
        "#s3 and s4 more similar"
      ],
      "execution_count": null,
      "outputs": [
        {
          "output_type": "execute_result",
          "data": {
            "text/plain": [
              "10"
            ]
          },
          "metadata": {
            "tags": []
          },
          "execution_count": 7
        },
        {
          "output_type": "execute_result",
          "data": {
            "text/plain": [
              "[3, 6, 1]"
            ]
          },
          "metadata": {
            "tags": []
          },
          "execution_count": 7
        },
        {
          "output_type": "execute_result",
          "data": {
            "text/html": [
              "<div>\n",
              "<style scoped>\n",
              "    .dataframe tbody tr th:only-of-type {\n",
              "        vertical-align: middle;\n",
              "    }\n",
              "\n",
              "    .dataframe tbody tr th {\n",
              "        vertical-align: top;\n",
              "    }\n",
              "\n",
              "    .dataframe thead th {\n",
              "        text-align: right;\n",
              "    }\n",
              "</style>\n",
              "<table border=\"1\" class=\"dataframe\">\n",
              "  <thead>\n",
              "    <tr style=\"text-align: right;\">\n",
              "      <th></th>\n",
              "      <th>s1</th>\n",
              "      <th>s2</th>\n",
              "      <th>s3</th>\n",
              "      <th>s4</th>\n",
              "      <th>s5</th>\n",
              "      <th>s6</th>\n",
              "      <th>s7</th>\n",
              "    </tr>\n",
              "  </thead>\n",
              "  <tbody>\n",
              "    <tr>\n",
              "      <th>s1</th>\n",
              "      <td>2</td>\n",
              "      <td>1</td>\n",
              "      <td>1</td>\n",
              "      <td>2</td>\n",
              "      <td>1</td>\n",
              "      <td>0</td>\n",
              "      <td>0</td>\n",
              "    </tr>\n",
              "    <tr>\n",
              "      <th>s2</th>\n",
              "      <td>1</td>\n",
              "      <td>6</td>\n",
              "      <td>3</td>\n",
              "      <td>3</td>\n",
              "      <td>0</td>\n",
              "      <td>0</td>\n",
              "      <td>2</td>\n",
              "    </tr>\n",
              "    <tr>\n",
              "      <th>...</th>\n",
              "      <td>...</td>\n",
              "      <td>...</td>\n",
              "      <td>...</td>\n",
              "      <td>...</td>\n",
              "      <td>...</td>\n",
              "      <td>...</td>\n",
              "      <td>...</td>\n",
              "    </tr>\n",
              "    <tr>\n",
              "      <th>s6</th>\n",
              "      <td>0</td>\n",
              "      <td>0</td>\n",
              "      <td>0</td>\n",
              "      <td>2</td>\n",
              "      <td>2</td>\n",
              "      <td>3</td>\n",
              "      <td>2</td>\n",
              "    </tr>\n",
              "    <tr>\n",
              "      <th>s7</th>\n",
              "      <td>0</td>\n",
              "      <td>2</td>\n",
              "      <td>1</td>\n",
              "      <td>3</td>\n",
              "      <td>2</td>\n",
              "      <td>2</td>\n",
              "      <td>3</td>\n",
              "    </tr>\n",
              "  </tbody>\n",
              "</table>\n",
              "<p>7 rows × 7 columns</p>\n",
              "</div>"
            ],
            "text/plain": [
              "    s1  s2  s3  s4  s5  s6  s7\n",
              "s1  2   1   1   2   1   0   0 \n",
              "s2  1   6   3   3   0   0   2 \n",
              ".. ..  ..  ..  ..  ..  ..  .. \n",
              "s6  0   0   0   2   2   3   2 \n",
              "s7  0   2   1   3   2   2   3 \n",
              "\n",
              "[7 rows x 7 columns]"
            ]
          },
          "metadata": {
            "tags": []
          },
          "execution_count": 7
        }
      ]
    },
    {
      "cell_type": "code",
      "metadata": {
        "id": "js3P35ygHReX",
        "colab": {
          "base_uri": "https://localhost:8080/",
          "height": 250
        },
        "outputId": "38d1b3d2-ed12-4a75-fc5e-0d76ca2e02a1"
      },
      "source": [
        "#Q4, correct, 0.57\n",
        "tfidf_transformer=TfidfTransformer(smooth_idf=True,use_idf=True)\n",
        "mTI=tfidf_transformer.fit_transform(mDT)\n",
        "#mTI=tfidf_transformer.fit(smDT)\n",
        "#mTI=tfidf_transformer.(smDT)\n",
        "#mTI.toarray()\n",
        "mTI=mTI.toarray()\n",
        "df_idf = pd.DataFrame(mTI, columns=cvSmall.get_feature_names())\n",
        "df_idf\n",
        "filter = df_idf == 0\n",
        "answer=np.sum(filter).sum()/df_idf.size\n",
        "answer#0.57"
      ],
      "execution_count": null,
      "outputs": [
        {
          "output_type": "execute_result",
          "data": {
            "text/html": [
              "<div>\n",
              "<style scoped>\n",
              "    .dataframe tbody tr th:only-of-type {\n",
              "        vertical-align: middle;\n",
              "    }\n",
              "\n",
              "    .dataframe tbody tr th {\n",
              "        vertical-align: top;\n",
              "    }\n",
              "\n",
              "    .dataframe thead th {\n",
              "        text-align: right;\n",
              "    }\n",
              "</style>\n",
              "<table border=\"1\" class=\"dataframe\">\n",
              "  <thead>\n",
              "    <tr style=\"text-align: right;\">\n",
              "      <th></th>\n",
              "      <th>apples</th>\n",
              "      <th>gr8</th>\n",
              "      <th>like</th>\n",
              "      <th>oranges</th>\n",
              "      <th>python</th>\n",
              "      <th>r</th>\n",
              "      <th>sour</th>\n",
              "    </tr>\n",
              "  </thead>\n",
              "  <tbody>\n",
              "    <tr>\n",
              "      <th>0</th>\n",
              "      <td>0.00</td>\n",
              "      <td>0.00</td>\n",
              "      <td>0.76</td>\n",
              "      <td>0.00</td>\n",
              "      <td>0.66</td>\n",
              "      <td>0.00</td>\n",
              "      <td>0.00</td>\n",
              "    </tr>\n",
              "    <tr>\n",
              "      <th>1</th>\n",
              "      <td>0.00</td>\n",
              "      <td>0.59</td>\n",
              "      <td>0.00</td>\n",
              "      <td>0.00</td>\n",
              "      <td>0.36</td>\n",
              "      <td>0.72</td>\n",
              "      <td>0.00</td>\n",
              "    </tr>\n",
              "    <tr>\n",
              "      <th>...</th>\n",
              "      <td>...</td>\n",
              "      <td>...</td>\n",
              "      <td>...</td>\n",
              "      <td>...</td>\n",
              "      <td>...</td>\n",
              "      <td>...</td>\n",
              "      <td>...</td>\n",
              "    </tr>\n",
              "    <tr>\n",
              "      <th>5</th>\n",
              "      <td>0.46</td>\n",
              "      <td>0.00</td>\n",
              "      <td>0.00</td>\n",
              "      <td>0.46</td>\n",
              "      <td>0.00</td>\n",
              "      <td>0.00</td>\n",
              "      <td>0.75</td>\n",
              "    </tr>\n",
              "    <tr>\n",
              "      <th>6</th>\n",
              "      <td>0.58</td>\n",
              "      <td>0.00</td>\n",
              "      <td>0.00</td>\n",
              "      <td>0.58</td>\n",
              "      <td>0.00</td>\n",
              "      <td>0.58</td>\n",
              "      <td>0.00</td>\n",
              "    </tr>\n",
              "  </tbody>\n",
              "</table>\n",
              "<p>7 rows × 7 columns</p>\n",
              "</div>"
            ],
            "text/plain": [
              "    apples   gr8  like  oranges  python     r  sour\n",
              "0   0.00    0.00  0.76  0.00     0.66    0.00  0.00\n",
              "1   0.00    0.59  0.00  0.00     0.36    0.72  0.00\n",
              "..   ...     ...   ...   ...      ...     ...   ...\n",
              "5   0.46    0.00  0.00  0.46     0.00    0.00  0.75\n",
              "6   0.58    0.00  0.00  0.58     0.00    0.58  0.00\n",
              "\n",
              "[7 rows x 7 columns]"
            ]
          },
          "metadata": {
            "tags": []
          },
          "execution_count": 8
        },
        {
          "output_type": "execute_result",
          "data": {
            "text/plain": [
              "0.5714285714285714"
            ]
          },
          "metadata": {
            "tags": []
          },
          "execution_count": 8
        }
      ]
    },
    {
      "cell_type": "code",
      "metadata": {
        "id": "RIfNgb9IK12r",
        "colab": {
          "base_uri": "https://localhost:8080/",
          "height": 250
        },
        "outputId": "48c4b668-9e8e-42cb-cd68-cec3dbd2b734"
      },
      "source": [
        "#Q5, correct 5.11\n",
        "row_names=dosSmall.keys()\n",
        "column_names=cvSmall.get_feature_names()\n",
        "df = pd.DataFrame(mTI, columns=column_names, index=row_names)\n",
        "df\n",
        "filter='r' in df.columns\n",
        "fWS= df.loc['s2','r'] if filter  else 0\n",
        "\n",
        "\n",
        "filter='there' in df.columns\n",
        "fW2= sum(df['there']) if filter  else 0\n",
        "\n",
        "fS=df[df.index=='s4'].sum().sum()\n",
        "fW1=sum(df['python'])\n",
        "fWS+fS+fW1+fW2\n",
        "\n",
        "[fWS,fS,fW1,fW2]"
      ],
      "execution_count": null,
      "outputs": [
        {
          "output_type": "execute_result",
          "data": {
            "text/html": [
              "<div>\n",
              "<style scoped>\n",
              "    .dataframe tbody tr th:only-of-type {\n",
              "        vertical-align: middle;\n",
              "    }\n",
              "\n",
              "    .dataframe tbody tr th {\n",
              "        vertical-align: top;\n",
              "    }\n",
              "\n",
              "    .dataframe thead th {\n",
              "        text-align: right;\n",
              "    }\n",
              "</style>\n",
              "<table border=\"1\" class=\"dataframe\">\n",
              "  <thead>\n",
              "    <tr style=\"text-align: right;\">\n",
              "      <th></th>\n",
              "      <th>apples</th>\n",
              "      <th>gr8</th>\n",
              "      <th>like</th>\n",
              "      <th>oranges</th>\n",
              "      <th>python</th>\n",
              "      <th>r</th>\n",
              "      <th>sour</th>\n",
              "    </tr>\n",
              "  </thead>\n",
              "  <tbody>\n",
              "    <tr>\n",
              "      <th>s1</th>\n",
              "      <td>0.00</td>\n",
              "      <td>0.00</td>\n",
              "      <td>0.76</td>\n",
              "      <td>0.00</td>\n",
              "      <td>0.66</td>\n",
              "      <td>0.00</td>\n",
              "      <td>0.00</td>\n",
              "    </tr>\n",
              "    <tr>\n",
              "      <th>s2</th>\n",
              "      <td>0.00</td>\n",
              "      <td>0.59</td>\n",
              "      <td>0.00</td>\n",
              "      <td>0.00</td>\n",
              "      <td>0.36</td>\n",
              "      <td>0.72</td>\n",
              "      <td>0.00</td>\n",
              "    </tr>\n",
              "    <tr>\n",
              "      <th>...</th>\n",
              "      <td>...</td>\n",
              "      <td>...</td>\n",
              "      <td>...</td>\n",
              "      <td>...</td>\n",
              "      <td>...</td>\n",
              "      <td>...</td>\n",
              "      <td>...</td>\n",
              "    </tr>\n",
              "    <tr>\n",
              "      <th>s6</th>\n",
              "      <td>0.46</td>\n",
              "      <td>0.00</td>\n",
              "      <td>0.00</td>\n",
              "      <td>0.46</td>\n",
              "      <td>0.00</td>\n",
              "      <td>0.00</td>\n",
              "      <td>0.75</td>\n",
              "    </tr>\n",
              "    <tr>\n",
              "      <th>s7</th>\n",
              "      <td>0.58</td>\n",
              "      <td>0.00</td>\n",
              "      <td>0.00</td>\n",
              "      <td>0.58</td>\n",
              "      <td>0.00</td>\n",
              "      <td>0.58</td>\n",
              "      <td>0.00</td>\n",
              "    </tr>\n",
              "  </tbody>\n",
              "</table>\n",
              "<p>7 rows × 7 columns</p>\n",
              "</div>"
            ],
            "text/plain": [
              "    apples   gr8  like  oranges  python     r  sour\n",
              "s1  0.00    0.00  0.76  0.00     0.66    0.00  0.00\n",
              "s2  0.00    0.59  0.00  0.00     0.36    0.72  0.00\n",
              "..   ...     ...   ...   ...      ...     ...   ...\n",
              "s6  0.46    0.00  0.00  0.46     0.00    0.00  0.75\n",
              "s7  0.58    0.00  0.00  0.58     0.00    0.58  0.00\n",
              "\n",
              "[7 rows x 7 columns]"
            ]
          },
          "metadata": {
            "tags": []
          },
          "execution_count": 9
        },
        {
          "output_type": "execute_result",
          "data": {
            "text/plain": [
              "5.113885818732456"
            ]
          },
          "metadata": {
            "tags": []
          },
          "execution_count": 9
        },
        {
          "output_type": "execute_result",
          "data": {
            "text/plain": [
              "[0.723802693786046, 2.2321954022359787, 2.157887722710431, 0]"
            ]
          },
          "metadata": {
            "tags": []
          },
          "execution_count": 9
        }
      ]
    },
    {
      "cell_type": "code",
      "metadata": {
        "id": "0bPs48gdatoq",
        "colab": {
          "base_uri": "https://localhost:8080/",
          "height": 250
        },
        "outputId": "ad51b51c-c86a-45a5-c9ce-70487011b9fb"
      },
      "source": [
        "#Q6 \n",
        "#correct, 2.03\n",
        "#Q3\n",
        "#c1 = ...     # := greatest similarity coefficient among different sentences\n",
        "#c2 = ...     # := greatest similarity coefficient among sentences with themselves\n",
        "#c3 = ...     # := similarity coefficient among sentences s1 and s2\n",
        "\n",
        "similarityMatrix=df.dot(df.T)\n",
        "similarityMatrix\n",
        "c2=max(np.diag(similarityMatrix))\n",
        "#c3=similarityMatrix['s1']['s2']\n",
        "c3=similarityMatrix['s1']['s2']\n",
        "UpTrangle=np.triu(similarityMatrix, 1)\n",
        "c1=UpTrangle.max()\n",
        "#similarityMatrix.index(c1)\n",
        "c1+c2+c3\n",
        "[c1 ,c2,c3]"
      ],
      "execution_count": null,
      "outputs": [
        {
          "output_type": "execute_result",
          "data": {
            "text/html": [
              "<div>\n",
              "<style scoped>\n",
              "    .dataframe tbody tr th:only-of-type {\n",
              "        vertical-align: middle;\n",
              "    }\n",
              "\n",
              "    .dataframe tbody tr th {\n",
              "        vertical-align: top;\n",
              "    }\n",
              "\n",
              "    .dataframe thead th {\n",
              "        text-align: right;\n",
              "    }\n",
              "</style>\n",
              "<table border=\"1\" class=\"dataframe\">\n",
              "  <thead>\n",
              "    <tr style=\"text-align: right;\">\n",
              "      <th></th>\n",
              "      <th>s1</th>\n",
              "      <th>s2</th>\n",
              "      <th>s3</th>\n",
              "      <th>s4</th>\n",
              "      <th>s5</th>\n",
              "      <th>s6</th>\n",
              "      <th>s7</th>\n",
              "    </tr>\n",
              "  </thead>\n",
              "  <tbody>\n",
              "    <tr>\n",
              "      <th>s1</th>\n",
              "      <td>1.00</td>\n",
              "      <td>0.24</td>\n",
              "      <td>0.46</td>\n",
              "      <td>0.66</td>\n",
              "      <td>0.48</td>\n",
              "      <td>0.00</td>\n",
              "      <td>0.00</td>\n",
              "    </tr>\n",
              "    <tr>\n",
              "      <th>s2</th>\n",
              "      <td>0.24</td>\n",
              "      <td>1.00</td>\n",
              "      <td>0.77</td>\n",
              "      <td>0.47</td>\n",
              "      <td>0.00</td>\n",
              "      <td>0.00</td>\n",
              "      <td>0.42</td>\n",
              "    </tr>\n",
              "    <tr>\n",
              "      <th>...</th>\n",
              "      <td>...</td>\n",
              "      <td>...</td>\n",
              "      <td>...</td>\n",
              "      <td>...</td>\n",
              "      <td>...</td>\n",
              "      <td>...</td>\n",
              "      <td>...</td>\n",
              "    </tr>\n",
              "    <tr>\n",
              "      <th>s6</th>\n",
              "      <td>0.00</td>\n",
              "      <td>0.00</td>\n",
              "      <td>0.00</td>\n",
              "      <td>0.40</td>\n",
              "      <td>0.51</td>\n",
              "      <td>1.00</td>\n",
              "      <td>0.54</td>\n",
              "    </tr>\n",
              "    <tr>\n",
              "      <th>s7</th>\n",
              "      <td>0.00</td>\n",
              "      <td>0.42</td>\n",
              "      <td>0.41</td>\n",
              "      <td>0.75</td>\n",
              "      <td>0.63</td>\n",
              "      <td>0.54</td>\n",
              "      <td>1.00</td>\n",
              "    </tr>\n",
              "  </tbody>\n",
              "</table>\n",
              "<p>7 rows × 7 columns</p>\n",
              "</div>"
            ],
            "text/plain": [
              "      s1    s2    s3    s4    s5    s6    s7\n",
              "s1  1.00  0.24  0.46  0.66  0.48  0.00  0.00\n",
              "s2  0.24  1.00  0.77  0.47  0.00  0.00  0.42\n",
              "..   ...   ...   ...   ...   ...   ...   ...\n",
              "s6  0.00  0.00  0.00  0.40  0.51  1.00  0.54\n",
              "s7  0.00  0.42  0.41  0.75  0.63  0.54  1.00\n",
              "\n",
              "[7 rows x 7 columns]"
            ]
          },
          "metadata": {
            "tags": []
          },
          "execution_count": 10
        },
        {
          "output_type": "execute_result",
          "data": {
            "text/plain": [
              "2.0275319338211366"
            ]
          },
          "metadata": {
            "tags": []
          },
          "execution_count": 10
        },
        {
          "output_type": "execute_result",
          "data": {
            "text/plain": [
              "[0.790271270303694, 1.0000000000000002, 0.23726066351744238]"
            ]
          },
          "metadata": {
            "tags": []
          },
          "execution_count": 10
        }
      ]
    },
    {
      "cell_type": "code",
      "metadata": {
        "id": "-GXVYSBx0oIK",
        "colab": {
          "base_uri": "https://localhost:8080/",
          "height": 136
        },
        "outputId": "7003c2ba-7966-45a9-9638-f53c6043a994"
      },
      "source": [
        "#Q7,correct, 1.5\n",
        "\n",
        "#c1 = ...     # := greatest similarity coefficient among different sentences\n",
        "#c2 = ...     # := greatest similarity coefficient among sentences with themselves\n",
        "#c3 = ...     # := similarity coefficient among sentences s1 and s2\n",
        "\n",
        "#similarityMatrix=df.dot(df.T)\n",
        "\n",
        "corrematrix=np.corrcoef(df)\n",
        "c3=corrematrix[0,1]\n",
        "c2=corrematrix.max()\n",
        "UpTrangle=np.triu(corrematrix, 1)\n",
        "c1=UpTrangle.max()\n",
        "#similarityMatrix.index(c1)\n",
        "c1+c2+c3\n",
        "[c1 ,c2,c3]\n",
        "\n",
        "corrematrix"
      ],
      "execution_count": null,
      "outputs": [
        {
          "output_type": "execute_result",
          "data": {
            "text/plain": [
              "1.503806628153322"
            ]
          },
          "metadata": {
            "tags": []
          },
          "execution_count": 11
        },
        {
          "output_type": "execute_result",
          "data": {
            "text/plain": [
              "[0.6563028532861449, 1.0, -0.15249622513282293]"
            ]
          },
          "metadata": {
            "tags": []
          },
          "execution_count": 11
        },
        {
          "output_type": "execute_result",
          "data": {
            "text/plain": [
              "array([[ 1.    , -0.1525,  0.2498,  0.4647,  0.2007, -0.5196, -0.5458],\n",
              "       [-0.1525,  1.    ,  0.6563, -0.1518, -0.7042, -0.673 ,  0.0066],\n",
              "       [ 0.2498,  0.6563,  1.    ,  0.3566, -0.5455, -0.5214,  0.0913],\n",
              "       [ 0.4647, -0.1518,  0.3566,  1.    ,  0.5885, -0.3239,  0.4883],\n",
              "       [ 0.2007, -0.7042, -0.5455,  0.5885,  1.    ,  0.1606,  0.359 ],\n",
              "       [-0.5196, -0.673 , -0.5214, -0.3239,  0.1606,  1.    ,  0.2056],\n",
              "       [-0.5458,  0.0066,  0.0913,  0.4883,  0.359 ,  0.2056,  1.    ]])"
            ]
          },
          "metadata": {
            "tags": []
          },
          "execution_count": 11
        }
      ]
    },
    {
      "cell_type": "code",
      "metadata": {
        "id": "RaAMhfm41GR0",
        "colab": {
          "base_uri": "https://localhost:8080/",
          "height": 466
        },
        "outputId": "e44945a7-ed03-4914-9f11-58086585a567"
      },
      "source": [
        "#Q8 correct,2.03\n",
        "\n",
        "normalized_df=df/np.linalg.norm(df,axis=1)\n",
        "normalized_df\n",
        "similarityMatrix=normalized_df.dot(normalized_df.T)\n",
        "similarityMatrix\n",
        "c2=max(np.diag(similarityMatrix))\n",
        "c3=similarityMatrix['s1']['s2']\n",
        "UpTrangle=np.triu(similarityMatrix, 1)\n",
        "c1=UpTrangle.max()\n",
        "#similarityMatrix.index(c1)\n",
        "c1+c2+c3\n",
        "[c1 ,c2,c3]\n",
        "\n"
      ],
      "execution_count": null,
      "outputs": [
        {
          "output_type": "execute_result",
          "data": {
            "text/html": [
              "<div>\n",
              "<style scoped>\n",
              "    .dataframe tbody tr th:only-of-type {\n",
              "        vertical-align: middle;\n",
              "    }\n",
              "\n",
              "    .dataframe tbody tr th {\n",
              "        vertical-align: top;\n",
              "    }\n",
              "\n",
              "    .dataframe thead th {\n",
              "        text-align: right;\n",
              "    }\n",
              "</style>\n",
              "<table border=\"1\" class=\"dataframe\">\n",
              "  <thead>\n",
              "    <tr style=\"text-align: right;\">\n",
              "      <th></th>\n",
              "      <th>apples</th>\n",
              "      <th>gr8</th>\n",
              "      <th>like</th>\n",
              "      <th>oranges</th>\n",
              "      <th>python</th>\n",
              "      <th>r</th>\n",
              "      <th>sour</th>\n",
              "    </tr>\n",
              "  </thead>\n",
              "  <tbody>\n",
              "    <tr>\n",
              "      <th>s1</th>\n",
              "      <td>0.00</td>\n",
              "      <td>0.00</td>\n",
              "      <td>0.76</td>\n",
              "      <td>0.00</td>\n",
              "      <td>0.66</td>\n",
              "      <td>0.00</td>\n",
              "      <td>0.00</td>\n",
              "    </tr>\n",
              "    <tr>\n",
              "      <th>s2</th>\n",
              "      <td>0.00</td>\n",
              "      <td>0.59</td>\n",
              "      <td>0.00</td>\n",
              "      <td>0.00</td>\n",
              "      <td>0.36</td>\n",
              "      <td>0.72</td>\n",
              "      <td>0.00</td>\n",
              "    </tr>\n",
              "    <tr>\n",
              "      <th>...</th>\n",
              "      <td>...</td>\n",
              "      <td>...</td>\n",
              "      <td>...</td>\n",
              "      <td>...</td>\n",
              "      <td>...</td>\n",
              "      <td>...</td>\n",
              "      <td>...</td>\n",
              "    </tr>\n",
              "    <tr>\n",
              "      <th>s6</th>\n",
              "      <td>0.46</td>\n",
              "      <td>0.00</td>\n",
              "      <td>0.00</td>\n",
              "      <td>0.46</td>\n",
              "      <td>0.00</td>\n",
              "      <td>0.00</td>\n",
              "      <td>0.75</td>\n",
              "    </tr>\n",
              "    <tr>\n",
              "      <th>s7</th>\n",
              "      <td>0.58</td>\n",
              "      <td>0.00</td>\n",
              "      <td>0.00</td>\n",
              "      <td>0.58</td>\n",
              "      <td>0.00</td>\n",
              "      <td>0.58</td>\n",
              "      <td>0.00</td>\n",
              "    </tr>\n",
              "  </tbody>\n",
              "</table>\n",
              "<p>7 rows × 7 columns</p>\n",
              "</div>"
            ],
            "text/plain": [
              "    apples   gr8  like  oranges  python     r  sour\n",
              "s1  0.00    0.00  0.76  0.00     0.66    0.00  0.00\n",
              "s2  0.00    0.59  0.00  0.00     0.36    0.72  0.00\n",
              "..   ...     ...   ...   ...      ...     ...   ...\n",
              "s6  0.46    0.00  0.00  0.46     0.00    0.00  0.75\n",
              "s7  0.58    0.00  0.00  0.58     0.00    0.58  0.00\n",
              "\n",
              "[7 rows x 7 columns]"
            ]
          },
          "metadata": {
            "tags": []
          },
          "execution_count": 12
        },
        {
          "output_type": "execute_result",
          "data": {
            "text/html": [
              "<div>\n",
              "<style scoped>\n",
              "    .dataframe tbody tr th:only-of-type {\n",
              "        vertical-align: middle;\n",
              "    }\n",
              "\n",
              "    .dataframe tbody tr th {\n",
              "        vertical-align: top;\n",
              "    }\n",
              "\n",
              "    .dataframe thead th {\n",
              "        text-align: right;\n",
              "    }\n",
              "</style>\n",
              "<table border=\"1\" class=\"dataframe\">\n",
              "  <thead>\n",
              "    <tr style=\"text-align: right;\">\n",
              "      <th></th>\n",
              "      <th>s1</th>\n",
              "      <th>s2</th>\n",
              "      <th>s3</th>\n",
              "      <th>s4</th>\n",
              "      <th>s5</th>\n",
              "      <th>s6</th>\n",
              "      <th>s7</th>\n",
              "    </tr>\n",
              "  </thead>\n",
              "  <tbody>\n",
              "    <tr>\n",
              "      <th>s1</th>\n",
              "      <td>1.00</td>\n",
              "      <td>0.24</td>\n",
              "      <td>0.46</td>\n",
              "      <td>0.66</td>\n",
              "      <td>0.48</td>\n",
              "      <td>0.00</td>\n",
              "      <td>0.00</td>\n",
              "    </tr>\n",
              "    <tr>\n",
              "      <th>s2</th>\n",
              "      <td>0.24</td>\n",
              "      <td>1.00</td>\n",
              "      <td>0.77</td>\n",
              "      <td>0.47</td>\n",
              "      <td>0.00</td>\n",
              "      <td>0.00</td>\n",
              "      <td>0.42</td>\n",
              "    </tr>\n",
              "    <tr>\n",
              "      <th>...</th>\n",
              "      <td>...</td>\n",
              "      <td>...</td>\n",
              "      <td>...</td>\n",
              "      <td>...</td>\n",
              "      <td>...</td>\n",
              "      <td>...</td>\n",
              "      <td>...</td>\n",
              "    </tr>\n",
              "    <tr>\n",
              "      <th>s6</th>\n",
              "      <td>0.00</td>\n",
              "      <td>0.00</td>\n",
              "      <td>0.00</td>\n",
              "      <td>0.40</td>\n",
              "      <td>0.51</td>\n",
              "      <td>1.00</td>\n",
              "      <td>0.54</td>\n",
              "    </tr>\n",
              "    <tr>\n",
              "      <th>s7</th>\n",
              "      <td>0.00</td>\n",
              "      <td>0.42</td>\n",
              "      <td>0.41</td>\n",
              "      <td>0.75</td>\n",
              "      <td>0.63</td>\n",
              "      <td>0.54</td>\n",
              "      <td>1.00</td>\n",
              "    </tr>\n",
              "  </tbody>\n",
              "</table>\n",
              "<p>7 rows × 7 columns</p>\n",
              "</div>"
            ],
            "text/plain": [
              "      s1    s2    s3    s4    s5    s6    s7\n",
              "s1  1.00  0.24  0.46  0.66  0.48  0.00  0.00\n",
              "s2  0.24  1.00  0.77  0.47  0.00  0.00  0.42\n",
              "..   ...   ...   ...   ...   ...   ...   ...\n",
              "s6  0.00  0.00  0.00  0.40  0.51  1.00  0.54\n",
              "s7  0.00  0.42  0.41  0.75  0.63  0.54  1.00\n",
              "\n",
              "[7 rows x 7 columns]"
            ]
          },
          "metadata": {
            "tags": []
          },
          "execution_count": 12
        },
        {
          "output_type": "execute_result",
          "data": {
            "text/plain": [
              "2.0275319338211366"
            ]
          },
          "metadata": {
            "tags": []
          },
          "execution_count": 12
        },
        {
          "output_type": "execute_result",
          "data": {
            "text/plain": [
              "[0.790271270303694, 1.0000000000000002, 0.23726066351744246]"
            ]
          },
          "metadata": {
            "tags": []
          },
          "execution_count": 12
        }
      ]
    },
    {
      "cell_type": "code",
      "metadata": {
        "id": "-jtdB0N-YSKz"
      },
      "source": [
        ""
      ],
      "execution_count": null,
      "outputs": []
    },
    {
      "cell_type": "code",
      "metadata": {
        "id": "ZeziTB_5wvAO",
        "colab": {
          "base_uri": "https://localhost:8080/",
          "height": 88
        },
        "outputId": "67d5f793-103b-41ec-99f3-fcdc288311ca"
      },
      "source": [
        "#Q9\n",
        "import gensim.downloader as api\n",
        "wvMap = api.load(\"glove-wiki-gigaword-100\") # load word vector dictionary: word-in => vector-out\n",
        "#wvMap.vector_size"
      ],
      "execution_count": null,
      "outputs": [
        {
          "output_type": "stream",
          "text": [
            "[==================================================] 100.0% 128.1/128.1MB downloaded\n"
          ],
          "name": "stdout"
        },
        {
          "output_type": "stream",
          "text": [
            "/usr/local/lib/python3.6/dist-packages/smart_open/smart_open_lib.py:254: UserWarning: This function is deprecated, use smart_open.open instead. See the migration notes for details: https://github.com/RaRe-Technologies/smart_open/blob/master/README.rst#migrating-to-the-new-open-function\n",
            "  'See the migration notes for details: %s' % _MIGRATION_NOTES_URL\n"
          ],
          "name": "stderr"
        }
      ]
    },
    {
      "cell_type": "code",
      "metadata": {
        "id": "wt3WEqvRivZi",
        "colab": {
          "base_uri": "https://localhost:8080/",
          "height": 89
        },
        "outputId": "bc4d5734-9953-42e8-97cc-f8ee53bb42c0"
      },
      "source": [
        "#Q9 correct,monty,dog,microsoft,yellow,red,coffee,princess,lucy\n",
        "\n",
        "from collections import OrderedDict\n",
        "\n",
        "myWords = ['python','cat','apple','orange','yellow','tea','queen','alice']\n",
        "\n",
        "def finSimilar(wds):\n",
        "  simlarWord=[]\n",
        "  for wd in wds:\n",
        "    catSimilar=wvMap.most_similar(wd) # a list, with pairs that have names and their similarity coefficinet with cat.\n",
        "    top1=list(dict(catSimilar).keys())[0]\n",
        "    simlarWord.append(top1)\n",
        "  return simlarWord  \n",
        "\n",
        "answer=finSimilar(myWords)\n",
        "answerstr=','.join(answer)\n",
        "answerstr\n",
        "#monty,dog,microsoft,yellow,red,coffee,princess,lucy\n",
        "#answer=[word for word in set(top1).intersection(set(myWords))]\n",
        "\n",
        "#intersection(set(myWords))"
      ],
      "execution_count": null,
      "outputs": [
        {
          "output_type": "stream",
          "text": [
            "/usr/local/lib/python3.6/dist-packages/gensim/matutils.py:737: FutureWarning: Conversion of the second argument of issubdtype from `int` to `np.signedinteger` is deprecated. In future, it will be treated as `np.int64 == np.dtype(int).type`.\n",
            "  if np.issubdtype(vec.dtype, np.int):\n"
          ],
          "name": "stderr"
        },
        {
          "output_type": "execute_result",
          "data": {
            "application/vnd.google.colaboratory.intrinsic+json": {
              "type": "string"
            },
            "text/plain": [
              "'monty,dog,microsoft,yellow,red,coffee,princess,lucy'"
            ]
          },
          "metadata": {
            "tags": []
          },
          "execution_count": 14
        }
      ]
    },
    {
      "cell_type": "code",
      "metadata": {
        "id": "cdkGSuk27rb-"
      },
      "source": [
        ""
      ],
      "execution_count": null,
      "outputs": []
    },
    {
      "cell_type": "code",
      "metadata": {
        "id": "_rdWqSto8vCD",
        "colab": {
          "base_uri": "https://localhost:8080/",
          "height": 88
        },
        "outputId": "4cfe5bda-f9e8-40c7-fdf5-f6cd4f2ccdeb"
      },
      "source": [
        "#most_similar(\"cat\") \n",
        "\n",
        "#top1=wvMap.most_similar(\"cat\")\n",
        "\n",
        "\n",
        "from collections import OrderedDict\n",
        "\n",
        "myWords = ['python','cat','apple','orange','yellow','tea','queen','alice']\n",
        "\n",
        "catSimilar=wvMap.most_similar(\"cat\") # a list, with pairs that have names and their similarity coefficinet with cat.\n",
        "dict(catSimilar).keys()\n",
        "#type(top1) a list\n",
        "#top2=dict(catSimilar)\n",
        "#top2\n",
        "#top2=sorted(top1.index())\n",
        "\n",
        "#top3=OrderedDict(sorted(top2.items(), key=lambda t: t[1],reverse=True))\n",
        "#top3\n",
        "\n",
        "def getTopSimi(datlist):\n",
        "  dictset=dict(datlist)\n",
        "  orderdictset=OrderedDict(sorted(dictset.items(), key=lambda t: t[1],reverse=True))\n",
        "  return orderdictset\n",
        "\n",
        "#top1=getTopSimi(catSimilar)\n",
        "\n",
        "#top1[list(top1.keys())[0]]\n",
        "#top2\n",
        "#wvMap[\"cat\"] it is a list of  100-dimensional numbers\n",
        "#wvMap.most_similar(\"cat\").pop()\n",
        "\n",
        "#To submit: a string of comma-separated top1 words for each token in myWords"
      ],
      "execution_count": null,
      "outputs": [
        {
          "output_type": "stream",
          "text": [
            "/usr/local/lib/python3.6/dist-packages/gensim/matutils.py:737: FutureWarning: Conversion of the second argument of issubdtype from `int` to `np.signedinteger` is deprecated. In future, it will be treated as `np.int64 == np.dtype(int).type`.\n",
            "  if np.issubdtype(vec.dtype, np.int):\n"
          ],
          "name": "stderr"
        },
        {
          "output_type": "execute_result",
          "data": {
            "text/plain": [
              "dict_keys(['dog', 'rabbit', 'cats', 'monkey', 'pet', 'dogs', 'mouse', 'puppy', 'rat', 'spider'])"
            ]
          },
          "metadata": {
            "tags": []
          },
          "execution_count": 15
        }
      ]
    },
    {
      "cell_type": "code",
      "metadata": {
        "id": "1WhXnMc4MnG9",
        "colab": {
          "base_uri": "https://localhost:8080/",
          "height": 34
        },
        "outputId": "7538b1dc-de33-4077-d616-8f12d028909f"
      },
      "source": [
        "#Q10,correct,20.83\n",
        "\n",
        "def dotSimilar(wd1, wd2):\n",
        "  vecApple=wvMap[wd1]\n",
        "  vecOrange=wvMap[wd2]\n",
        "  Apple_Orange_dot=vecApple.dot(vecOrange) \n",
        "  return Apple_Orange_dot\n",
        "\n",
        "def CosinSimilar(wd1, wd2):\n",
        "  vecApple=wvMap[wd1]\n",
        "  vecOrange=wvMap[wd2]\n",
        "  Apple_Orange_dot=vecApple.dot(vecOrange) /(np.linalg.norm(vecApple) * np.linalg.norm(vecOrange))\n",
        "  return Apple_Orange_dot\n",
        "\n",
        "c11=dotSimilar('apple','orange') \n",
        "c21=dotSimilar('apple','python') \n",
        "c12=CosinSimilar('apple','orange') \n",
        "c22=CosinSimilar('apple','python') \n",
        "c=[c11,c21,c12,c22]\n",
        "c\n",
        "sum(c)\n",
        "\n",
        "#20.83"
      ],
      "execution_count": null,
      "outputs": [
        {
          "output_type": "execute_result",
          "data": {
            "text/plain": [
              "[16.628057, 3.5983427, 0.50070393, 0.105654016]"
            ]
          },
          "metadata": {
            "tags": []
          },
          "execution_count": 16
        },
        {
          "output_type": "execute_result",
          "data": {
            "text/plain": [
              "20.832758083939552"
            ]
          },
          "metadata": {
            "tags": []
          },
          "execution_count": 16
        }
      ]
    },
    {
      "cell_type": "code",
      "metadata": {
        "id": "TU1N2_K7BPXX",
        "colab": {
          "base_uri": "https://localhost:8080/",
          "height": 69
        },
        "outputId": "5141ada2-82d9-4ad6-d952-8b1dbc5c4796"
      },
      "source": [
        "#Q11 correct, said\n",
        "search_phrases = ['Hatter speaks about tea and how it all began']\n",
        "losAlice = [' '.join(s) for s in nltk.corpus.gutenberg.sents('carroll-alice.txt')]\n",
        "losAlice = search_phrases + losAlice\n",
        "cvSmall = CountVectorizer(stop_words=stopword_list)\n",
        "smDT= cvSmall.fit_transform(losAlice)\n",
        "mDT=smDT.toarray()\n",
        "tfidf_transformer=TfidfTransformer(smooth_idf=True,use_idf=True)\n",
        "mTI=tfidf_transformer.fit_transform(smDT)\n",
        "mTI=mTI.toarray()\n",
        "row_names=losAlice\n",
        "column_names=cvSmall.get_feature_names()\n",
        "\n",
        "df = pd.DataFrame(mTI, columns=column_names,index=row_names)\n",
        "mTI2=df.sum(axis=0) #fro each column, sum over the rows\n",
        "maxElement = np.amax(mTI2)\n",
        "result = np.where(mTI2 == maxElement)\n",
        "print('Returned tuple of arrays :', result)\n",
        "print('List of Indices of maximum element :', result[0])\n",
        "\n",
        "maxElement #at 465 'curtsey', 2008, stick\n",
        "#cvSmall.get_feature_names()[465]\n",
        "column_names[1753]#'said'\n",
        "\n",
        "df = pd.DataFrame(mTI, columns=column_names, index=row_names)\n",
        "temp=df.sum(axis=0).sort_values(ascending=False).index[0]\n",
        "temp\n"
      ],
      "execution_count": null,
      "outputs": [
        {
          "output_type": "stream",
          "text": [
            "Returned tuple of arrays : (array([1753]),)\n",
            "List of Indices of maximum element : [1753]\n"
          ],
          "name": "stdout"
        },
        {
          "output_type": "execute_result",
          "data": {
            "text/plain": [
              "96.1773111535503"
            ]
          },
          "metadata": {
            "tags": []
          },
          "execution_count": 17
        },
        {
          "output_type": "execute_result",
          "data": {
            "application/vnd.google.colaboratory.intrinsic+json": {
              "type": "string"
            },
            "text/plain": [
              "'said'"
            ]
          },
          "metadata": {
            "tags": []
          },
          "execution_count": 17
        },
        {
          "output_type": "execute_result",
          "data": {
            "application/vnd.google.colaboratory.intrinsic+json": {
              "type": "string"
            },
            "text/plain": [
              "'said'"
            ]
          },
          "metadata": {
            "tags": []
          },
          "execution_count": 17
        }
      ]
    },
    {
      "cell_type": "code",
      "metadata": {
        "id": "B56HzPqf0JOA",
        "colab": {
          "base_uri": "https://localhost:8080/",
          "height": 35
        },
        "outputId": "b549255f-4856-4a87-d346-380bda59fa42"
      },
      "source": [
        "temp=df.sum(axis=0).sort_values(ascending=False).index[1]\n",
        "temp"
      ],
      "execution_count": null,
      "outputs": [
        {
          "output_type": "execute_result",
          "data": {
            "application/vnd.google.colaboratory.intrinsic+json": {
              "type": "string"
            },
            "text/plain": [
              "'alice'"
            ]
          },
          "metadata": {
            "tags": []
          },
          "execution_count": 18
        }
      ]
    },
    {
      "cell_type": "code",
      "metadata": {
        "id": "gqROWaWY9lgO",
        "colab": {
          "base_uri": "https://localhost:8080/",
          "height": 52
        },
        "outputId": "aa2cbd0d-919b-44d9-c823-3c9f9994c7f0"
      },
      "source": [
        "#Q12 correct, 1521\n",
        "#1521\n",
        "#the index of the sentence in corpus most cosine-similar to our search phrase.\n",
        "search_phrases = ['Hatter speaks about tea and how it all began']\n",
        "#search_phrases = ['It is a wonderful book']\n",
        "losAlice = [' '.join(s) for s in nltk.corpus.gutenberg.sents('carroll-alice.txt')]\n",
        "losAlice = search_phrases + losAlice\n",
        "cvSmall = CountVectorizer(stop_words=stopword_list)\n",
        "smDT= cvSmall.fit_transform(losAlice)\n",
        "#mDT=smDT.toarray()\n",
        "tfidf_transformer=TfidfTransformer(smooth_idf=True,use_idf=True)\n",
        "mTI=tfidf_transformer.fit_transform(smDT)\n",
        "mTI=mTI.toarray()\n",
        "row_names=losAlice\n",
        "column_names=cvSmall.get_feature_names()\n",
        "df = pd.DataFrame(mTI, columns=column_names, index=row_names)\n",
        "\n",
        "#normalized_df=df/np.linalg.norm(df,axis=1)\n",
        "similarityMatrix=df.dot(df.T)/(np.linalg.norm(df,axis=1)*np.linalg.norm(df,axis=1))\n",
        "#similarityMatri=df.dot(df.T)\n",
        "#similarityMatrix=normalized_df.dot(normalized_df.T)\n",
        "#/(np.linalg.norm(df,axis=0)*np.linalg.norm(df,axis=0))\n",
        "#axis=1, norm over rows for each colums\n",
        "#axis=1, for each rwo, normilize for the colums----each colums is dimension\n",
        "\n",
        "\n",
        "#similarityMatrix.columns\n",
        "#similarityMatrix.iloc[0,1]\n",
        "maxElement = np.amax(similarityMatrix.iloc[0][1:])\n",
        "result = list(np.where(similarityMatrix.iloc[0] == maxElement))\n",
        "maxElement #203.55\n",
        "type(result)#1518\n",
        "print(result[0][0])\n",
        "similarityMatrix.iloc[0,1521]\n",
        "losAlice[result[0][0]]\n",
        "\n",
        "#below also works\n",
        "matrix_cosim_mTI_los_alice = cosine_similarity(mTI)\n",
        "\n",
        "df = pd.DataFrame(matrix_cosim_mTI_los_alice)\n",
        "temp=df[0].sort_values(ascending=False).index[1]\n",
        "temp\n",
        "\n",
        "#similarityMatrix"
      ],
      "execution_count": null,
      "outputs": [
        {
          "output_type": "execute_result",
          "data": {
            "text/plain": [
              "0.6214457545449842"
            ]
          },
          "metadata": {
            "tags": []
          },
          "execution_count": 19
        },
        {
          "output_type": "execute_result",
          "data": {
            "text/plain": [
              "list"
            ]
          },
          "metadata": {
            "tags": []
          },
          "execution_count": 19
        },
        {
          "output_type": "stream",
          "text": [
            "1521\n"
          ],
          "name": "stdout"
        },
        {
          "output_type": "execute_result",
          "data": {
            "text/plain": [
              "0.6214457545449842"
            ]
          },
          "metadata": {
            "tags": []
          },
          "execution_count": 19
        },
        {
          "output_type": "execute_result",
          "data": {
            "application/vnd.google.colaboratory.intrinsic+json": {
              "type": "string"
            },
            "text/plain": [
              "\"' It began with the tea ,' the Hatter replied .\""
            ]
          },
          "metadata": {
            "tags": []
          },
          "execution_count": 19
        },
        {
          "output_type": "execute_result",
          "data": {
            "text/plain": [
              "1521"
            ]
          },
          "metadata": {
            "tags": []
          },
          "execution_count": 19
        }
      ]
    },
    {
      "cell_type": "code",
      "metadata": {
        "id": "JMNTZ8TYBTj2",
        "colab": {
          "base_uri": "https://localhost:8080/",
          "height": 233
        },
        "outputId": "f6150436-61c0-444a-b2ee-7ddb6d6abfbd"
      },
      "source": [
        "#Q test linkage\n",
        "from scipy.cluster.hierarchy import dendrogram, linkage\n",
        "similarity_matrix = cosine_similarity(mTI)\n",
        "\n",
        "Z = linkage(similarity_matrix, 'ward')\n",
        "pd.DataFrame(Z, columns=['Document\\Cluster 1', 'Document\\Cluster 2',\n",
        "                         'Distance', 'Cluster Size'], dtype='object')\n"
      ],
      "execution_count": null,
      "outputs": [
        {
          "output_type": "execute_result",
          "data": {
            "text/html": [
              "<div>\n",
              "<style scoped>\n",
              "    .dataframe tbody tr th:only-of-type {\n",
              "        vertical-align: middle;\n",
              "    }\n",
              "\n",
              "    .dataframe tbody tr th {\n",
              "        vertical-align: top;\n",
              "    }\n",
              "\n",
              "    .dataframe thead th {\n",
              "        text-align: right;\n",
              "    }\n",
              "</style>\n",
              "<table border=\"1\" class=\"dataframe\">\n",
              "  <thead>\n",
              "    <tr style=\"text-align: right;\">\n",
              "      <th></th>\n",
              "      <th>Document\\Cluster 1</th>\n",
              "      <th>Document\\Cluster 2</th>\n",
              "      <th>Distance</th>\n",
              "      <th>Cluster Size</th>\n",
              "    </tr>\n",
              "  </thead>\n",
              "  <tbody>\n",
              "    <tr>\n",
              "      <th>0</th>\n",
              "      <td>20</td>\n",
              "      <td>36</td>\n",
              "      <td>0</td>\n",
              "      <td>2</td>\n",
              "    </tr>\n",
              "    <tr>\n",
              "      <th>1</th>\n",
              "      <td>69</td>\n",
              "      <td>1.7e+03</td>\n",
              "      <td>0</td>\n",
              "      <td>3</td>\n",
              "    </tr>\n",
              "    <tr>\n",
              "      <th>...</th>\n",
              "      <td>...</td>\n",
              "      <td>...</td>\n",
              "      <td>...</td>\n",
              "      <td>...</td>\n",
              "    </tr>\n",
              "    <tr>\n",
              "      <th>1701</th>\n",
              "      <td>1.8e+03</td>\n",
              "      <td>3.4e+03</td>\n",
              "      <td>26</td>\n",
              "      <td>5.3e+02</td>\n",
              "    </tr>\n",
              "    <tr>\n",
              "      <th>1702</th>\n",
              "      <td>3.4e+03</td>\n",
              "      <td>3.4e+03</td>\n",
              "      <td>31</td>\n",
              "      <td>1.7e+03</td>\n",
              "    </tr>\n",
              "  </tbody>\n",
              "</table>\n",
              "<p>1703 rows × 4 columns</p>\n",
              "</div>"
            ],
            "text/plain": [
              "     Document\\Cluster 1 Document\\Cluster 2 Distance Cluster Size\n",
              "0     20                 36                 0        2          \n",
              "1     69                 1.7e+03            0        3          \n",
              "...   ..                     ...           ..       ..          \n",
              "1701  1.8e+03            3.4e+03            26       5.3e+02    \n",
              "1702  3.4e+03            3.4e+03            31       1.7e+03    \n",
              "\n",
              "[1703 rows x 4 columns]"
            ]
          },
          "metadata": {
            "tags": []
          },
          "execution_count": 20
        }
      ]
    },
    {
      "cell_type": "code",
      "metadata": {
        "id": "4-MGvPGsUo2y",
        "colab": {
          "base_uri": "https://localhost:8080/",
          "height": 392
        },
        "outputId": "f82136fc-e0a0-4919-89ad-e48ac4634cf4"
      },
      "source": [
        "from sklearn.decomposition import LatentDirichletAllocation\n",
        "lda = LatentDirichletAllocation(n_components=3, max_iter=10000, random_state=0)\n",
        "dt_matrix = lda.fit_transform(mTI)\n",
        "features = pd.DataFrame(dt_matrix, columns=['T1', 'T2', 'T3'])\n",
        "features"
      ],
      "execution_count": null,
      "outputs": [
        {
          "output_type": "error",
          "ename": "KeyboardInterrupt",
          "evalue": "ignored",
          "traceback": [
            "\u001b[0;31m---------------------------------------------------------------------------\u001b[0m",
            "\u001b[0;31mKeyboardInterrupt\u001b[0m                         Traceback (most recent call last)",
            "\u001b[0;32m<ipython-input-22-07e0f5057fd9>\u001b[0m in \u001b[0;36m<module>\u001b[0;34m()\u001b[0m\n\u001b[1;32m      1\u001b[0m \u001b[0;32mfrom\u001b[0m \u001b[0msklearn\u001b[0m\u001b[0;34m.\u001b[0m\u001b[0mdecomposition\u001b[0m \u001b[0;32mimport\u001b[0m \u001b[0mLatentDirichletAllocation\u001b[0m\u001b[0;34m\u001b[0m\u001b[0;34m\u001b[0m\u001b[0m\n\u001b[1;32m      2\u001b[0m \u001b[0mlda\u001b[0m \u001b[0;34m=\u001b[0m \u001b[0mLatentDirichletAllocation\u001b[0m\u001b[0;34m(\u001b[0m\u001b[0mn_components\u001b[0m\u001b[0;34m=\u001b[0m\u001b[0;36m3\u001b[0m\u001b[0;34m,\u001b[0m \u001b[0mmax_iter\u001b[0m\u001b[0;34m=\u001b[0m\u001b[0;36m10000\u001b[0m\u001b[0;34m,\u001b[0m \u001b[0mrandom_state\u001b[0m\u001b[0;34m=\u001b[0m\u001b[0;36m0\u001b[0m\u001b[0;34m)\u001b[0m\u001b[0;34m\u001b[0m\u001b[0;34m\u001b[0m\u001b[0m\n\u001b[0;32m----> 3\u001b[0;31m \u001b[0mdt_matrix\u001b[0m \u001b[0;34m=\u001b[0m \u001b[0mlda\u001b[0m\u001b[0;34m.\u001b[0m\u001b[0mfit_transform\u001b[0m\u001b[0;34m(\u001b[0m\u001b[0mmTI\u001b[0m\u001b[0;34m)\u001b[0m\u001b[0;34m\u001b[0m\u001b[0;34m\u001b[0m\u001b[0m\n\u001b[0m\u001b[1;32m      4\u001b[0m \u001b[0mfeatures\u001b[0m \u001b[0;34m=\u001b[0m \u001b[0mpd\u001b[0m\u001b[0;34m.\u001b[0m\u001b[0mDataFrame\u001b[0m\u001b[0;34m(\u001b[0m\u001b[0mdt_matrix\u001b[0m\u001b[0;34m,\u001b[0m \u001b[0mcolumns\u001b[0m\u001b[0;34m=\u001b[0m\u001b[0;34m[\u001b[0m\u001b[0;34m'T1'\u001b[0m\u001b[0;34m,\u001b[0m \u001b[0;34m'T2'\u001b[0m\u001b[0;34m,\u001b[0m \u001b[0;34m'T3'\u001b[0m\u001b[0;34m]\u001b[0m\u001b[0;34m)\u001b[0m\u001b[0;34m\u001b[0m\u001b[0;34m\u001b[0m\u001b[0m\n\u001b[1;32m      5\u001b[0m \u001b[0mfeatures\u001b[0m\u001b[0;34m\u001b[0m\u001b[0;34m\u001b[0m\u001b[0m\n",
            "\u001b[0;32m/usr/local/lib/python3.6/dist-packages/sklearn/base.py\u001b[0m in \u001b[0;36mfit_transform\u001b[0;34m(self, X, y, **fit_params)\u001b[0m\n\u001b[1;32m    569\u001b[0m         \u001b[0;32mif\u001b[0m \u001b[0my\u001b[0m \u001b[0;32mis\u001b[0m \u001b[0;32mNone\u001b[0m\u001b[0;34m:\u001b[0m\u001b[0;34m\u001b[0m\u001b[0;34m\u001b[0m\u001b[0m\n\u001b[1;32m    570\u001b[0m             \u001b[0;31m# fit method of arity 1 (unsupervised transformation)\u001b[0m\u001b[0;34m\u001b[0m\u001b[0;34m\u001b[0m\u001b[0;34m\u001b[0m\u001b[0m\n\u001b[0;32m--> 571\u001b[0;31m             \u001b[0;32mreturn\u001b[0m \u001b[0mself\u001b[0m\u001b[0;34m.\u001b[0m\u001b[0mfit\u001b[0m\u001b[0;34m(\u001b[0m\u001b[0mX\u001b[0m\u001b[0;34m,\u001b[0m \u001b[0;34m**\u001b[0m\u001b[0mfit_params\u001b[0m\u001b[0;34m)\u001b[0m\u001b[0;34m.\u001b[0m\u001b[0mtransform\u001b[0m\u001b[0;34m(\u001b[0m\u001b[0mX\u001b[0m\u001b[0;34m)\u001b[0m\u001b[0;34m\u001b[0m\u001b[0;34m\u001b[0m\u001b[0m\n\u001b[0m\u001b[1;32m    572\u001b[0m         \u001b[0;32melse\u001b[0m\u001b[0;34m:\u001b[0m\u001b[0;34m\u001b[0m\u001b[0;34m\u001b[0m\u001b[0m\n\u001b[1;32m    573\u001b[0m             \u001b[0;31m# fit method of arity 2 (supervised transformation)\u001b[0m\u001b[0;34m\u001b[0m\u001b[0;34m\u001b[0m\u001b[0;34m\u001b[0m\u001b[0m\n",
            "\u001b[0;32m/usr/local/lib/python3.6/dist-packages/sklearn/decomposition/_lda.py\u001b[0m in \u001b[0;36mfit\u001b[0;34m(self, X, y)\u001b[0m\n\u001b[1;32m    566\u001b[0m                     \u001b[0;31m# batch update\u001b[0m\u001b[0;34m\u001b[0m\u001b[0;34m\u001b[0m\u001b[0;34m\u001b[0m\u001b[0m\n\u001b[1;32m    567\u001b[0m                     self._em_step(X, total_samples=n_samples,\n\u001b[0;32m--> 568\u001b[0;31m                                   batch_update=True, parallel=parallel)\n\u001b[0m\u001b[1;32m    569\u001b[0m \u001b[0;34m\u001b[0m\u001b[0m\n\u001b[1;32m    570\u001b[0m                 \u001b[0;31m# check perplexity\u001b[0m\u001b[0;34m\u001b[0m\u001b[0;34m\u001b[0m\u001b[0;34m\u001b[0m\u001b[0m\n",
            "\u001b[0;32m/usr/local/lib/python3.6/dist-packages/sklearn/decomposition/_lda.py\u001b[0m in \u001b[0;36m_em_step\u001b[0;34m(self, X, total_samples, batch_update, parallel)\u001b[0m\n\u001b[1;32m    446\u001b[0m         \u001b[0;31m# E-step\u001b[0m\u001b[0;34m\u001b[0m\u001b[0;34m\u001b[0m\u001b[0;34m\u001b[0m\u001b[0m\n\u001b[1;32m    447\u001b[0m         _, suff_stats = self._e_step(X, cal_sstats=True, random_init=True,\n\u001b[0;32m--> 448\u001b[0;31m                                      parallel=parallel)\n\u001b[0m\u001b[1;32m    449\u001b[0m \u001b[0;34m\u001b[0m\u001b[0m\n\u001b[1;32m    450\u001b[0m         \u001b[0;31m# M-step\u001b[0m\u001b[0;34m\u001b[0m\u001b[0;34m\u001b[0m\u001b[0;34m\u001b[0m\u001b[0m\n",
            "\u001b[0;32m/usr/local/lib/python3.6/dist-packages/sklearn/decomposition/_lda.py\u001b[0m in \u001b[0;36m_e_step\u001b[0;34m(self, X, cal_sstats, random_init, parallel)\u001b[0m\n\u001b[1;32m    399\u001b[0m                                               \u001b[0mself\u001b[0m\u001b[0;34m.\u001b[0m\u001b[0mmean_change_tol\u001b[0m\u001b[0;34m,\u001b[0m \u001b[0mcal_sstats\u001b[0m\u001b[0;34m,\u001b[0m\u001b[0;34m\u001b[0m\u001b[0;34m\u001b[0m\u001b[0m\n\u001b[1;32m    400\u001b[0m                                               random_state)\n\u001b[0;32m--> 401\u001b[0;31m             for idx_slice in gen_even_slices(X.shape[0], n_jobs))\n\u001b[0m\u001b[1;32m    402\u001b[0m \u001b[0;34m\u001b[0m\u001b[0m\n\u001b[1;32m    403\u001b[0m         \u001b[0;31m# merge result\u001b[0m\u001b[0;34m\u001b[0m\u001b[0;34m\u001b[0m\u001b[0;34m\u001b[0m\u001b[0m\n",
            "\u001b[0;32m/usr/local/lib/python3.6/dist-packages/joblib/parallel.py\u001b[0m in \u001b[0;36m__call__\u001b[0;34m(self, iterable)\u001b[0m\n\u001b[1;32m   1027\u001b[0m             \u001b[0;31m# remaining jobs.\u001b[0m\u001b[0;34m\u001b[0m\u001b[0;34m\u001b[0m\u001b[0;34m\u001b[0m\u001b[0m\n\u001b[1;32m   1028\u001b[0m             \u001b[0mself\u001b[0m\u001b[0;34m.\u001b[0m\u001b[0m_iterating\u001b[0m \u001b[0;34m=\u001b[0m \u001b[0;32mFalse\u001b[0m\u001b[0;34m\u001b[0m\u001b[0;34m\u001b[0m\u001b[0m\n\u001b[0;32m-> 1029\u001b[0;31m             \u001b[0;32mif\u001b[0m \u001b[0mself\u001b[0m\u001b[0;34m.\u001b[0m\u001b[0mdispatch_one_batch\u001b[0m\u001b[0;34m(\u001b[0m\u001b[0miterator\u001b[0m\u001b[0;34m)\u001b[0m\u001b[0;34m:\u001b[0m\u001b[0;34m\u001b[0m\u001b[0;34m\u001b[0m\u001b[0m\n\u001b[0m\u001b[1;32m   1030\u001b[0m                 \u001b[0mself\u001b[0m\u001b[0;34m.\u001b[0m\u001b[0m_iterating\u001b[0m \u001b[0;34m=\u001b[0m \u001b[0mself\u001b[0m\u001b[0;34m.\u001b[0m\u001b[0m_original_iterator\u001b[0m \u001b[0;32mis\u001b[0m \u001b[0;32mnot\u001b[0m \u001b[0;32mNone\u001b[0m\u001b[0;34m\u001b[0m\u001b[0;34m\u001b[0m\u001b[0m\n\u001b[1;32m   1031\u001b[0m \u001b[0;34m\u001b[0m\u001b[0m\n",
            "\u001b[0;32m/usr/local/lib/python3.6/dist-packages/joblib/parallel.py\u001b[0m in \u001b[0;36mdispatch_one_batch\u001b[0;34m(self, iterator)\u001b[0m\n\u001b[1;32m    845\u001b[0m                 \u001b[0;32mreturn\u001b[0m \u001b[0;32mFalse\u001b[0m\u001b[0;34m\u001b[0m\u001b[0;34m\u001b[0m\u001b[0m\n\u001b[1;32m    846\u001b[0m             \u001b[0;32melse\u001b[0m\u001b[0;34m:\u001b[0m\u001b[0;34m\u001b[0m\u001b[0;34m\u001b[0m\u001b[0m\n\u001b[0;32m--> 847\u001b[0;31m                 \u001b[0mself\u001b[0m\u001b[0;34m.\u001b[0m\u001b[0m_dispatch\u001b[0m\u001b[0;34m(\u001b[0m\u001b[0mtasks\u001b[0m\u001b[0;34m)\u001b[0m\u001b[0;34m\u001b[0m\u001b[0;34m\u001b[0m\u001b[0m\n\u001b[0m\u001b[1;32m    848\u001b[0m                 \u001b[0;32mreturn\u001b[0m \u001b[0;32mTrue\u001b[0m\u001b[0;34m\u001b[0m\u001b[0;34m\u001b[0m\u001b[0m\n\u001b[1;32m    849\u001b[0m \u001b[0;34m\u001b[0m\u001b[0m\n",
            "\u001b[0;32m/usr/local/lib/python3.6/dist-packages/joblib/parallel.py\u001b[0m in \u001b[0;36m_dispatch\u001b[0;34m(self, batch)\u001b[0m\n\u001b[1;32m    763\u001b[0m         \u001b[0;32mwith\u001b[0m \u001b[0mself\u001b[0m\u001b[0;34m.\u001b[0m\u001b[0m_lock\u001b[0m\u001b[0;34m:\u001b[0m\u001b[0;34m\u001b[0m\u001b[0;34m\u001b[0m\u001b[0m\n\u001b[1;32m    764\u001b[0m             \u001b[0mjob_idx\u001b[0m \u001b[0;34m=\u001b[0m \u001b[0mlen\u001b[0m\u001b[0;34m(\u001b[0m\u001b[0mself\u001b[0m\u001b[0;34m.\u001b[0m\u001b[0m_jobs\u001b[0m\u001b[0;34m)\u001b[0m\u001b[0;34m\u001b[0m\u001b[0;34m\u001b[0m\u001b[0m\n\u001b[0;32m--> 765\u001b[0;31m             \u001b[0mjob\u001b[0m \u001b[0;34m=\u001b[0m \u001b[0mself\u001b[0m\u001b[0;34m.\u001b[0m\u001b[0m_backend\u001b[0m\u001b[0;34m.\u001b[0m\u001b[0mapply_async\u001b[0m\u001b[0;34m(\u001b[0m\u001b[0mbatch\u001b[0m\u001b[0;34m,\u001b[0m \u001b[0mcallback\u001b[0m\u001b[0;34m=\u001b[0m\u001b[0mcb\u001b[0m\u001b[0;34m)\u001b[0m\u001b[0;34m\u001b[0m\u001b[0;34m\u001b[0m\u001b[0m\n\u001b[0m\u001b[1;32m    766\u001b[0m             \u001b[0;31m# A job can complete so quickly than its callback is\u001b[0m\u001b[0;34m\u001b[0m\u001b[0;34m\u001b[0m\u001b[0;34m\u001b[0m\u001b[0m\n\u001b[1;32m    767\u001b[0m             \u001b[0;31m# called before we get here, causing self._jobs to\u001b[0m\u001b[0;34m\u001b[0m\u001b[0;34m\u001b[0m\u001b[0;34m\u001b[0m\u001b[0m\n",
            "\u001b[0;32m/usr/local/lib/python3.6/dist-packages/joblib/_parallel_backends.py\u001b[0m in \u001b[0;36mapply_async\u001b[0;34m(self, func, callback)\u001b[0m\n\u001b[1;32m    206\u001b[0m     \u001b[0;32mdef\u001b[0m \u001b[0mapply_async\u001b[0m\u001b[0;34m(\u001b[0m\u001b[0mself\u001b[0m\u001b[0;34m,\u001b[0m \u001b[0mfunc\u001b[0m\u001b[0;34m,\u001b[0m \u001b[0mcallback\u001b[0m\u001b[0;34m=\u001b[0m\u001b[0;32mNone\u001b[0m\u001b[0;34m)\u001b[0m\u001b[0;34m:\u001b[0m\u001b[0;34m\u001b[0m\u001b[0;34m\u001b[0m\u001b[0m\n\u001b[1;32m    207\u001b[0m         \u001b[0;34m\"\"\"Schedule a func to be run\"\"\"\u001b[0m\u001b[0;34m\u001b[0m\u001b[0;34m\u001b[0m\u001b[0m\n\u001b[0;32m--> 208\u001b[0;31m         \u001b[0mresult\u001b[0m \u001b[0;34m=\u001b[0m \u001b[0mImmediateResult\u001b[0m\u001b[0;34m(\u001b[0m\u001b[0mfunc\u001b[0m\u001b[0;34m)\u001b[0m\u001b[0;34m\u001b[0m\u001b[0;34m\u001b[0m\u001b[0m\n\u001b[0m\u001b[1;32m    209\u001b[0m         \u001b[0;32mif\u001b[0m \u001b[0mcallback\u001b[0m\u001b[0;34m:\u001b[0m\u001b[0;34m\u001b[0m\u001b[0;34m\u001b[0m\u001b[0m\n\u001b[1;32m    210\u001b[0m             \u001b[0mcallback\u001b[0m\u001b[0;34m(\u001b[0m\u001b[0mresult\u001b[0m\u001b[0;34m)\u001b[0m\u001b[0;34m\u001b[0m\u001b[0;34m\u001b[0m\u001b[0m\n",
            "\u001b[0;32m/usr/local/lib/python3.6/dist-packages/joblib/_parallel_backends.py\u001b[0m in \u001b[0;36m__init__\u001b[0;34m(self, batch)\u001b[0m\n\u001b[1;32m    570\u001b[0m         \u001b[0;31m# Don't delay the application, to avoid keeping the input\u001b[0m\u001b[0;34m\u001b[0m\u001b[0;34m\u001b[0m\u001b[0;34m\u001b[0m\u001b[0m\n\u001b[1;32m    571\u001b[0m         \u001b[0;31m# arguments in memory\u001b[0m\u001b[0;34m\u001b[0m\u001b[0;34m\u001b[0m\u001b[0;34m\u001b[0m\u001b[0m\n\u001b[0;32m--> 572\u001b[0;31m         \u001b[0mself\u001b[0m\u001b[0;34m.\u001b[0m\u001b[0mresults\u001b[0m \u001b[0;34m=\u001b[0m \u001b[0mbatch\u001b[0m\u001b[0;34m(\u001b[0m\u001b[0;34m)\u001b[0m\u001b[0;34m\u001b[0m\u001b[0;34m\u001b[0m\u001b[0m\n\u001b[0m\u001b[1;32m    573\u001b[0m \u001b[0;34m\u001b[0m\u001b[0m\n\u001b[1;32m    574\u001b[0m     \u001b[0;32mdef\u001b[0m \u001b[0mget\u001b[0m\u001b[0;34m(\u001b[0m\u001b[0mself\u001b[0m\u001b[0;34m)\u001b[0m\u001b[0;34m:\u001b[0m\u001b[0;34m\u001b[0m\u001b[0;34m\u001b[0m\u001b[0m\n",
            "\u001b[0;32m/usr/local/lib/python3.6/dist-packages/joblib/parallel.py\u001b[0m in \u001b[0;36m__call__\u001b[0;34m(self)\u001b[0m\n\u001b[1;32m    251\u001b[0m         \u001b[0;32mwith\u001b[0m \u001b[0mparallel_backend\u001b[0m\u001b[0;34m(\u001b[0m\u001b[0mself\u001b[0m\u001b[0;34m.\u001b[0m\u001b[0m_backend\u001b[0m\u001b[0;34m,\u001b[0m \u001b[0mn_jobs\u001b[0m\u001b[0;34m=\u001b[0m\u001b[0mself\u001b[0m\u001b[0;34m.\u001b[0m\u001b[0m_n_jobs\u001b[0m\u001b[0;34m)\u001b[0m\u001b[0;34m:\u001b[0m\u001b[0;34m\u001b[0m\u001b[0;34m\u001b[0m\u001b[0m\n\u001b[1;32m    252\u001b[0m             return [func(*args, **kwargs)\n\u001b[0;32m--> 253\u001b[0;31m                     for func, args, kwargs in self.items]\n\u001b[0m\u001b[1;32m    254\u001b[0m \u001b[0;34m\u001b[0m\u001b[0m\n\u001b[1;32m    255\u001b[0m     \u001b[0;32mdef\u001b[0m \u001b[0m__reduce__\u001b[0m\u001b[0;34m(\u001b[0m\u001b[0mself\u001b[0m\u001b[0;34m)\u001b[0m\u001b[0;34m:\u001b[0m\u001b[0;34m\u001b[0m\u001b[0;34m\u001b[0m\u001b[0m\n",
            "\u001b[0;32m/usr/local/lib/python3.6/dist-packages/joblib/parallel.py\u001b[0m in \u001b[0;36m<listcomp>\u001b[0;34m(.0)\u001b[0m\n\u001b[1;32m    251\u001b[0m         \u001b[0;32mwith\u001b[0m \u001b[0mparallel_backend\u001b[0m\u001b[0;34m(\u001b[0m\u001b[0mself\u001b[0m\u001b[0;34m.\u001b[0m\u001b[0m_backend\u001b[0m\u001b[0;34m,\u001b[0m \u001b[0mn_jobs\u001b[0m\u001b[0;34m=\u001b[0m\u001b[0mself\u001b[0m\u001b[0;34m.\u001b[0m\u001b[0m_n_jobs\u001b[0m\u001b[0;34m)\u001b[0m\u001b[0;34m:\u001b[0m\u001b[0;34m\u001b[0m\u001b[0;34m\u001b[0m\u001b[0m\n\u001b[1;32m    252\u001b[0m             return [func(*args, **kwargs)\n\u001b[0;32m--> 253\u001b[0;31m                     for func, args, kwargs in self.items]\n\u001b[0m\u001b[1;32m    254\u001b[0m \u001b[0;34m\u001b[0m\u001b[0m\n\u001b[1;32m    255\u001b[0m     \u001b[0;32mdef\u001b[0m \u001b[0m__reduce__\u001b[0m\u001b[0;34m(\u001b[0m\u001b[0mself\u001b[0m\u001b[0;34m)\u001b[0m\u001b[0;34m:\u001b[0m\u001b[0;34m\u001b[0m\u001b[0;34m\u001b[0m\u001b[0m\n",
            "\u001b[0;32m/usr/local/lib/python3.6/dist-packages/sklearn/decomposition/_lda.py\u001b[0m in \u001b[0;36m_update_doc_distribution\u001b[0;34m(X, exp_topic_word_distr, doc_topic_prior, max_iters, mean_change_tol, cal_sstats, random_state)\u001b[0m\n\u001b[1;32m    112\u001b[0m             \u001b[0;31m# The optimal phi_{dwk} is proportional to\u001b[0m\u001b[0;34m\u001b[0m\u001b[0;34m\u001b[0m\u001b[0;34m\u001b[0m\u001b[0m\n\u001b[1;32m    113\u001b[0m             \u001b[0;31m# exp(E[log(theta_{dk})]) * exp(E[log(beta_{dw})]).\u001b[0m\u001b[0;34m\u001b[0m\u001b[0;34m\u001b[0m\u001b[0;34m\u001b[0m\u001b[0m\n\u001b[0;32m--> 114\u001b[0;31m             \u001b[0mnorm_phi\u001b[0m \u001b[0;34m=\u001b[0m \u001b[0mnp\u001b[0m\u001b[0;34m.\u001b[0m\u001b[0mdot\u001b[0m\u001b[0;34m(\u001b[0m\u001b[0mexp_doc_topic_d\u001b[0m\u001b[0;34m,\u001b[0m \u001b[0mexp_topic_word_d\u001b[0m\u001b[0;34m)\u001b[0m \u001b[0;34m+\u001b[0m \u001b[0mEPS\u001b[0m\u001b[0;34m\u001b[0m\u001b[0;34m\u001b[0m\u001b[0m\n\u001b[0m\u001b[1;32m    115\u001b[0m \u001b[0;34m\u001b[0m\u001b[0m\n\u001b[1;32m    116\u001b[0m             doc_topic_d = (exp_doc_topic_d *\n",
            "\u001b[0;31mKeyboardInterrupt\u001b[0m: "
          ]
        }
      ]
    },
    {
      "cell_type": "code",
      "metadata": {
        "id": "LlSHJTk1ropI",
        "colab": {
          "base_uri": "https://localhost:8080/",
          "height": 34
        },
        "outputId": "fec0c9b5-beea-4c94-89ad-1ea9c9671041"
      },
      "source": [
        "#wvMap.vector_size\n",
        "#len(wvMap.vocab.keys())\n",
        "word2vec_vocabulary=wvMap.vocab.keys()"
      ],
      "execution_count": null,
      "outputs": [
        {
          "output_type": "execute_result",
          "data": {
            "text/plain": [
              "400000"
            ]
          },
          "metadata": {
            "tags": []
          },
          "execution_count": 254
        }
      ]
    },
    {
      "cell_type": "code",
      "metadata": {
        "id": "v4tnx2cvd4Ia",
        "colab": {
          "base_uri": "https://localhost:8080/",
          "height": 34
        },
        "outputId": "fa80ff81-d125-4d9c-c41a-4d0b221348b6"
      },
      "source": [
        "#Q13 correct, 0.98\n",
        "#Use words from CountVectorizer and words from word2vec vocabulary in this exercise.\n",
        "#To submit: fraction of words in corpus that are in word2vec\n",
        "#import gensim.downloader as api\n",
        "#wvMap = api.load(\"glove-wiki-gigaword-100\")\n",
        "losAlice = [' '.join(s) for s in nltk.corpus.gutenberg.sents('carroll-alice.txt')]\n",
        "#cvSmall = CountVectorizer(stop_words=stopword_list,token_pattern=r'(?u)\\b[\\w]{1,}\\b')\n",
        "cvSmall = CountVectorizer(stop_words=stopword_list)\n",
        "smDT= cvSmall.fit_transform(losAlice)\n",
        "word2vecc_vabulary=wvMap.vocab.keys()\n",
        "Alice_vocabulary=cvSmall.get_feature_names()\n",
        "answer=len(set(Alice_vocabulary).intersection(set(word2vecc_vabulary)))/len(set(Alice_vocabulary))\n",
        "answer\n",
        "\n",
        "#len(set(Alice_vocabulary))\n",
        "#len(set(word2vecc_vabulary))"
      ],
      "execution_count": null,
      "outputs": [
        {
          "output_type": "execute_result",
          "data": {
            "text/plain": [
              "0.9880165289256199"
            ]
          },
          "metadata": {
            "tags": []
          },
          "execution_count": 43
        }
      ]
    },
    {
      "cell_type": "code",
      "metadata": {
        "id": "DQWhDT4R6dUG",
        "colab": {
          "base_uri": "https://localhost:8080/",
          "height": 89
        },
        "outputId": "b9eccb3b-0b79-44f3-961f-c1521de1b619"
      },
      "source": [
        "#Q14,correct!\n",
        "#cat,dog,cherry,red,red,drink,king,ann\n",
        "#top1=wvMap.most_similar('python')\n",
        "#dict(top1).keys()\n",
        "A_voc=list(set(Alice_vocabulary).intersection(set(word2vecc_vabulary)))\n",
        "myWords = ['python','cat','apple','orange','yellow','tea','queen','alice']\n",
        "#return the first in a list that is in a set\n",
        "def FirstWd(wds, Simlist):\n",
        "  for wd in Simlist:\n",
        "    if wd in wds:\n",
        "      return wd      \n",
        "\n",
        "def finSimilar(wds):\n",
        "  simlarWord=[]\n",
        "  for wd in wds:\n",
        "    catSimilar=wvMap.most_similar(wd, topn=len(word2vecc_vabulary)) # a list, with pairs that have names and their similarity coefficinet with cat.\n",
        "    top1=list(dict(catSimilar).keys())\n",
        "    top=FirstWd(A_voc, top1)\n",
        "    simlarWord.append(top)\n",
        "  return simlarWord  \n",
        "\n",
        "answer=finSimilar(myWords)\n",
        "answer\n",
        "answerstr=','.join(answer)\n",
        "answerstr\n"
      ],
      "execution_count": null,
      "outputs": [
        {
          "output_type": "stream",
          "text": [
            "/usr/local/lib/python3.6/dist-packages/gensim/matutils.py:737: FutureWarning: Conversion of the second argument of issubdtype from `int` to `np.signedinteger` is deprecated. In future, it will be treated as `np.int64 == np.dtype(int).type`.\n",
            "  if np.issubdtype(vec.dtype, np.int):\n"
          ],
          "name": "stderr"
        },
        {
          "output_type": "execute_result",
          "data": {
            "text/plain": [
              "['cat', 'dog', 'cherry', 'red', 'red', 'drink', 'king', 'ann']"
            ]
          },
          "metadata": {
            "tags": []
          },
          "execution_count": 47
        },
        {
          "output_type": "execute_result",
          "data": {
            "application/vnd.google.colaboratory.intrinsic+json": {
              "type": "string"
            },
            "text/plain": [
              "'cat,dog,cherry,red,red,drink,king,ann'"
            ]
          },
          "metadata": {
            "tags": []
          },
          "execution_count": 47
        }
      ]
    },
    {
      "cell_type": "code",
      "metadata": {
        "id": "sqZIAyjSBt0M",
        "colab": {
          "base_uri": "https://localhost:8080/",
          "height": 52
        },
        "outputId": "c03bf9d3-e284-4137-ec21-da2dd9620887"
      },
      "source": [
        "#Q14\n",
        "#For all words in CountVectorer's vocab, compute cosine similarities \n",
        "#with the word \"python\" and choose the top1 word (that Alice would know in her world).\n",
        "#wvMap = api.load(\"glove-wiki-gigaword-100\") \n",
        "#Alice_vocabulary=cvSmall.get_feature_names()\n",
        "word2vecc_vabulary=wvMap.vocab.keys()\n",
        "myWords = ['python','cat','apple','orange','yellow','tea','queen','alice']\n",
        "def CosSimilar(wds,wd1):\n",
        "  CosSim=0\n",
        "  SimMaxWord=''\n",
        "  vecOrange=wvMap[wd1]\n",
        "  for wd in wds:\n",
        "    vecApple=wvMap[wd]\n",
        "    Apple_Orange_dot=vecApple.dot(vecOrange) /(np.linalg.norm(vecApple)*np.linalg.norm(vecOrange))\n",
        "    if CosSim <= Apple_Orange_dot:\n",
        "      CosSim=Apple_Orange_dot\n",
        "      SimMaxWord=wd\n",
        "      #print([SimMaxWord,CosSim ] )\n",
        "  return [SimMaxWord,CosSim ] \n",
        "\n",
        "A_voc=list(set(Alice_vocabulary).intersection(set(word2vecc_vabulary)))\n",
        "\n",
        "def CosSimilarMyWords(wds1,wds2):\n",
        "  toplist=[]\n",
        "  corr=[]\n",
        "  for wd in wds2:\n",
        "    answer=CosSimilar(wds1,wd)   \n",
        "    toplist.append(answer[0])\n",
        "    corr.append(answer[1])\n",
        "\n",
        "  return [toplist,corr] \n",
        "#myWords=['happy','peace','quite']\n",
        "answer=CosSimilarMyWords(A_voc,myWords)\n",
        "answer\n",
        "answerstr=','.join(answer[0])\n",
        "answerstr\n",
        "\n",
        "CosSimilar(A_voc,'python')"
      ],
      "execution_count": null,
      "outputs": [
        {
          "output_type": "execute_result",
          "data": {
            "text/plain": [
              "[['cat', 'cat', 'apple', 'orange', 'red', 'tea', 'queen', 'alice'],\n",
              " [0.41910973, 1.0, 1.0, 1.0, 0.8597684, 1.0, 1.0, 1.0]]"
            ]
          },
          "metadata": {
            "tags": []
          },
          "execution_count": 169
        },
        {
          "output_type": "execute_result",
          "data": {
            "application/vnd.google.colaboratory.intrinsic+json": {
              "type": "string"
            },
            "text/plain": [
              "'cat,cat,apple,orange,red,tea,queen,alice'"
            ]
          },
          "metadata": {
            "tags": []
          },
          "execution_count": 169
        },
        {
          "output_type": "execute_result",
          "data": {
            "text/plain": [
              "['cat', 0.41910973]"
            ]
          },
          "metadata": {
            "tags": []
          },
          "execution_count": 169
        }
      ]
    },
    {
      "cell_type": "code",
      "metadata": {
        "id": "kBAPMSqt6JH7",
        "colab": {
          "base_uri": "https://localhost:8080/",
          "height": 51
        },
        "outputId": "949804a4-db11-4263-b0ba-73235dd0697c"
      },
      "source": [
        "cosine_similarity([wvMap['apple'], wvMap['apple']])\n"
      ],
      "execution_count": null,
      "outputs": [
        {
          "output_type": "execute_result",
          "data": {
            "text/plain": [
              "array([[1., 1.],\n",
              "       [1., 1.]], dtype=float32)"
            ]
          },
          "metadata": {
            "tags": []
          },
          "execution_count": 58
        }
      ]
    },
    {
      "cell_type": "code",
      "metadata": {
        "id": "PzoP_LTypntm",
        "colab": {
          "base_uri": "https://localhost:8080/",
          "height": 136
        },
        "outputId": "1bd3f4ba-a0be-468a-f267-ddff5d6e98e9"
      },
      "source": [
        "mDT_np = np.array(mDT)\n",
        "mDT_np"
      ],
      "execution_count": null,
      "outputs": [
        {
          "output_type": "execute_result",
          "data": {
            "text/plain": [
              "array([[0, 0, 1, 0, 1, 0],\n",
              "       [0, 1, 0, 0, 1, 0],\n",
              "       [0, 0, 0, 0, 1, 0],\n",
              "       [1, 0, 1, 1, 1, 0],\n",
              "       [1, 0, 1, 1, 0, 0],\n",
              "       [1, 0, 0, 1, 0, 1],\n",
              "       [1, 0, 0, 1, 0, 0]])"
            ]
          },
          "metadata": {
            "tags": []
          },
          "execution_count": 15
        }
      ]
    },
    {
      "cell_type": "code",
      "metadata": {
        "id": "OK5pAMsSpyNl",
        "colab": {
          "base_uri": "https://localhost:8080/",
          "height": 136
        },
        "outputId": "32581d8b-a5fd-4e17-862c-46560633c7e7"
      },
      "source": [
        "filter = mDT_np == 0\n",
        "filter\n",
        "# sum(mDT[filter])\n",
        "sum(filter).sum()"
      ],
      "execution_count": null,
      "outputs": [
        {
          "output_type": "execute_result",
          "data": {
            "text/plain": [
              "array([[ True,  True, False,  True, False,  True],\n",
              "       [ True, False,  True,  True, False,  True],\n",
              "       [ True,  True,  True,  True, False,  True],\n",
              "       [False,  True, False, False, False,  True],\n",
              "       [False,  True, False, False,  True,  True],\n",
              "       [False,  True,  True, False,  True, False],\n",
              "       [False,  True,  True, False,  True,  True]])"
            ]
          },
          "metadata": {
            "tags": []
          },
          "execution_count": 45
        },
        {
          "output_type": "execute_result",
          "data": {
            "text/plain": [
              "25"
            ]
          },
          "metadata": {
            "tags": []
          },
          "execution_count": 45
        }
      ]
    },
    {
      "cell_type": "code",
      "metadata": {
        "id": "kT4jybf5p43F",
        "colab": {
          "base_uri": "https://localhost:8080/",
          "height": 51
        },
        "outputId": "edb140fa-43cc-404f-be16-96f5c9a641df"
      },
      "source": [
        "x = np.matrix([[1, 2,3], [4, 3,6]])\n",
        "norms=np.linalg.norm(x,axis=1)\n",
        "\n",
        "x/norms[:,None]"
      ],
      "execution_count": null,
      "outputs": [
        {
          "output_type": "execute_result",
          "data": {
            "text/plain": [
              "matrix([[0.2673, 0.5345, 0.8018],\n",
              "        [0.5121, 0.3841, 0.7682]])"
            ]
          },
          "metadata": {
            "tags": []
          },
          "execution_count": 57
        }
      ]
    }
  ]
}